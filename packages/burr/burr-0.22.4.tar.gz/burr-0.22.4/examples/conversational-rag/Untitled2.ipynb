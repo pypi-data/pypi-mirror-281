{
 "cells": [
  {
   "cell_type": "code",
   "execution_count": 4,
   "id": "ba239b3c-ab4e-485e-93b4-ae77dafdb933",
   "metadata": {},
   "outputs": [],
   "source": [
    "from burr.core import ApplicationBuilder, action, State\n",
    "\n",
    "@action(reads=[\"l\"], writes=[\"l\"])\n",
    "def foo(state: State) -> tuple[dict, State]:\n",
    "    state[\"l\"][\"foo\"].append(\"bar\")\n",
    "    return {}, state\n",
    "\n",
    "app = ApplicationBuilder().with_actions(foo).with_state(l=[]).with_transitions().with_entrypoint(\"foo\").build()"
   ]
  },
  {
   "cell_type": "code",
   "execution_count": null,
   "id": "71d7c0d9-b5f8-4274-a7ac-fac4d4ad8f6b",
   "metadata": {},
   "outputs": [],
   "source": []
  },
  {
   "cell_type": "code",
   "execution_count": null,
   "id": "c2ab04c7-eaf1-4251-b603-6f1b2dd67482",
   "metadata": {},
   "outputs": [],
   "source": [
    "app.run(halt_after"
   ]
  }
 ],
 "metadata": {
  "kernelspec": {
   "display_name": "Python 3 (ipykernel)",
   "language": "python",
   "name": "python3"
  },
  "language_info": {
   "codemirror_mode": {
    "name": "ipython",
    "version": 3
   },
   "file_extension": ".py",
   "mimetype": "text/x-python",
   "name": "python",
   "nbconvert_exporter": "python",
   "pygments_lexer": "ipython3",
   "version": "3.11.6"
  }
 },
 "nbformat": 4,
 "nbformat_minor": 5
}

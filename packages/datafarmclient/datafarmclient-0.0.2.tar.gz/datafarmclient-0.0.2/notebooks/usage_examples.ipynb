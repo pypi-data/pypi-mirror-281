{
 "cells": [
  {
   "attachments": {},
   "cell_type": "markdown",
   "metadata": {},
   "source": [
    "# Datafarm client usage examples"
   ]
  },
  {
   "cell_type": "code",
   "execution_count": 1,
   "metadata": {},
   "outputs": [],
   "source": [
    "import datetime\n",
    "import os\n",
    "import json\n",
    "\n",
    "import pandas as pd\n",
    "from requests import HTTPError\n",
    "from dotenv import load_dotenv\n",
    "from datafarmclient.base import DatafarmClient\n",
    "\n",
    "load_dotenv()\n",
    "api_url = os.getenv(\"DATAFARM_API_URL\")\n",
    "api_key = os.getenv(\"DATAFARM_API_KEY\")\n",
    "assert api_url is not None\n",
    "assert api_key is not None\n",
    "repo = DatafarmClient(api_url=api_url)\n",
    "repo.login(api_key=api_key)"
   ]
  },
  {
   "attachments": {},
   "cell_type": "markdown",
   "metadata": {},
   "source": [
    "## Variables\n",
    "You can access and set variables in Datafarm using the client.\n"
   ]
  },
  {
   "attachments": {},
   "cell_type": "markdown",
   "metadata": {},
   "source": [
    "### Get and set variables\n",
    "You can specify a variable name and value to set a variable in Datafarm."
   ]
  },
  {
   "cell_type": "code",
   "execution_count": null,
   "metadata": {},
   "outputs": [],
   "source": [
    "res = repo.set_variable(name=\"olsen\", value=4)\n",
    "repo.get_variable(name=\"olsen\")"
   ]
  },
  {
   "cell_type": "code",
   "execution_count": null,
   "metadata": {},
   "outputs": [],
   "source": [
    "res = repo.set_variable(name=\"olsen\", value=\"hello\")\n",
    "repo.get_variable(name=\"olsen\")"
   ]
  },
  {
   "cell_type": "code",
   "execution_count": null,
   "metadata": {},
   "outputs": [],
   "source": [
    "res = repo.set_variable(name=\"olsen\", value=False)\n",
    "repo.get_variable(name=\"olsen\")"
   ]
  },
  {
   "cell_type": "code",
   "execution_count": null,
   "metadata": {},
   "outputs": [],
   "source": [
    "res = repo.set_variable(name=\"olsen\", value=datetime.datetime.now())\n",
    "repo.get_variable(name=\"olsen\")"
   ]
  },
  {
   "attachments": {},
   "cell_type": "markdown",
   "metadata": {},
   "source": [
    "The type of the variable is inferred from the value or can optionally be specified in the `variable_type` argument."
   ]
  },
  {
   "cell_type": "code",
   "execution_count": null,
   "metadata": {},
   "outputs": [],
   "source": [
    "res = repo.set_variable(name=\"olsen\", value=\"20200101\", variable_type=\"datetime\")\n",
    "repo.get_variable(name=\"olsen\")"
   ]
  },
  {
   "attachments": {},
   "cell_type": "markdown",
   "metadata": {},
   "source": [
    "### Object variables\n",
    "You can also assing objects (files) to variables using `get_object_variable` and `set_object_variable`."
   ]
  },
  {
   "cell_type": "code",
   "execution_count": null,
   "metadata": {},
   "outputs": [],
   "source": [
    "res = repo.set_object_variable(name=\"olsen\", file_path=\"../tests/data/test_upload.txt\")\n",
    "repo.get_object_variable(name=\"olsen\")"
   ]
  },
  {
   "cell_type": "code",
   "execution_count": null,
   "metadata": {},
   "outputs": [],
   "source": [
    "path = repo.get_object_variable(name=\"olsen\", output_dir=\".\")\n",
    "print(path)\n",
    "with open(path, \"r\") as f:\n",
    "    print(f.read())\n",
    "os.remove(path)"
   ]
  },
  {
   "cell_type": "code",
   "execution_count": null,
   "metadata": {},
   "outputs": [],
   "source": [
    "path = repo.get_object_variable(name=\"olsen\", output_path=\"custom_path.txt\")\n",
    "print(path)\n",
    "with open(path, \"r\") as f:\n",
    "    print(f.read())\n",
    "os.remove(path)"
   ]
  },
  {
   "cell_type": "code",
   "execution_count": null,
   "metadata": {},
   "outputs": [],
   "source": [
    "res = repo.set_object_variable(name=\"olsen\", file_path=\"../tests/data/test_upload.png\")\n",
    "path = repo.get_object_variable(name=\"olsen\", output_dir=\".\")\n",
    "print(path)\n",
    "# with open(path, 'r') as f:\n",
    "#     print(f.read())\n",
    "# os.remove(path)"
   ]
  },
  {
   "cell_type": "code",
   "execution_count": null,
   "metadata": {},
   "outputs": [],
   "source": []
  },
  {
   "attachments": {},
   "cell_type": "markdown",
   "metadata": {},
   "source": [
    "### Create Entity"
   ]
  },
  {
   "cell_type": "code",
   "execution_count": null,
   "metadata": {},
   "outputs": [],
   "source": [
    "from datafarmclient.exceptions import EntityExistsError\n",
    "\n",
    "\n",
    "try:\n",
    "    res = repo.entities.create(\n",
    "        \"enTimeSeries\", id_name=\"test_ts_1\", fields={\"IDDescription\": \"test1\"}\n",
    "    )\n",
    "except EntityExistsError:\n",
    "    print(\"Entity already exists\")"
   ]
  },
  {
   "cell_type": "code",
   "execution_count": null,
   "metadata": {},
   "outputs": [],
   "source": [
    "entity_id = repo.get_entity_id(\"enTimeSeries\", \"test_ts_1\")\n",
    "print(entity_id)"
   ]
  },
  {
   "cell_type": "code",
   "execution_count": null,
   "metadata": {},
   "outputs": [],
   "source": [
    "res = repo.update_entity(\n",
    "    \"enTimeSeries\", entity_id=\"test_ts_1\", fields={\"IDDescription\": \"test1-updated\"}\n",
    ")\n",
    "print(res.json())\n",
    "repo.list_time_series().tail(1)"
   ]
  },
  {
   "cell_type": "code",
   "execution_count": null,
   "metadata": {},
   "outputs": [],
   "source": [
    "res = repo.delete_entity(class_id=\"enTimeSeries\", entity_id=entity_id)\n",
    "print(res.json())"
   ]
  },
  {
   "cell_type": "code",
   "execution_count": null,
   "metadata": {},
   "outputs": [],
   "source": [
    "repo.list_time_series().tail(1)"
   ]
  },
  {
   "attachments": {},
   "cell_type": "markdown",
   "metadata": {},
   "source": [
    "### Show statistics"
   ]
  },
  {
   "cell_type": "code",
   "execution_count": null,
   "metadata": {},
   "outputs": [],
   "source": [
    "time_series_list = repo.list_time_series()\n",
    "time_series_list.tail(10)"
   ]
  },
  {
   "cell_type": "code",
   "execution_count": null,
   "metadata": {},
   "outputs": [],
   "source": [
    "repo.get_statistics(time_series_list[\"EntityID\"].iloc[-10:])"
   ]
  },
  {
   "attachments": {},
   "cell_type": "markdown",
   "metadata": {},
   "source": [
    "### Get time series data"
   ]
  },
  {
   "cell_type": "code",
   "execution_count": null,
   "metadata": {},
   "outputs": [],
   "source": [
    "data = repo.timeseries.get(\n",
    "    time_series_id=\"testapi.insert\", ascending=True, limit=10, fields=[\"vtDateTime\"]\n",
    ")\n",
    "data"
   ]
  },
  {
   "attachments": {},
   "cell_type": "markdown",
   "metadata": {},
   "source": [
    "### Insert time series data"
   ]
  },
  {
   "attachments": {},
   "cell_type": "markdown",
   "metadata": {},
   "source": [
    "Here we prepare some data to insert in form of a dataframe."
   ]
  },
  {
   "cell_type": "code",
   "execution_count": null,
   "metadata": {},
   "outputs": [],
   "source": [
    "import random\n",
    "\n",
    "n = 5\n",
    "timestamps = [pd.Timestamp(\"1900-01-01\") + pd.Timedelta(days=i) for i in range(n)]\n",
    "insert_data = pd.DataFrame(\n",
    "    {\n",
    "        \"TimeStamp\": timestamps,\n",
    "        \"Data\": [random.random() for _ in range(n)],\n",
    "        \"Quality\": [\"ok\"] * n,\n",
    "    }\n",
    ")\n",
    "insert_data.loc[0, \"Data\"] = None\n",
    "insert_data"
   ]
  },
  {
   "attachments": {},
   "cell_type": "markdown",
   "metadata": {},
   "source": [
    "To insert the data we use the `insert_data` method:"
   ]
  },
  {
   "cell_type": "code",
   "execution_count": null,
   "metadata": {},
   "outputs": [],
   "source": [
    "try:\n",
    "    res = repo.insert_data(\"testapi.insert\", insert_data, bulk_insert=True)\n",
    "except HTTPError as e:\n",
    "    print(e)"
   ]
  },
  {
   "cell_type": "code",
   "execution_count": null,
   "metadata": {},
   "outputs": [],
   "source": [
    "res.json()"
   ]
  },
  {
   "cell_type": "code",
   "execution_count": null,
   "metadata": {},
   "outputs": [],
   "source": [
    "data = repo.get_data(\"testapi.insert\")\n",
    "data.head(10)"
   ]
  },
  {
   "attachments": {},
   "cell_type": "markdown",
   "metadata": {},
   "source": [
    "We can peek at the json body for the call to the API. The NaN value is represented as {\"N\": 1, \"V\": 0}."
   ]
  },
  {
   "cell_type": "code",
   "execution_count": null,
   "metadata": {},
   "outputs": [],
   "source": [
    "json.loads(res.request.body)"
   ]
  },
  {
   "attachments": {},
   "cell_type": "markdown",
   "metadata": {},
   "source": [
    "### Update qualities"
   ]
  },
  {
   "cell_type": "code",
   "execution_count": null,
   "metadata": {},
   "outputs": [],
   "source": [
    "qualities = list(repo.qualities[\"EntityID\"])\n",
    "print(qualities)"
   ]
  },
  {
   "cell_type": "code",
   "execution_count": null,
   "metadata": {},
   "outputs": [],
   "source": [
    "repo.update_data_quality(\n",
    "    \"testapi.insert\", timestamps=timestamps, quality=qualities[: len(timestamps)]\n",
    ")\n",
    "data = repo.get_data(\"testapi.insert\", limit=10)\n",
    "data"
   ]
  },
  {
   "attachments": {},
   "cell_type": "markdown",
   "metadata": {},
   "source": [
    "### Delete data\n",
    "\n",
    "Either delete in range or delete specific values."
   ]
  },
  {
   "cell_type": "code",
   "execution_count": null,
   "metadata": {},
   "outputs": [],
   "source": [
    "start, end = timestamps[:2]\n",
    "print(f\"Deleting data in range [{start}, {end})\\n\")\n",
    "res = repo.delete_data(\"testapi.insert\", start=start, end=end)\n",
    "data = repo.get_data(\"testapi.insert\", limit=10)\n",
    "data"
   ]
  },
  {
   "cell_type": "code",
   "execution_count": null,
   "metadata": {},
   "outputs": [],
   "source": [
    "timestamps = data.index[:3]\n",
    "repo.delete_data(\"testapi.insert\", timestamps=timestamps)\n",
    "data = repo.get_data(\"testapi.insert\", limit=10)\n",
    "data"
   ]
  },
  {
   "attachments": {},
   "cell_type": "markdown",
   "metadata": {},
   "source": [
    "### Using the context manager"
   ]
  },
  {
   "cell_type": "code",
   "execution_count": null,
   "metadata": {},
   "outputs": [],
   "source": [
    "with DatafarmClient(api_key) as repo:\n",
    "    repo.login(api_key=api_key)\n",
    "    data = repo.get_data(time_series_id=\"testapi.insert\", limit=2)\n",
    "data"
   ]
  }
 ],
 "metadata": {
  "kernelspec": {
   "display_name": "base",
   "language": "python",
   "name": "python3"
  },
  "language_info": {
   "codemirror_mode": {
    "name": "ipython",
    "version": 3
   },
   "file_extension": ".py",
   "mimetype": "text/x-python",
   "name": "python",
   "nbconvert_exporter": "python",
   "pygments_lexer": "ipython3",
   "version": "3.10.12"
  },
  "orig_nbformat": 4,
  "vscode": {
   "interpreter": {
    "hash": "7aec4f91c09090e98e6ae8203c38529831bb4a3ce54cd1b69639b53cb01a6aa9"
   }
  }
 },
 "nbformat": 4,
 "nbformat_minor": 2
}

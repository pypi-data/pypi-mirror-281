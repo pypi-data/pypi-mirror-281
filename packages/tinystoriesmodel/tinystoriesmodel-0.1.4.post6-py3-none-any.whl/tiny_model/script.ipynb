{
 "cells": [
  {
   "cell_type": "code",
   "execution_count": 10,
   "metadata": {},
   "outputs": [
    {
     "name": "stderr",
     "output_type": "stream",
     "text": [
      "100%|██████████| 10000/10000 [00:00<00:00, 66579.21it/s]\n"
     ]
    }
   ],
   "source": [
    "import torch\n",
    "\n",
    "import tiny_model\n",
    "\n",
    "tok_strs = tiny_model.tokenization.tokenization.get_tok_strs(torch.arange(10_000), symbolic_newlines=True, symbolic_spaces=True).flatten()"
   ]
  },
  {
   "cell_type": "code",
   "execution_count": 9,
   "metadata": {},
   "outputs": [],
   "source": [
    "torch.save(tok_strs, 'tok_strs.pt')"
   ]
  }
 ],
 "metadata": {
  "kernelspec": {
   "display_name": "tokre_11",
   "language": "python",
   "name": "python3"
  },
  "language_info": {
   "codemirror_mode": {
    "name": "ipython",
    "version": 3
   },
   "file_extension": ".py",
   "mimetype": "text/x-python",
   "name": "python",
   "nbconvert_exporter": "python",
   "pygments_lexer": "ipython3",
   "version": "3.11.9"
  }
 },
 "nbformat": 4,
 "nbformat_minor": 2
}

{
  "cells": [
    {
      "cell_type": "markdown",
      "metadata": {
        "id": "view-in-github",
        "colab_type": "text"
      },
      "source": [
        "<a href=\"https://colab.research.google.com/github/pia-francesca/ema/blob/main/ema_tool_application_example.ipynb\" target=\"_parent\"><img src=\"https://colab.research.google.com/assets/colab-badge.svg\" alt=\"Open In Colab\"/></a>"
      ]
    },
    {
      "cell_type": "markdown",
      "metadata": {
        "id": "FL_CrxMkEh00"
      },
      "source": [
        "# Application example | **Embedding of protein families across protein language models**"
      ]
    },
    {
      "cell_type": "markdown",
      "metadata": {
        "id": "Q0E-C9SOEh01"
      },
      "source": [
        "This notebook demonstrates how to use the ema-tool library to analyse the embedding of protein families across protein language models. We will use the [ESM Model](https://github.com/facebookresearch/esm) model and a set of ion channel wildtype proteins as an example."
      ]
    },
    {
      "cell_type": "markdown",
      "metadata": {
        "id": "1SCT_i4rEh01"
      },
      "source": [
        "## Loading dependencies"
      ]
    },
    {
      "cell_type": "code",
      "source": [
        " ! git clone https://github.com/pia-francesca/ema.git"
      ],
      "metadata": {
        "colab": {
          "base_uri": "https://localhost:8080/"
        },
        "id": "lHAYmQamEtzv",
        "outputId": "60333a22-0b0c-4887-fae6-3a754cc02e16"
      },
      "execution_count": 1,
      "outputs": [
        {
          "output_type": "stream",
          "name": "stdout",
          "text": [
            "Cloning into 'ema'...\n",
            "remote: Enumerating objects: 288, done.\u001b[K\n",
            "remote: Counting objects: 100% (68/68), done.\u001b[K\n",
            "remote: Compressing objects: 100% (43/43), done.\u001b[K\n",
            "remote: Total 288 (delta 29), reused 39 (delta 17), pack-reused 220\u001b[K\n",
            "Receiving objects: 100% (288/288), 70.30 MiB | 6.67 MiB/s, done.\n",
            "Resolving deltas: 100% (136/136), done.\n"
          ]
        }
      ]
    },
    {
      "cell_type": "code",
      "source": [
        "! pip install umap"
      ],
      "metadata": {
        "colab": {
          "base_uri": "https://localhost:8080/"
        },
        "id": "p1QaEvu2EymO",
        "outputId": "bb981875-7b0f-4e81-a76f-6673bc590ee7"
      },
      "execution_count": 2,
      "outputs": [
        {
          "output_type": "stream",
          "name": "stdout",
          "text": [
            "Collecting umap\n",
            "  Downloading umap-0.1.1.tar.gz (3.2 kB)\n",
            "  Preparing metadata (setup.py) ... \u001b[?25l\u001b[?25hdone\n",
            "Building wheels for collected packages: umap\n",
            "  Building wheel for umap (setup.py) ... \u001b[?25l\u001b[?25hdone\n",
            "  Created wheel for umap: filename=umap-0.1.1-py3-none-any.whl size=3543 sha256=61d2eb6e3586f0b0bacc5be3fcf2db4ad3583cda2c59f00ec9b5ab65eaf247f9\n",
            "  Stored in directory: /root/.cache/pip/wheels/15/f1/28/53dcf7a309118ed35d810a5f9cb995217800f3f269ab5771cb\n",
            "Successfully built umap\n",
            "Installing collected packages: umap\n",
            "Successfully installed umap-0.1.1\n"
          ]
        }
      ]
    },
    {
      "cell_type": "code",
      "execution_count": 3,
      "metadata": {
        "id": "48pqU3v4Eh01"
      },
      "outputs": [],
      "source": [
        "import numpy as np\n",
        "import pandas as pd\n",
        "\n",
        "from ema.ema.ema import EmbeddingHandler"
      ]
    },
    {
      "cell_type": "markdown",
      "metadata": {
        "id": "8We1L0X3Eh02"
      },
      "source": [
        "## Loading data"
      ]
    },
    {
      "cell_type": "markdown",
      "metadata": {
        "id": "jEq_oPKuEh02"
      },
      "source": [
        "`ema-tool` requires a table of **metadata** about the proteins to be embedded. The first column of the table should contain the sample identifiers. These need to be unique. Any further columns can contain metadata about the samples. In this example, we will use a table of ion channel proteins. Metadata can be either categorical or numerical.\n",
        "\n",
        "Further the **embedding spaces** of the proteins need to be provided in the format of NumPy arrays. In this example, we will use the ESM-1b model to embed the proteins. Each row in the NumPy array should correspond to the embedding of the protein with the same row index in the metadata table. The dimensions of the embedding space can differ between models."
      ]
    },
    {
      "cell_type": "code",
      "execution_count": 8,
      "metadata": {
        "id": "IwajvMDBEh02"
      },
      "outputs": [],
      "source": [
        "DATA_DIR = 'ema/examples/HCN1-variants/'\n",
        "FP_METADATA = DATA_DIR + 'metadata.csv'\n",
        "FP_EMB_ESM1b = DATA_DIR + 'esm1b_t33_650M_UR50S-embeddings.npy'\n",
        "FP_EMB_ESM2 = DATA_DIR + 'esm2_t33_650M_UR50D-embeddings.npy'"
      ]
    },
    {
      "cell_type": "code",
      "execution_count": 9,
      "metadata": {
        "colab": {
          "base_uri": "https://localhost:8080/",
          "height": 447
        },
        "id": "CXz3IZ2sEh02",
        "outputId": "3c980157-266e-4ae4-bb47-05be26065f0a"
      },
      "outputs": [
        {
          "output_type": "stream",
          "name": "stdout",
          "text": [
            "(881, 1280) (881, 1280)\n"
          ]
        },
        {
          "output_type": "execute_result",
          "data": {
            "text/plain": [
              "     variant_id  disorder_propensity ('uniprot', 'Topological domain')  \\\n",
              "0  HCN1:272:S:P                0.010                             False   \n",
              "1  HCN1:279:H:Y                0.015                             False   \n",
              "2  HCN1:391:G:D                0.005                             False   \n",
              "3  HCN1:153:M:I                0.009                             False   \n",
              "4  HCN1:305:M:L                0.006                             False   \n",
              "\n",
              "  ('uniprot', 'Transmembrane') ('uniprot', 'Intramembrane')  \\\n",
              "0                         True                        False   \n",
              "1                         True                        False   \n",
              "2                         True                        False   \n",
              "3                         True                        False   \n",
              "4                         True                        False   \n",
              "\n",
              "  ('uniprot', 'Region') ('uniprot', 'Motif') ('uniprot', 'Binding site')  \\\n",
              "0                 False                False                       False   \n",
              "1                 False                False                       False   \n",
              "2                 False                False                       False   \n",
              "3                 False                False                       False   \n",
              "4                 False                False                       False   \n",
              "\n",
              "  ('uniprot', 'Glycosylation') HB_intra  ... NB_intra  \\\n",
              "0                        False     True  ...     True   \n",
              "1                        False     True  ...     True   \n",
              "2                        False     True  ...     True   \n",
              "3                        False     True  ...     True   \n",
              "4                        False     True  ...     True   \n",
              "\n",
              "  binary_disorder_prediction am_class_pathogenic am_class_benign ss3 ss9  \\\n",
              "0                      False                True           False   H   H   \n",
              "1                      False                True           False   H   H   \n",
              "2                      False                True           False   H   H   \n",
              "3                      False                True           False   H   H   \n",
              "4                      False                True           False   H   H   \n",
              "\n",
              "  gene_name family                                       phenotype data_source  \n",
              "0      HCN1    HCN  Developmental and epileptic encephalopathy, 24     clinvar  \n",
              "1      HCN1    HCN  Developmental and epileptic encephalopathy, 24     clinvar  \n",
              "2      HCN1    HCN                        Epileptic encephalopathy     clinvar  \n",
              "3      HCN1    HCN                        Epileptic encephalopathy     clinvar  \n",
              "4      HCN1    HCN                                    not provided     clinvar  \n",
              "\n",
              "[5 rows x 22 columns]"
            ],
            "text/html": [
              "\n",
              "  <div id=\"df-7f2ce44e-5b95-4751-b435-f89bb9e1271f\" class=\"colab-df-container\">\n",
              "    <div>\n",
              "<style scoped>\n",
              "    .dataframe tbody tr th:only-of-type {\n",
              "        vertical-align: middle;\n",
              "    }\n",
              "\n",
              "    .dataframe tbody tr th {\n",
              "        vertical-align: top;\n",
              "    }\n",
              "\n",
              "    .dataframe thead th {\n",
              "        text-align: right;\n",
              "    }\n",
              "</style>\n",
              "<table border=\"1\" class=\"dataframe\">\n",
              "  <thead>\n",
              "    <tr style=\"text-align: right;\">\n",
              "      <th></th>\n",
              "      <th>variant_id</th>\n",
              "      <th>disorder_propensity</th>\n",
              "      <th>('uniprot', 'Topological domain')</th>\n",
              "      <th>('uniprot', 'Transmembrane')</th>\n",
              "      <th>('uniprot', 'Intramembrane')</th>\n",
              "      <th>('uniprot', 'Region')</th>\n",
              "      <th>('uniprot', 'Motif')</th>\n",
              "      <th>('uniprot', 'Binding site')</th>\n",
              "      <th>('uniprot', 'Glycosylation')</th>\n",
              "      <th>HB_intra</th>\n",
              "      <th>...</th>\n",
              "      <th>NB_intra</th>\n",
              "      <th>binary_disorder_prediction</th>\n",
              "      <th>am_class_pathogenic</th>\n",
              "      <th>am_class_benign</th>\n",
              "      <th>ss3</th>\n",
              "      <th>ss9</th>\n",
              "      <th>gene_name</th>\n",
              "      <th>family</th>\n",
              "      <th>phenotype</th>\n",
              "      <th>data_source</th>\n",
              "    </tr>\n",
              "  </thead>\n",
              "  <tbody>\n",
              "    <tr>\n",
              "      <th>0</th>\n",
              "      <td>HCN1:272:S:P</td>\n",
              "      <td>0.010</td>\n",
              "      <td>False</td>\n",
              "      <td>True</td>\n",
              "      <td>False</td>\n",
              "      <td>False</td>\n",
              "      <td>False</td>\n",
              "      <td>False</td>\n",
              "      <td>False</td>\n",
              "      <td>True</td>\n",
              "      <td>...</td>\n",
              "      <td>True</td>\n",
              "      <td>False</td>\n",
              "      <td>True</td>\n",
              "      <td>False</td>\n",
              "      <td>H</td>\n",
              "      <td>H</td>\n",
              "      <td>HCN1</td>\n",
              "      <td>HCN</td>\n",
              "      <td>Developmental and epileptic encephalopathy, 24</td>\n",
              "      <td>clinvar</td>\n",
              "    </tr>\n",
              "    <tr>\n",
              "      <th>1</th>\n",
              "      <td>HCN1:279:H:Y</td>\n",
              "      <td>0.015</td>\n",
              "      <td>False</td>\n",
              "      <td>True</td>\n",
              "      <td>False</td>\n",
              "      <td>False</td>\n",
              "      <td>False</td>\n",
              "      <td>False</td>\n",
              "      <td>False</td>\n",
              "      <td>True</td>\n",
              "      <td>...</td>\n",
              "      <td>True</td>\n",
              "      <td>False</td>\n",
              "      <td>True</td>\n",
              "      <td>False</td>\n",
              "      <td>H</td>\n",
              "      <td>H</td>\n",
              "      <td>HCN1</td>\n",
              "      <td>HCN</td>\n",
              "      <td>Developmental and epileptic encephalopathy, 24</td>\n",
              "      <td>clinvar</td>\n",
              "    </tr>\n",
              "    <tr>\n",
              "      <th>2</th>\n",
              "      <td>HCN1:391:G:D</td>\n",
              "      <td>0.005</td>\n",
              "      <td>False</td>\n",
              "      <td>True</td>\n",
              "      <td>False</td>\n",
              "      <td>False</td>\n",
              "      <td>False</td>\n",
              "      <td>False</td>\n",
              "      <td>False</td>\n",
              "      <td>True</td>\n",
              "      <td>...</td>\n",
              "      <td>True</td>\n",
              "      <td>False</td>\n",
              "      <td>True</td>\n",
              "      <td>False</td>\n",
              "      <td>H</td>\n",
              "      <td>H</td>\n",
              "      <td>HCN1</td>\n",
              "      <td>HCN</td>\n",
              "      <td>Epileptic encephalopathy</td>\n",
              "      <td>clinvar</td>\n",
              "    </tr>\n",
              "    <tr>\n",
              "      <th>3</th>\n",
              "      <td>HCN1:153:M:I</td>\n",
              "      <td>0.009</td>\n",
              "      <td>False</td>\n",
              "      <td>True</td>\n",
              "      <td>False</td>\n",
              "      <td>False</td>\n",
              "      <td>False</td>\n",
              "      <td>False</td>\n",
              "      <td>False</td>\n",
              "      <td>True</td>\n",
              "      <td>...</td>\n",
              "      <td>True</td>\n",
              "      <td>False</td>\n",
              "      <td>True</td>\n",
              "      <td>False</td>\n",
              "      <td>H</td>\n",
              "      <td>H</td>\n",
              "      <td>HCN1</td>\n",
              "      <td>HCN</td>\n",
              "      <td>Epileptic encephalopathy</td>\n",
              "      <td>clinvar</td>\n",
              "    </tr>\n",
              "    <tr>\n",
              "      <th>4</th>\n",
              "      <td>HCN1:305:M:L</td>\n",
              "      <td>0.006</td>\n",
              "      <td>False</td>\n",
              "      <td>True</td>\n",
              "      <td>False</td>\n",
              "      <td>False</td>\n",
              "      <td>False</td>\n",
              "      <td>False</td>\n",
              "      <td>False</td>\n",
              "      <td>True</td>\n",
              "      <td>...</td>\n",
              "      <td>True</td>\n",
              "      <td>False</td>\n",
              "      <td>True</td>\n",
              "      <td>False</td>\n",
              "      <td>H</td>\n",
              "      <td>H</td>\n",
              "      <td>HCN1</td>\n",
              "      <td>HCN</td>\n",
              "      <td>not provided</td>\n",
              "      <td>clinvar</td>\n",
              "    </tr>\n",
              "  </tbody>\n",
              "</table>\n",
              "<p>5 rows × 22 columns</p>\n",
              "</div>\n",
              "    <div class=\"colab-df-buttons\">\n",
              "\n",
              "  <div class=\"colab-df-container\">\n",
              "    <button class=\"colab-df-convert\" onclick=\"convertToInteractive('df-7f2ce44e-5b95-4751-b435-f89bb9e1271f')\"\n",
              "            title=\"Convert this dataframe to an interactive table.\"\n",
              "            style=\"display:none;\">\n",
              "\n",
              "  <svg xmlns=\"http://www.w3.org/2000/svg\" height=\"24px\" viewBox=\"0 -960 960 960\">\n",
              "    <path d=\"M120-120v-720h720v720H120Zm60-500h600v-160H180v160Zm220 220h160v-160H400v160Zm0 220h160v-160H400v160ZM180-400h160v-160H180v160Zm440 0h160v-160H620v160ZM180-180h160v-160H180v160Zm440 0h160v-160H620v160Z\"/>\n",
              "  </svg>\n",
              "    </button>\n",
              "\n",
              "  <style>\n",
              "    .colab-df-container {\n",
              "      display:flex;\n",
              "      gap: 12px;\n",
              "    }\n",
              "\n",
              "    .colab-df-convert {\n",
              "      background-color: #E8F0FE;\n",
              "      border: none;\n",
              "      border-radius: 50%;\n",
              "      cursor: pointer;\n",
              "      display: none;\n",
              "      fill: #1967D2;\n",
              "      height: 32px;\n",
              "      padding: 0 0 0 0;\n",
              "      width: 32px;\n",
              "    }\n",
              "\n",
              "    .colab-df-convert:hover {\n",
              "      background-color: #E2EBFA;\n",
              "      box-shadow: 0px 1px 2px rgba(60, 64, 67, 0.3), 0px 1px 3px 1px rgba(60, 64, 67, 0.15);\n",
              "      fill: #174EA6;\n",
              "    }\n",
              "\n",
              "    .colab-df-buttons div {\n",
              "      margin-bottom: 4px;\n",
              "    }\n",
              "\n",
              "    [theme=dark] .colab-df-convert {\n",
              "      background-color: #3B4455;\n",
              "      fill: #D2E3FC;\n",
              "    }\n",
              "\n",
              "    [theme=dark] .colab-df-convert:hover {\n",
              "      background-color: #434B5C;\n",
              "      box-shadow: 0px 1px 3px 1px rgba(0, 0, 0, 0.15);\n",
              "      filter: drop-shadow(0px 1px 2px rgba(0, 0, 0, 0.3));\n",
              "      fill: #FFFFFF;\n",
              "    }\n",
              "  </style>\n",
              "\n",
              "    <script>\n",
              "      const buttonEl =\n",
              "        document.querySelector('#df-7f2ce44e-5b95-4751-b435-f89bb9e1271f button.colab-df-convert');\n",
              "      buttonEl.style.display =\n",
              "        google.colab.kernel.accessAllowed ? 'block' : 'none';\n",
              "\n",
              "      async function convertToInteractive(key) {\n",
              "        const element = document.querySelector('#df-7f2ce44e-5b95-4751-b435-f89bb9e1271f');\n",
              "        const dataTable =\n",
              "          await google.colab.kernel.invokeFunction('convertToInteractive',\n",
              "                                                    [key], {});\n",
              "        if (!dataTable) return;\n",
              "\n",
              "        const docLinkHtml = 'Like what you see? Visit the ' +\n",
              "          '<a target=\"_blank\" href=https://colab.research.google.com/notebooks/data_table.ipynb>data table notebook</a>'\n",
              "          + ' to learn more about interactive tables.';\n",
              "        element.innerHTML = '';\n",
              "        dataTable['output_type'] = 'display_data';\n",
              "        await google.colab.output.renderOutput(dataTable, element);\n",
              "        const docLink = document.createElement('div');\n",
              "        docLink.innerHTML = docLinkHtml;\n",
              "        element.appendChild(docLink);\n",
              "      }\n",
              "    </script>\n",
              "  </div>\n",
              "\n",
              "\n",
              "<div id=\"df-7f61388b-bc31-41e6-bc61-6f39948f93f9\">\n",
              "  <button class=\"colab-df-quickchart\" onclick=\"quickchart('df-7f61388b-bc31-41e6-bc61-6f39948f93f9')\"\n",
              "            title=\"Suggest charts\"\n",
              "            style=\"display:none;\">\n",
              "\n",
              "<svg xmlns=\"http://www.w3.org/2000/svg\" height=\"24px\"viewBox=\"0 0 24 24\"\n",
              "     width=\"24px\">\n",
              "    <g>\n",
              "        <path d=\"M19 3H5c-1.1 0-2 .9-2 2v14c0 1.1.9 2 2 2h14c1.1 0 2-.9 2-2V5c0-1.1-.9-2-2-2zM9 17H7v-7h2v7zm4 0h-2V7h2v10zm4 0h-2v-4h2v4z\"/>\n",
              "    </g>\n",
              "</svg>\n",
              "  </button>\n",
              "\n",
              "<style>\n",
              "  .colab-df-quickchart {\n",
              "      --bg-color: #E8F0FE;\n",
              "      --fill-color: #1967D2;\n",
              "      --hover-bg-color: #E2EBFA;\n",
              "      --hover-fill-color: #174EA6;\n",
              "      --disabled-fill-color: #AAA;\n",
              "      --disabled-bg-color: #DDD;\n",
              "  }\n",
              "\n",
              "  [theme=dark] .colab-df-quickchart {\n",
              "      --bg-color: #3B4455;\n",
              "      --fill-color: #D2E3FC;\n",
              "      --hover-bg-color: #434B5C;\n",
              "      --hover-fill-color: #FFFFFF;\n",
              "      --disabled-bg-color: #3B4455;\n",
              "      --disabled-fill-color: #666;\n",
              "  }\n",
              "\n",
              "  .colab-df-quickchart {\n",
              "    background-color: var(--bg-color);\n",
              "    border: none;\n",
              "    border-radius: 50%;\n",
              "    cursor: pointer;\n",
              "    display: none;\n",
              "    fill: var(--fill-color);\n",
              "    height: 32px;\n",
              "    padding: 0;\n",
              "    width: 32px;\n",
              "  }\n",
              "\n",
              "  .colab-df-quickchart:hover {\n",
              "    background-color: var(--hover-bg-color);\n",
              "    box-shadow: 0 1px 2px rgba(60, 64, 67, 0.3), 0 1px 3px 1px rgba(60, 64, 67, 0.15);\n",
              "    fill: var(--button-hover-fill-color);\n",
              "  }\n",
              "\n",
              "  .colab-df-quickchart-complete:disabled,\n",
              "  .colab-df-quickchart-complete:disabled:hover {\n",
              "    background-color: var(--disabled-bg-color);\n",
              "    fill: var(--disabled-fill-color);\n",
              "    box-shadow: none;\n",
              "  }\n",
              "\n",
              "  .colab-df-spinner {\n",
              "    border: 2px solid var(--fill-color);\n",
              "    border-color: transparent;\n",
              "    border-bottom-color: var(--fill-color);\n",
              "    animation:\n",
              "      spin 1s steps(1) infinite;\n",
              "  }\n",
              "\n",
              "  @keyframes spin {\n",
              "    0% {\n",
              "      border-color: transparent;\n",
              "      border-bottom-color: var(--fill-color);\n",
              "      border-left-color: var(--fill-color);\n",
              "    }\n",
              "    20% {\n",
              "      border-color: transparent;\n",
              "      border-left-color: var(--fill-color);\n",
              "      border-top-color: var(--fill-color);\n",
              "    }\n",
              "    30% {\n",
              "      border-color: transparent;\n",
              "      border-left-color: var(--fill-color);\n",
              "      border-top-color: var(--fill-color);\n",
              "      border-right-color: var(--fill-color);\n",
              "    }\n",
              "    40% {\n",
              "      border-color: transparent;\n",
              "      border-right-color: var(--fill-color);\n",
              "      border-top-color: var(--fill-color);\n",
              "    }\n",
              "    60% {\n",
              "      border-color: transparent;\n",
              "      border-right-color: var(--fill-color);\n",
              "    }\n",
              "    80% {\n",
              "      border-color: transparent;\n",
              "      border-right-color: var(--fill-color);\n",
              "      border-bottom-color: var(--fill-color);\n",
              "    }\n",
              "    90% {\n",
              "      border-color: transparent;\n",
              "      border-bottom-color: var(--fill-color);\n",
              "    }\n",
              "  }\n",
              "</style>\n",
              "\n",
              "  <script>\n",
              "    async function quickchart(key) {\n",
              "      const quickchartButtonEl =\n",
              "        document.querySelector('#' + key + ' button');\n",
              "      quickchartButtonEl.disabled = true;  // To prevent multiple clicks.\n",
              "      quickchartButtonEl.classList.add('colab-df-spinner');\n",
              "      try {\n",
              "        const charts = await google.colab.kernel.invokeFunction(\n",
              "            'suggestCharts', [key], {});\n",
              "      } catch (error) {\n",
              "        console.error('Error during call to suggestCharts:', error);\n",
              "      }\n",
              "      quickchartButtonEl.classList.remove('colab-df-spinner');\n",
              "      quickchartButtonEl.classList.add('colab-df-quickchart-complete');\n",
              "    }\n",
              "    (() => {\n",
              "      let quickchartButtonEl =\n",
              "        document.querySelector('#df-7f61388b-bc31-41e6-bc61-6f39948f93f9 button');\n",
              "      quickchartButtonEl.style.display =\n",
              "        google.colab.kernel.accessAllowed ? 'block' : 'none';\n",
              "    })();\n",
              "  </script>\n",
              "</div>\n",
              "\n",
              "    </div>\n",
              "  </div>\n"
            ],
            "application/vnd.google.colaboratory.intrinsic+json": {
              "type": "dataframe",
              "variable_name": "metadata"
            }
          },
          "metadata": {},
          "execution_count": 9
        }
      ],
      "source": [
        "# load metadata and embeddings\n",
        "\n",
        "metadata = pd.read_csv(FP_METADATA)\n",
        "emb_esm1b = np.load(FP_EMB_ESM1b)\n",
        "emb_esm2 = np.load(FP_EMB_ESM2)\n",
        "\n",
        "print(emb_esm1b.shape, emb_esm2.shape)\n",
        "metadata.head()"
      ]
    },
    {
      "cell_type": "markdown",
      "metadata": {
        "id": "zMDbsj0sEh02"
      },
      "source": [
        "## Initialising the ema object"
      ]
    },
    {
      "cell_type": "markdown",
      "metadata": {
        "id": "cpJIdzG7Eh03"
      },
      "source": [
        "The `EmbeddingHandler` object is the main object in the ema-tool library. It is used to load the model, preprocess the data, and perform the analysis.\n",
        "It is initialised with the metadata of the analysed samples.\n",
        "\n",
        "Embedding spaces are added to the object using the `add_emb_space` method. Multiple embedding spaces can be added to the object. Each embedding space is identified by a unique name. Embedding spaces can also be removed from the object using the `remove_emb_space()` method."
      ]
    },
    {
      "cell_type": "code",
      "execution_count": 10,
      "metadata": {
        "colab": {
          "base_uri": "https://localhost:8080/"
        },
        "id": "MQd3YWHREh03",
        "outputId": "303a67f9-f9f2-49c0-e963-df074e76aaa0"
      },
      "outputs": [
        {
          "output_type": "stream",
          "name": "stdout",
          "text": [
            "881 samples loaded.\n",
            "Categories in meta data: [\"('uniprot', 'Topological domain')\", \"('uniprot', 'Transmembrane')\", \"('uniprot', 'Intramembrane')\", \"('uniprot', 'Region')\", \"('uniprot', 'Motif')\", \"('uniprot', 'Binding site')\", \"('uniprot', 'Glycosylation')\", 'HB_intra', 'SB_intra', 'DS_intra', 'NB_intra', 'binary_disorder_prediction', 'am_class_pathogenic', 'am_class_benign', 'ss3', 'ss9', 'gene_name', 'family', 'phenotype', 'data_source']\n",
            "Numerical columns in meta data: ['disorder_propensity']\n"
          ]
        },
        {
          "output_type": "stream",
          "name": "stderr",
          "text": [
            "/usr/local/lib/python3.10/dist-packages/sklearn/cluster/_kmeans.py:870: FutureWarning: The default value of `n_init` will change from 10 to 'auto' in 1.4. Set the value of `n_init` explicitly to suppress the warning\n",
            "  warnings.warn(\n"
          ]
        },
        {
          "output_type": "stream",
          "name": "stdout",
          "text": [
            "2 clusters calculated for esm1b.\n",
            "Embedding space esm1b added.\n",
            "Embeddings have length 1280.\n"
          ]
        },
        {
          "output_type": "stream",
          "name": "stderr",
          "text": [
            "/usr/local/lib/python3.10/dist-packages/sklearn/cluster/_kmeans.py:870: FutureWarning: The default value of `n_init` will change from 10 to 'auto' in 1.4. Set the value of `n_init` explicitly to suppress the warning\n",
            "  warnings.warn(\n"
          ]
        },
        {
          "output_type": "stream",
          "name": "stdout",
          "text": [
            "2 clusters calculated for esm2.\n",
            "Embedding space esm2 added.\n",
            "Embeddings have length 1280.\n"
          ]
        }
      ],
      "source": [
        "# initialize embedding handler\n",
        "emb_handler = EmbeddingHandler(metadata)\n",
        "\n",
        "# add embeddings to the handler\n",
        "emb_handler.add_emb_space(embeddings=emb_esm1b, emb_space_name='esm1b')\n",
        "emb_handler.add_emb_space(embeddings=emb_esm2, emb_space_name='esm2')"
      ]
    },
    {
      "cell_type": "markdown",
      "metadata": {
        "id": "GY139PnYEh03"
      },
      "source": [
        "## Accessing the metadata"
      ]
    },
    {
      "cell_type": "markdown",
      "metadata": {
        "id": "8AvM_KZ-Eh03"
      },
      "source": [
        "The sample names can be accessed using the `get_sample_names()` method."
      ]
    },
    {
      "cell_type": "code",
      "execution_count": 11,
      "metadata": {
        "colab": {
          "base_uri": "https://localhost:8080/"
        },
        "id": "ImfpXNGREh03",
        "outputId": "f5f1b994-5532-49bc-d0c2-e0e23a905119"
      },
      "outputs": [
        {
          "output_type": "execute_result",
          "data": {
            "text/plain": [
              "['HCN1:272:S:P',\n",
              " 'HCN1:279:H:Y',\n",
              " 'HCN1:391:G:D',\n",
              " 'HCN1:153:M:I',\n",
              " 'HCN1:305:M:L']"
            ]
          },
          "metadata": {},
          "execution_count": 11
        }
      ],
      "source": [
        "emb_handler.get_sample_names()[:5]"
      ]
    },
    {
      "cell_type": "markdown",
      "metadata": {
        "id": "U7D6WXE2Eh03"
      },
      "source": [
        "The columns of the metadata can be accessed shown using the `get_groups()` function. The function returns a list of the column names."
      ]
    },
    {
      "cell_type": "code",
      "execution_count": 12,
      "metadata": {
        "colab": {
          "base_uri": "https://localhost:8080/"
        },
        "id": "SZMvGZO9Eh03",
        "outputId": "9e346d9c-0d29-4718-a4aa-b7e8616c73d8"
      },
      "outputs": [
        {
          "output_type": "execute_result",
          "data": {
            "text/plain": [
              "[\"('uniprot', 'Topological domain')\",\n",
              " \"('uniprot', 'Transmembrane')\",\n",
              " \"('uniprot', 'Intramembrane')\",\n",
              " \"('uniprot', 'Region')\",\n",
              " \"('uniprot', 'Motif')\",\n",
              " \"('uniprot', 'Binding site')\",\n",
              " \"('uniprot', 'Glycosylation')\",\n",
              " 'HB_intra',\n",
              " 'SB_intra',\n",
              " 'DS_intra',\n",
              " 'NB_intra',\n",
              " 'binary_disorder_prediction',\n",
              " 'am_class_pathogenic',\n",
              " 'am_class_benign',\n",
              " 'ss3',\n",
              " 'ss9',\n",
              " 'gene_name',\n",
              " 'family',\n",
              " 'phenotype',\n",
              " 'data_source',\n",
              " 'cluster_esm1b',\n",
              " 'cluster_esm2']"
            ]
          },
          "metadata": {},
          "execution_count": 12
        }
      ],
      "source": [
        "emb_handler.get_groups()"
      ]
    },
    {
      "cell_type": "markdown",
      "metadata": {
        "id": "PkP0h2HWEh03"
      },
      "source": [
        "The `get_unique_values()` function can be used to get the unique values of a specific column in the metadata."
      ]
    },
    {
      "cell_type": "code",
      "execution_count": 14,
      "metadata": {
        "colab": {
          "base_uri": "https://localhost:8080/",
          "height": 333
        },
        "id": "4zqBZkf2Eh03",
        "outputId": "1cd51594-9b48-4e1b-bec9-c9f1f6cc3328"
      },
      "outputs": [
        {
          "output_type": "error",
          "ename": "ValueError",
          "evalue": "Column alphafold2_ss9 is not categorical in meta data.",
          "traceback": [
            "\u001b[0;31m---------------------------------------------------------------------------\u001b[0m",
            "\u001b[0;31mValueError\u001b[0m                                Traceback (most recent call last)",
            "\u001b[0;32m<ipython-input-14-9b3acdbe73b8>\u001b[0m in \u001b[0;36m<cell line: 1>\u001b[0;34m()\u001b[0m\n\u001b[0;32m----> 1\u001b[0;31m emb_handler.get_unique_values_per_group(\n\u001b[0m\u001b[1;32m      2\u001b[0m     \u001b[0mgroup\u001b[0m\u001b[0;34m=\u001b[0m\u001b[0;34m\"alphafold2_ss9\"\u001b[0m\u001b[0;34m\u001b[0m\u001b[0;34m\u001b[0m\u001b[0m\n\u001b[1;32m      3\u001b[0m )\n",
            "\u001b[0;32m/content/ema/ema/ema.py\u001b[0m in \u001b[0;36mget_unique_values_per_group\u001b[0;34m(self, group)\u001b[0m\n\u001b[1;32m    500\u001b[0m             \u001b[0mlist\u001b[0m\u001b[0;34m:\u001b[0m \u001b[0mUnique\u001b[0m \u001b[0mvalues\u001b[0m \u001b[0;32min\u001b[0m \u001b[0mthe\u001b[0m \u001b[0mcolumn\u001b[0m \u001b[0mordered\u001b[0m \u001b[0malphabetically\u001b[0m\u001b[0;34m.\u001b[0m\u001b[0;34m\u001b[0m\u001b[0;34m\u001b[0m\u001b[0m\n\u001b[1;32m    501\u001b[0m         \"\"\"\n\u001b[0;32m--> 502\u001b[0;31m         \u001b[0mself\u001b[0m\u001b[0;34m.\u001b[0m\u001b[0m__check_col_categorical__\u001b[0m\u001b[0;34m(\u001b[0m\u001b[0mgroup\u001b[0m\u001b[0;34m)\u001b[0m\u001b[0;34m\u001b[0m\u001b[0;34m\u001b[0m\u001b[0m\n\u001b[0m\u001b[1;32m    503\u001b[0m         \u001b[0mgroup_values\u001b[0m \u001b[0;34m=\u001b[0m \u001b[0mself\u001b[0m\u001b[0;34m.\u001b[0m\u001b[0mmeta_data\u001b[0m\u001b[0;34m[\u001b[0m\u001b[0mgroup\u001b[0m\u001b[0;34m]\u001b[0m\u001b[0;34m.\u001b[0m\u001b[0munique\u001b[0m\u001b[0;34m(\u001b[0m\u001b[0;34m)\u001b[0m\u001b[0;34m.\u001b[0m\u001b[0mtolist\u001b[0m\u001b[0;34m(\u001b[0m\u001b[0;34m)\u001b[0m\u001b[0;34m\u001b[0m\u001b[0;34m\u001b[0m\u001b[0m\n\u001b[1;32m    504\u001b[0m         \u001b[0mgroup_values\u001b[0m \u001b[0;34m=\u001b[0m \u001b[0msorted\u001b[0m\u001b[0;34m(\u001b[0m\u001b[0mgroup_values\u001b[0m\u001b[0;34m)\u001b[0m\u001b[0;34m\u001b[0m\u001b[0;34m\u001b[0m\u001b[0m\n",
            "\u001b[0;32m/content/ema/ema/ema.py\u001b[0m in \u001b[0;36m__check_col_categorical__\u001b[0;34m(self, col)\u001b[0m\n\u001b[1;32m    173\u001b[0m         \"\"\"\n\u001b[1;32m    174\u001b[0m         \u001b[0;32mif\u001b[0m \u001b[0mcol\u001b[0m \u001b[0;32mnot\u001b[0m \u001b[0;32min\u001b[0m \u001b[0mself\u001b[0m\u001b[0;34m.\u001b[0m\u001b[0mmeta_data_categorical_columns\u001b[0m\u001b[0;34m:\u001b[0m\u001b[0;34m\u001b[0m\u001b[0;34m\u001b[0m\u001b[0m\n\u001b[0;32m--> 175\u001b[0;31m             \u001b[0;32mraise\u001b[0m \u001b[0mValueError\u001b[0m\u001b[0;34m(\u001b[0m\u001b[0;34mf\"Column {col} is not categorical in meta data.\"\u001b[0m\u001b[0;34m)\u001b[0m\u001b[0;34m\u001b[0m\u001b[0;34m\u001b[0m\u001b[0m\n\u001b[0m\u001b[1;32m    176\u001b[0m             \u001b[0;32mreturn\u001b[0m \u001b[0;32mFalse\u001b[0m\u001b[0;34m\u001b[0m\u001b[0;34m\u001b[0m\u001b[0m\n\u001b[1;32m    177\u001b[0m         \u001b[0;32mreturn\u001b[0m \u001b[0;32mTrue\u001b[0m\u001b[0;34m\u001b[0m\u001b[0;34m\u001b[0m\u001b[0m\n",
            "\u001b[0;31mValueError\u001b[0m: Column alphafold2_ss9 is not categorical in meta data."
          ]
        }
      ],
      "source": [
        "emb_handler.get_unique_values_per_group(\n",
        "    group=\"alphafold2_ss9\"\n",
        ")"
      ]
    },
    {
      "cell_type": "markdown",
      "metadata": {
        "id": "Kjce3Z9rEh03"
      },
      "source": [
        "The `get_value_count_per_group` function can be used to get the number of samples per unique value in a specific column."
      ]
    },
    {
      "cell_type": "code",
      "execution_count": null,
      "metadata": {
        "id": "av6BHNvXEh03"
      },
      "outputs": [],
      "source": [
        "emb_handler.get_value_count_per_group(\n",
        "    group=\"alphafold2_ss9\"\n",
        ")"
      ]
    },
    {
      "cell_type": "markdown",
      "metadata": {
        "id": "OUrhxDJgEh03"
      },
      "source": [
        "The `get_samples_per_group_value()` parameter allows to get the rows of the metadata table that correspond to a specific value in a specific column."
      ]
    },
    {
      "cell_type": "code",
      "execution_count": null,
      "metadata": {
        "id": "wtVIKmfdEh03"
      },
      "outputs": [],
      "source": [
        "emb_handler.get_samples_per_group_value(\n",
        "    group=\"alphafold2_ss9\",\n",
        "    group_value=\"B\"\n",
        ")"
      ]
    },
    {
      "cell_type": "markdown",
      "metadata": {
        "id": "_CUEKn2HEh04"
      },
      "source": [
        "## Analysis Within an Embedding Space"
      ]
    },
    {
      "cell_type": "markdown",
      "metadata": {
        "id": "QCshsETMEh04"
      },
      "source": [
        "### Distribution of embedding values"
      ]
    },
    {
      "cell_type": "markdown",
      "metadata": {
        "id": "PuQ3nrWJEh04"
      },
      "source": [
        "Multiple analyses can be performed to understand the scale and distribution of each embedding space.\n",
        "\n",
        "This histogram shown with the `plot_emb_hist()` displays the distribution of the embedding values stratified by the embedding space. For an embedding of dimension d=1280 all 1280 values of the embedding will be visualised independently."
      ]
    },
    {
      "cell_type": "code",
      "execution_count": null,
      "metadata": {
        "id": "TF4Cq6paEh04"
      },
      "outputs": [],
      "source": [
        "emb_handler.plot_emb_hist()"
      ]
    },
    {
      "cell_type": "markdown",
      "metadata": {
        "id": "rbp3sXFbEh04"
      },
      "source": [
        "The `plot_emb_box()` function can be used to display the distribution of the embedding values in a boxplot.\n",
        "\n",
        "Here the `group` parameter can be used to stratify the samples by a specific column in the metadata or by individual samples."
      ]
    },
    {
      "cell_type": "code",
      "execution_count": null,
      "metadata": {
        "id": "5lCGKn2AEh04"
      },
      "outputs": [],
      "source": [
        "emb_handler.plot_emb_box(group=\"sample\")"
      ]
    },
    {
      "cell_type": "code",
      "execution_count": null,
      "metadata": {
        "id": "XOZtCnpDEh04"
      },
      "outputs": [],
      "source": [
        "emb_handler.plot_emb_box(group=\"data_source\")"
      ]
    },
    {
      "cell_type": "markdown",
      "metadata": {
        "id": "YTIJxFdREh04"
      },
      "source": [
        "### Unsupervised clustering"
      ]
    },
    {
      "cell_type": "markdown",
      "metadata": {
        "id": "FYs1TzXvEh04"
      },
      "source": [
        "During the initialisation of the `EmbeddingHandler` object, an unsupervised clustering can be performed automatically using the KMeans algorithm.\n",
        "\n",
        "By default ema computes a number of clusters equal to the mean number of categories in the metadata. This is a good starting point, but you can also specify the number of clusters you want to compute.\n"
      ]
    },
    {
      "cell_type": "code",
      "execution_count": null,
      "metadata": {
        "id": "W09xxwnIEh04"
      },
      "outputs": [],
      "source": [
        "# specify a number of unsupervised clusters\n",
        "\n",
        "emb_handler.recalculate_clusters(\n",
        "    n_clusters=5,\n",
        "    emb_space_name='esm1b')\n",
        "\n",
        "emb_handler.recalculate_clusters(\n",
        "    n_clusters=5,\n",
        "    emb_space_name='esm2'\n",
        "    )"
      ]
    },
    {
      "cell_type": "markdown",
      "metadata": {
        "id": "lyICW1aXEh04"
      },
      "source": [
        "The agreement between the clustering and the metadata can be visualised using the `plot_feature_cluster_overlap()` function. This function shows a barplot of the number of samples for each metadata value of the specified metadata column (selected with the `feature` parameter). The colour of the bars represents the cluster assignment of the samples. The height of the bars represents the number of samples in the dataset with the corresponding metadata value."
      ]
    },
    {
      "cell_type": "code",
      "execution_count": null,
      "metadata": {
        "id": "yI5npnHrEh04"
      },
      "outputs": [],
      "source": [
        "emb_handler.plot_feature_cluster_overlap(\n",
        "    emb_space_name = \"esm1b\",\n",
        "    feature=\"alphafold2_ss3\"\n",
        ")"
      ]
    },
    {
      "cell_type": "markdown",
      "metadata": {
        "id": "O43p7ZwxEh05"
      },
      "source": [
        "The function can also be used to compare the agreement between the unsupervised clustering of two different embedding spaces. By setting the `feature` parameter to `cluster_<emb-space-name>` the function will compare the agreement between the unsupervised clustering of the two embedding spaces."
      ]
    },
    {
      "cell_type": "code",
      "execution_count": null,
      "metadata": {
        "id": "PFegsTmQEh05"
      },
      "outputs": [],
      "source": [
        "emb_handler.plot_feature_cluster_overlap(\n",
        "    emb_space_name = \"esm1b\",\n",
        "    feature=\"cluster_esm2\"\n",
        ")"
      ]
    },
    {
      "cell_type": "markdown",
      "metadata": {
        "id": "nuREAj4oEh05"
      },
      "source": [
        "### Visualisation of dimensionality reduction"
      ]
    },
    {
      "cell_type": "markdown",
      "metadata": {
        "id": "0gwvZou9Eh05"
      },
      "source": [
        "Each embedding space can be visualised using dimensionality reduction techniques such as PCA, t-SNE and UMAP. The colour of the points can be stratified by a specific column in the metadata. If the `color` parameter is not set, the points will be coloured by the unsuperivsed clustering."
      ]
    },
    {
      "cell_type": "markdown",
      "metadata": {
        "id": "bQLO2KguEh05"
      },
      "source": [
        "#### PCA"
      ]
    },
    {
      "cell_type": "code",
      "execution_count": null,
      "metadata": {
        "id": "n-7m8jxJEh05"
      },
      "outputs": [],
      "source": [
        "emb_handler.visualise_emb_pca(emb_space_name=\"esm1b\",\n",
        "                              colour=\"uniprot_region\"\n",
        "                              )"
      ]
    },
    {
      "cell_type": "code",
      "execution_count": null,
      "metadata": {
        "id": "QD6Nj7SxEh05"
      },
      "outputs": [],
      "source": [
        "\n",
        "emb_handler.visualise_emb_pca(emb_space_name=\"esm2\",\n",
        "                              colour=\"uniprot_region\")"
      ]
    },
    {
      "cell_type": "markdown",
      "metadata": {
        "id": "w6nyxE5OEh05"
      },
      "source": [
        "#### t-SNE"
      ]
    },
    {
      "cell_type": "code",
      "execution_count": null,
      "metadata": {
        "id": "fj6TTLhHEh05"
      },
      "outputs": [],
      "source": [
        "emb_handler.visualise_emb_tsne(emb_space_name=\"esm1b\")"
      ]
    },
    {
      "cell_type": "code",
      "execution_count": null,
      "metadata": {
        "id": "LO3RvxnkEh05"
      },
      "outputs": [],
      "source": [
        "emb_handler.visualise_emb_umap(\n",
        "    emb_space_name=\"esm1b\",\n",
        "    colour=\"alphamissense_class_benign\"\n",
        ")"
      ]
    },
    {
      "cell_type": "markdown",
      "metadata": {
        "id": "t23INu57Eh05"
      },
      "source": [
        "### Pairswise distances between samples within an embedding space"
      ]
    },
    {
      "cell_type": "markdown",
      "metadata": {
        "id": "MFo2lqC2Eh05"
      },
      "source": [
        "The following distance metrics are available for the comparison of pairwise distances between samples:\n",
        "\n",
        "*   `cosine`: Cosine distance\n",
        "*   `adjusted_cosine`: Adjusted cosine distance\n",
        "*   `cityblock`: Manhattan distance\n",
        "*   `cityblock_normalised`: Normalised manhattan distance\n",
        "*   `euclidean`: Euclidean distance\n",
        "*   `sequclidean`: Standardised euclidean distance\n",
        "*   `sqeuclidean_normalised`: Standardised normalised euclidean distance\n",
        "*   `euclidean_normalised`: Normalised euclidean distance\n",
        "*   `mahalanobis`: Mahalanobis distance\n",
        "\n",
        "The distances are automatically computed as soon as one of the distance functions is called."
      ]
    },
    {
      "cell_type": "markdown",
      "metadata": {
        "id": "dBW3p6-wEh05"
      },
      "source": [
        "All pairwise distances can be accessed in a heatmap. The x and y axes of the heatmap represent the samples. The colour of the heatmap represents the distance between the samples. The samples on each axis can be sorted based on a column in the metadata by using the `x_order` and `y_order` parameters."
      ]
    },
    {
      "cell_type": "code",
      "execution_count": null,
      "metadata": {
        "id": "DBTUd0dsEh05"
      },
      "outputs": [],
      "source": [
        "emb_handler.plot_emb_dis_heatmap(\n",
        "    emb_space_name=\"esm1b\",\n",
        "    distance_metric=\"euclidean\",\n",
        ")"
      ]
    },
    {
      "cell_type": "markdown",
      "metadata": {
        "id": "9iFTAb4FEh05"
      },
      "source": [
        "The matrix of pairwise distances can be accessed by using the `get_sample_distance()` function. The function returns a NumPy array of the pairwise distances."
      ]
    },
    {
      "cell_type": "code",
      "execution_count": null,
      "metadata": {
        "id": "iEMnSMOcEh06"
      },
      "outputs": [],
      "source": [
        "emb_handler.get_sample_distance(\n",
        "    emb_space_name=\"esm1b\",\n",
        "    metric=\"euclidean\"\n",
        ")"
      ]
    },
    {
      "cell_type": "markdown",
      "metadata": {
        "id": "3gLMGVEEEh06"
      },
      "source": [
        "The pairwise distances can be normalised with a normal distribution by setting the `rank` parameter to `normal_dis` for all functions that compute pairwise distances. The normalisation is performed by ranking the distances and transforming them to a normal distribution. To inspect whether the pairwise distances in an embedding space are normally distributed, the `plot_emb_dis_his_with_fitted_functions()` function can be used for a visual inspection."
      ]
    },
    {
      "cell_type": "code",
      "execution_count": null,
      "metadata": {
        "id": "ik9Q7zhaEh06"
      },
      "outputs": [],
      "source": [
        "emb_handler.plot_emb_dis_his_with_fitted_functions(\n",
        "    emb_space_name=\"esm1b\",\n",
        "    distance_metric=\"euclidean\",\n",
        "    rank=\"normal_dis\"\n",
        ")"
      ]
    },
    {
      "cell_type": "markdown",
      "metadata": {
        "id": "7hB1PWHEEh06"
      },
      "source": [
        "### Correlation of pairwise distances with metadata"
      ]
    },
    {
      "cell_type": "markdown",
      "metadata": {
        "id": "5P8cpaYAEh06"
      },
      "source": [
        "The correlation of pairwise distances with metadata can be computed using the `plot_emb_dis_continuous_correlation()` function. The function computes the correlation of the pairwise distances with a specific column in the metadata."
      ]
    },
    {
      "cell_type": "code",
      "execution_count": null,
      "metadata": {
        "id": "USH38YZREh06"
      },
      "outputs": [],
      "source": [
        "emb_handler.plot_emb_dis_continuous_correlation(\n",
        "    emb_space_name=\"esm1b\",\n",
        "    distance_metric=\"euclidean\",\n",
        "    feature=\"flDPnn_disorder_propensity\"\n",
        ")"
      ]
    },
    {
      "cell_type": "markdown",
      "metadata": {
        "id": "KECiiNQPEh06"
      },
      "source": [
        "The distances one space can be statified by a specific column in the metadata. The `group` parameter can be used to stratify the samples by a specific column in the metadata."
      ]
    },
    {
      "cell_type": "code",
      "execution_count": null,
      "metadata": {
        "id": "gHxdMqy8Eh06"
      },
      "outputs": [],
      "source": [
        "emb_handler.plot_emb_dis_per_group(\n",
        "    emb_space_name=\"esm1b\",\n",
        "    distance_metric=\"euclidean\",\n",
        "    group=\"alphafold2_ss3\"\n",
        ")"
      ]
    },
    {
      "cell_type": "markdown",
      "metadata": {
        "id": "zMPbnxOLEh06"
      },
      "source": [
        "The plot can further be stratified by a specific value in the selected column by using the `group_value` parameter."
      ]
    },
    {
      "cell_type": "code",
      "execution_count": null,
      "metadata": {
        "id": "1mWzqJ_0Eh06"
      },
      "outputs": [],
      "source": [
        "emb_handler.plot_emb_dis_per_group(\n",
        "    emb_space_name=\"esm1b\",\n",
        "    distance_metric=\"euclidean\",\n",
        "    group=\"alphafold2_ss3\",\n",
        "    group_value=\"H\",\n",
        "    plot_type=\"box\"\n",
        ")"
      ]
    },
    {
      "cell_type": "markdown",
      "metadata": {
        "id": "MRjlX6iGEh06"
      },
      "source": [
        "## Comparing embedding spaces"
      ]
    },
    {
      "cell_type": "markdown",
      "metadata": {
        "id": "_JeK-b2oEh06"
      },
      "source": [
        "The distribution of pairwise distances between samples in two embedding spaces can be compared using the `plot_emb_dis_hist` function. The function displays a histogram of the pairwise distances between samples in two embedding spaces."
      ]
    },
    {
      "cell_type": "code",
      "execution_count": null,
      "metadata": {
        "id": "fn2awxpYEh06"
      },
      "outputs": [],
      "source": [
        "emb_handler.plot_emb_dis_hist(distance_metric = \"euclidean\")"
      ]
    },
    {
      "cell_type": "markdown",
      "metadata": {
        "id": "V2m6wotlEh06"
      },
      "source": [
        "The pairwise distances between two embedding spaces can be visualised using a scatter plot. The `plot_emb_dis_scatter()` function displays the pairwise distances between samples in two embedding spaces. The x and y axes of the scatter plot represent the pairwise distances between samples in the two embedding spaces. The `colour_group` and `colour_value_1` parameters define the column in the metadata and the value in the column which is used to stratify the samples by colour."
      ]
    },
    {
      "cell_type": "code",
      "execution_count": null,
      "metadata": {
        "id": "Ut4esKkaEh06"
      },
      "outputs": [],
      "source": [
        "emb_handler.plot_emb_dis_scatter(\n",
        "    emb_space_name_1 = \"esm1b\",\n",
        "    emb_space_name_2 = \"esm2\",\n",
        "    distance_metric = \"euclidean\",\n",
        "    colour_group = \"alphafold2_ss3\",\n",
        "    colour_value_1 = \"H\",\n",
        ")"
      ]
    },
    {
      "cell_type": "code",
      "execution_count": null,
      "metadata": {
        "id": "aSxxyzwOEh06"
      },
      "outputs": [],
      "source": [
        "emb_handler.plot_emb_dis_scatter(\n",
        "    emb_space_name_1 = \"esm1b\",\n",
        "    emb_space_name_2 = \"esm2\",\n",
        "    distance_metric = \"euclidean\",\n",
        "    colour_group = \"alphafold2_ss3\",\n",
        "    colour_value_1 = \"H\",\n",
        "    colour_value_2 = \"B\",\n",
        ")"
      ]
    },
    {
      "cell_type": "markdown",
      "metadata": {
        "id": "dBGWGHOyEh07"
      },
      "source": [
        "The distances can be statified by a specific column in the metadata. The `group` parameter can be used to stratify the samples by a specific column in the metadata."
      ]
    },
    {
      "cell_type": "code",
      "execution_count": null,
      "metadata": {
        "id": "zFopKZ8WEh07"
      },
      "outputs": [],
      "source": [
        "emb_handler.plot_emb_dis_box(\n",
        "    group = \"alphafold2_ss3\",\n",
        "    distance_metric=\"euclidean\",\n",
        ")"
      ]
    }
  ],
  "metadata": {
    "kernelspec": {
      "display_name": "jupyter",
      "language": "python",
      "name": "python3"
    },
    "language_info": {
      "codemirror_mode": {
        "name": "ipython",
        "version": 3
      },
      "file_extension": ".py",
      "mimetype": "text/x-python",
      "name": "python",
      "nbconvert_exporter": "python",
      "pygments_lexer": "ipython3",
      "version": "3.8.16"
    },
    "colab": {
      "provenance": [],
      "include_colab_link": true
    }
  },
  "nbformat": 4,
  "nbformat_minor": 0
}
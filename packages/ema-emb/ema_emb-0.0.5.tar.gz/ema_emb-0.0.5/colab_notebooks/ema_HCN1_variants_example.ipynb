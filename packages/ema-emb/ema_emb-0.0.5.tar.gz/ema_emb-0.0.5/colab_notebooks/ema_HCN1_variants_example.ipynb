{
 "cells": [
  {
   "cell_type": "markdown",
   "metadata": {},
   "source": [
    "[![Open In Colab](https://colab.research.google.com/assets/colab-badge.svg)](https://colab.research.google.com/github/pia-francesca/ema/blob/main/colab_notebooks/ema_HCN1_variants_example.ipynb)"
   ]
  },
  {
   "cell_type": "code",
   "execution_count": null,
   "metadata": {
    "colab": {
     "base_uri": "https://localhost:8080/"
    },
    "id": "H33IejWypsCK",
    "outputId": "ed5d0cd8-d123-43ca-9db8-21d4bb545fe2"
   },
   "outputs": [],
   "source": [
    " ! git clone https://github.com/pia-francesca/ema.git"
   ]
  },
  {
   "cell_type": "code",
   "execution_count": null,
   "metadata": {
    "colab": {
     "base_uri": "https://localhost:8080/"
    },
    "id": "2UJRjQ2MptJF",
    "outputId": "4dced36e-240f-4c9f-b52b-06ec784a6298"
   },
   "outputs": [],
   "source": [
    "! pip install umap"
   ]
  },
  {
   "cell_type": "code",
   "execution_count": null,
   "metadata": {
    "id": "iHs-YC5Cpkr8"
   },
   "outputs": [],
   "source": [
    "import numpy as np\n",
    "import pandas as pd\n",
    "\n",
    "from ema.ema.ema import EmbeddingHandler"
   ]
  },
  {
   "cell_type": "code",
   "execution_count": null,
   "metadata": {
    "id": "mjb-5aNqpkr-"
   },
   "outputs": [],
   "source": [
    "DATA_DIR = 'ema/examples/HCN1-variants/'\n",
    "FP_METADATA = DATA_DIR + 'metadata.csv'\n",
    "FP_EMB_ESM1b = DATA_DIR + 'esm1b_t33_650M_UR50S-embeddings.npy'\n",
    "FP_EMB_ESM2 = DATA_DIR + 'esm2_t33_650M_UR50D-embeddings.npy'"
   ]
  },
  {
   "cell_type": "markdown",
   "metadata": {
    "id": "8xBO_GJhpkr-"
   },
   "source": [
    "## Load data"
   ]
  },
  {
   "cell_type": "code",
   "execution_count": null,
   "metadata": {
    "colab": {
     "base_uri": "https://localhost:8080/",
     "height": 447
    },
    "id": "gKc6I1expkr_",
    "outputId": "d013c6ce-e507-4f0f-e2f3-61c59d14e678"
   },
   "outputs": [],
   "source": [
    "# load metadata and embeddings\n",
    "\n",
    "metadata = pd.read_csv(FP_METADATA)\n",
    "emb_esm1b = np.load(FP_EMB_ESM1b)\n",
    "emb_esm2 = np.load(FP_EMB_ESM2)\n",
    "\n",
    "print(emb_esm1b.shape, emb_esm2.shape)\n",
    "metadata.head()"
   ]
  },
  {
   "cell_type": "code",
   "execution_count": null,
   "metadata": {
    "colab": {
     "base_uri": "https://localhost:8080/"
    },
    "id": "6EKvOf4Ypkr_",
    "outputId": "6f589ad7-4d38-4c8f-ddd1-73abcaadebcd"
   },
   "outputs": [],
   "source": [
    "# initialize embedding handler\n",
    "emb_handler = EmbeddingHandler(metadata)\n",
    "\n",
    "# add embeddings to the handler\n",
    "emb_handler.add_emb_space(embeddings=emb_esm1b, emb_space_name='esm1b')\n",
    "emb_handler.add_emb_space(embeddings=emb_esm2, emb_space_name='esm2')"
   ]
  },
  {
   "cell_type": "markdown",
   "metadata": {
    "id": "8mClzRBcpkr_"
   },
   "source": [
    "## Explore embedding space"
   ]
  },
  {
   "cell_type": "code",
   "execution_count": null,
   "metadata": {
    "id": "fus2-wA2pkr_"
   },
   "outputs": [],
   "source": [
    "fig = emb_handler.plot_emb_hist()\n",
    "fig.show()"
   ]
  },
  {
   "cell_type": "code",
   "execution_count": null,
   "metadata": {
    "id": "GxYo2GKdpkr_"
   },
   "outputs": [],
   "source": [
    "fig = emb_handler.plot_emb_box(group=\"sample\")\n",
    "fig.show()"
   ]
  },
  {
   "cell_type": "markdown",
   "metadata": {
    "id": "KLgwaD5kpkr_"
   },
   "source": [
    "### Visualisation of dimensionality reduction x Metadata"
   ]
  },
  {
   "cell_type": "markdown",
   "metadata": {
    "id": "0q9q4qEepkr_"
   },
   "source": [
    "#### PCA"
   ]
  },
  {
   "cell_type": "code",
   "execution_count": null,
   "metadata": {
    "colab": {
     "base_uri": "https://localhost:8080/",
     "height": 817
    },
    "id": "uFz4rWq4pkr_",
    "outputId": "00ef3af9-2155-4f51-8afb-b09d08677daa"
   },
   "outputs": [],
   "source": [
    "emb_handler.visualise_emb_pca(emb_space_name=\"esm1b\",\n",
    "                              colour=\"binary_disorder_prediction\")"
   ]
  },
  {
   "cell_type": "code",
   "execution_count": null,
   "metadata": {
    "colab": {
     "base_uri": "https://localhost:8080/",
     "height": 817
    },
    "id": "_iKHh9zlpksA",
    "outputId": "889e1fcc-2fb6-4ac5-8699-0c1f5426136a"
   },
   "outputs": [],
   "source": [
    "\n",
    "emb_handler.visualise_emb_pca(emb_space_name=\"esm2\",\n",
    "                              colour=\"binary_disorder_prediction\")"
   ]
  },
  {
   "cell_type": "markdown",
   "metadata": {
    "id": "VQy46QtZpksA"
   },
   "source": [
    "#### t-SNE"
   ]
  },
  {
   "cell_type": "code",
   "execution_count": null,
   "metadata": {
    "colab": {
     "base_uri": "https://localhost:8080/",
     "height": 817
    },
    "id": "VRd1C67gpksA",
    "outputId": "f9e3bfa5-ebe0-44e6-eb2a-3e1bffff2398"
   },
   "outputs": [],
   "source": [
    "emb_handler.visualise_emb_tsne(emb_space_name=\"esm1b\",\n",
    "                               colour=\"binary_disorder_prediction\")"
   ]
  },
  {
   "cell_type": "code",
   "execution_count": null,
   "metadata": {
    "colab": {
     "base_uri": "https://localhost:8080/",
     "height": 817
    },
    "id": "ZpwWUq5hpksA",
    "outputId": "fcbf39a4-a9e6-4990-8d82-5028a42ab79c"
   },
   "outputs": [],
   "source": [
    "emb_handler.visualise_emb_tsne(emb_space_name=\"esm2\",\n",
    "                               colour=\"binary_disorder_prediction\")"
   ]
  },
  {
   "cell_type": "markdown",
   "metadata": {
    "id": "6qROTFcZpksA"
   },
   "source": [
    "### Unsupervised clustering x Metadata"
   ]
  },
  {
   "cell_type": "code",
   "execution_count": null,
   "metadata": {
    "colab": {
     "base_uri": "https://localhost:8080/"
    },
    "id": "YWP4Xh_-pksA",
    "outputId": "8f140ea2-b5fe-461c-f2ca-5b46c61796e5"
   },
   "outputs": [],
   "source": [
    "emb_handler.recalculate_clusters(n_clusters=3, emb_space_name=\"esm1b\")\n",
    "emb_handler.recalculate_clusters(n_clusters=3, emb_space_name=\"esm2\")"
   ]
  },
  {
   "cell_type": "code",
   "execution_count": null,
   "metadata": {
    "colab": {
     "base_uri": "https://localhost:8080/",
     "height": 542
    },
    "id": "2H9PO1oNpksA",
    "outputId": "77d5cf84-e1bf-4c79-bd40-21b60ee63224"
   },
   "outputs": [],
   "source": [
    "emb_handler.plot_feature_cluster_overlap(\n",
    "    emb_space_name=\"esm1b\",\n",
    "    feature=\"binary_disorder_prediction\"\n",
    ")"
   ]
  },
  {
   "cell_type": "code",
   "execution_count": null,
   "metadata": {
    "colab": {
     "base_uri": "https://localhost:8080/",
     "height": 542
    },
    "id": "a3jtQA7mpksA",
    "outputId": "854e725d-2145-482a-c195-83d3ed38e7cd"
   },
   "outputs": [],
   "source": [
    "emb_handler.plot_feature_cluster_overlap(\n",
    "    emb_space_name=\"esm2\",\n",
    "    feature=\"binary_disorder_prediction\"\n",
    ")"
   ]
  },
  {
   "cell_type": "markdown",
   "metadata": {
    "id": "4o41NEGnpksA"
   },
   "source": [
    "### Pairswise distances between samples"
   ]
  },
  {
   "cell_type": "code",
   "execution_count": null,
   "metadata": {
    "colab": {
     "base_uri": "https://localhost:8080/",
     "height": 542
    },
    "id": "hK01jNYGpksA",
    "outputId": "f8bfe2a9-75ea-424d-e248-33ef21688737"
   },
   "outputs": [],
   "source": [
    "emb_handler.plot_emb_dis_hist(distance_metric = \"euclidean\")"
   ]
  },
  {
   "cell_type": "code",
   "execution_count": null,
   "metadata": {
    "colab": {
     "base_uri": "https://localhost:8080/",
     "height": 1000
    },
    "id": "jw-YW4XBpksA",
    "outputId": "9b3a0be6-c169-4230-e68f-9ac6990a73c3"
   },
   "outputs": [],
   "source": [
    "fig_esm1b = emb_handler.plot_emb_dis_heatmap(\n",
    "    emb_space_name=\"esm1b\",\n",
    "    distance_metric=\"euclidean\",\n",
    "    order_x=\"binary_disorder_prediction\",\n",
    "    order_y=\"binary_disorder_prediction\",\n",
    ")\n",
    "fig_esm2 = emb_handler.plot_emb_dis_heatmap(\n",
    "    emb_space_name=\"esm2\",\n",
    "    distance_metric=\"euclidean\",\n",
    "    order_x=\"binary_disorder_prediction\",\n",
    "    order_y=\"binary_disorder_prediction\",\n",
    ")\n",
    "fig_esm1b.show(), fig_esm2.show()"
   ]
  },
  {
   "cell_type": "markdown",
   "metadata": {
    "id": "xz8gmqaHpksA"
   },
   "source": [
    "#### Including meatdata"
   ]
  },
  {
   "cell_type": "code",
   "execution_count": null,
   "metadata": {
    "colab": {
     "base_uri": "https://localhost:8080/",
     "height": 542
    },
    "id": "7ExhH3xOpksB",
    "outputId": "42f7129c-db9b-47fd-b8e0-3324a76d2ac2"
   },
   "outputs": [],
   "source": [
    "emb_handler.plot_emb_dis_dif_dis_per_group(emb_space_name=\"esm1b\",\n",
    "                                      distance_metric=\"cosine\",\n",
    "                                      group=\"binary_disorder_prediction\",\n",
    "                                      plot_type=\"box\"\n",
    "                                      )"
   ]
  },
  {
   "cell_type": "code",
   "execution_count": null,
   "metadata": {
    "colab": {
     "base_uri": "https://localhost:8080/",
     "height": 542
    },
    "id": "UgKM9RkmpksB",
    "outputId": "5f9e76c1-72c4-4ac6-f3e4-d1e5d070a6fa"
   },
   "outputs": [],
   "source": [
    "emb_handler.plot_emb_dis_dif_dis_per_group(emb_space_name=\"esm2\",\n",
    "                                      distance_metric=\"cosine\",\n",
    "                                      group=\"binary_disorder_prediction\",\n",
    "                                      plot_type=\"box\"\n",
    "                                      )"
   ]
  },
  {
   "cell_type": "code",
   "execution_count": null,
   "metadata": {
    "id": "HGdf4X-CpksB"
   },
   "outputs": [],
   "source": [
    "fig = emb_handler.plot_emb_dis_scatter(\n",
    "    emb_space_name_1 = \"esm1b\",\n",
    "    emb_space_name_2 = \"esm2\",\n",
    "    distance_metric = \"euclidean\",\n",
    "    colour_group=\"binary_disorder_prediction\",\n",
    "    colour_value_1 = \"True\"\n",
    ")\n",
    "fig.show()"
   ]
  },
  {
   "cell_type": "code",
   "execution_count": null,
   "metadata": {
    "id": "2ukpLzzKpksB"
   },
   "outputs": [],
   "source": [
    "emb_handler.plot_emb_dis_continuous_correlation(emb_space_name=\"esm1b\",\n",
    "                                                distance_metric=\"euclidean\",\n",
    "                                                feature=\"disorder_propensity\")"
   ]
  }
 ],
 "metadata": {
  "colab": {
   "provenance": []
  },
  "kernelspec": {
   "display_name": "Python 3 (ipykernel)",
   "language": "python",
   "name": "python3"
  },
  "language_info": {
   "codemirror_mode": {
    "name": "ipython",
    "version": 3
   },
   "file_extension": ".py",
   "mimetype": "text/x-python",
   "name": "python",
   "nbconvert_exporter": "python",
   "pygments_lexer": "ipython3",
   "version": "3.11.6"
  }
 },
 "nbformat": 4,
 "nbformat_minor": 4
}

{
 "cells": [
  {
   "cell_type": "code",
   "execution_count": 11,
   "metadata": {},
   "outputs": [],
   "source": [
    "import pandas as pd"
   ]
  },
  {
   "cell_type": "code",
   "execution_count": 12,
   "metadata": {},
   "outputs": [],
   "source": [
    "fp = \"metadata.csv\""
   ]
  },
  {
   "cell_type": "code",
   "execution_count": 13,
   "metadata": {},
   "outputs": [],
   "source": [
    "df = pd.read_csv(fp)"
   ]
  },
  {
   "cell_type": "code",
   "execution_count": 14,
   "metadata": {},
   "outputs": [
    {
     "name": "stdout",
     "output_type": "stream",
     "text": [
      "(880, 22)\n"
     ]
    },
    {
     "data": {
      "text/html": [
       "<div>\n",
       "<style scoped>\n",
       "    .dataframe tbody tr th:only-of-type {\n",
       "        vertical-align: middle;\n",
       "    }\n",
       "\n",
       "    .dataframe tbody tr th {\n",
       "        vertical-align: top;\n",
       "    }\n",
       "\n",
       "    .dataframe thead th {\n",
       "        text-align: right;\n",
       "    }\n",
       "</style>\n",
       "<table border=\"1\" class=\"dataframe\">\n",
       "  <thead>\n",
       "    <tr style=\"text-align: right;\">\n",
       "      <th></th>\n",
       "      <th>variant_id</th>\n",
       "      <th>flDPnn_disorder_propensity</th>\n",
       "      <th>uniprot_topological_domain</th>\n",
       "      <th>uniprot_transmembrane</th>\n",
       "      <th>unoprot_intramembrane</th>\n",
       "      <th>uniprot_region</th>\n",
       "      <th>uniprot_motif</th>\n",
       "      <th>uniprot_binding_site</th>\n",
       "      <th>uniprot_glycosylation</th>\n",
       "      <th>ppi_HB_intra</th>\n",
       "      <th>...</th>\n",
       "      <th>ppi_NB_intra</th>\n",
       "      <th>flDPnn_binary_disorder_prediction</th>\n",
       "      <th>alphamissense_class_pathogenic</th>\n",
       "      <th>alphamissense_class_benign</th>\n",
       "      <th>alphafold2_ss3</th>\n",
       "      <th>alphafold2_ss9</th>\n",
       "      <th>gene_name</th>\n",
       "      <th>family</th>\n",
       "      <th>phenotype</th>\n",
       "      <th>data_source</th>\n",
       "    </tr>\n",
       "  </thead>\n",
       "  <tbody>\n",
       "    <tr>\n",
       "      <th>0</th>\n",
       "      <td>HCN1:272:S:P</td>\n",
       "      <td>0.010</td>\n",
       "      <td>False</td>\n",
       "      <td>True</td>\n",
       "      <td>False</td>\n",
       "      <td>Non-disordered</td>\n",
       "      <td>False</td>\n",
       "      <td>False</td>\n",
       "      <td>False</td>\n",
       "      <td>True</td>\n",
       "      <td>...</td>\n",
       "      <td>True</td>\n",
       "      <td>False</td>\n",
       "      <td>True</td>\n",
       "      <td>False</td>\n",
       "      <td>H</td>\n",
       "      <td>H</td>\n",
       "      <td>HCN1</td>\n",
       "      <td>HCN</td>\n",
       "      <td>Developmental and epileptic encephalopathy, 24</td>\n",
       "      <td>clinvar</td>\n",
       "    </tr>\n",
       "    <tr>\n",
       "      <th>1</th>\n",
       "      <td>HCN1:279:H:Y</td>\n",
       "      <td>0.015</td>\n",
       "      <td>False</td>\n",
       "      <td>True</td>\n",
       "      <td>False</td>\n",
       "      <td>Non-disordered</td>\n",
       "      <td>False</td>\n",
       "      <td>False</td>\n",
       "      <td>False</td>\n",
       "      <td>True</td>\n",
       "      <td>...</td>\n",
       "      <td>True</td>\n",
       "      <td>False</td>\n",
       "      <td>True</td>\n",
       "      <td>False</td>\n",
       "      <td>H</td>\n",
       "      <td>H</td>\n",
       "      <td>HCN1</td>\n",
       "      <td>HCN</td>\n",
       "      <td>Developmental and epileptic encephalopathy, 24</td>\n",
       "      <td>clinvar</td>\n",
       "    </tr>\n",
       "    <tr>\n",
       "      <th>2</th>\n",
       "      <td>HCN1:391:G:D</td>\n",
       "      <td>0.005</td>\n",
       "      <td>False</td>\n",
       "      <td>True</td>\n",
       "      <td>False</td>\n",
       "      <td>Non-disordered</td>\n",
       "      <td>False</td>\n",
       "      <td>False</td>\n",
       "      <td>False</td>\n",
       "      <td>True</td>\n",
       "      <td>...</td>\n",
       "      <td>True</td>\n",
       "      <td>False</td>\n",
       "      <td>True</td>\n",
       "      <td>False</td>\n",
       "      <td>H</td>\n",
       "      <td>H</td>\n",
       "      <td>HCN1</td>\n",
       "      <td>HCN</td>\n",
       "      <td>Epileptic encephalopathy</td>\n",
       "      <td>clinvar</td>\n",
       "    </tr>\n",
       "    <tr>\n",
       "      <th>3</th>\n",
       "      <td>HCN1:153:M:I</td>\n",
       "      <td>0.009</td>\n",
       "      <td>False</td>\n",
       "      <td>True</td>\n",
       "      <td>False</td>\n",
       "      <td>Non-disordered</td>\n",
       "      <td>False</td>\n",
       "      <td>False</td>\n",
       "      <td>False</td>\n",
       "      <td>True</td>\n",
       "      <td>...</td>\n",
       "      <td>True</td>\n",
       "      <td>False</td>\n",
       "      <td>True</td>\n",
       "      <td>False</td>\n",
       "      <td>H</td>\n",
       "      <td>H</td>\n",
       "      <td>HCN1</td>\n",
       "      <td>HCN</td>\n",
       "      <td>Epileptic encephalopathy</td>\n",
       "      <td>clinvar</td>\n",
       "    </tr>\n",
       "    <tr>\n",
       "      <th>4</th>\n",
       "      <td>HCN1:305:M:L</td>\n",
       "      <td>0.006</td>\n",
       "      <td>False</td>\n",
       "      <td>True</td>\n",
       "      <td>False</td>\n",
       "      <td>Non-disordered</td>\n",
       "      <td>False</td>\n",
       "      <td>False</td>\n",
       "      <td>False</td>\n",
       "      <td>True</td>\n",
       "      <td>...</td>\n",
       "      <td>True</td>\n",
       "      <td>False</td>\n",
       "      <td>True</td>\n",
       "      <td>False</td>\n",
       "      <td>H</td>\n",
       "      <td>H</td>\n",
       "      <td>HCN1</td>\n",
       "      <td>HCN</td>\n",
       "      <td>not provided</td>\n",
       "      <td>clinvar</td>\n",
       "    </tr>\n",
       "  </tbody>\n",
       "</table>\n",
       "<p>5 rows × 22 columns</p>\n",
       "</div>"
      ],
      "text/plain": [
       "     variant_id  flDPnn_disorder_propensity  uniprot_topological_domain  \\\n",
       "0  HCN1:272:S:P                       0.010                       False   \n",
       "1  HCN1:279:H:Y                       0.015                       False   \n",
       "2  HCN1:391:G:D                       0.005                       False   \n",
       "3  HCN1:153:M:I                       0.009                       False   \n",
       "4  HCN1:305:M:L                       0.006                       False   \n",
       "\n",
       "   uniprot_transmembrane  unoprot_intramembrane  uniprot_region  \\\n",
       "0                   True                  False  Non-disordered   \n",
       "1                   True                  False  Non-disordered   \n",
       "2                   True                  False  Non-disordered   \n",
       "3                   True                  False  Non-disordered   \n",
       "4                   True                  False  Non-disordered   \n",
       "\n",
       "   uniprot_motif  uniprot_binding_site  uniprot_glycosylation  ppi_HB_intra  \\\n",
       "0          False                 False                  False          True   \n",
       "1          False                 False                  False          True   \n",
       "2          False                 False                  False          True   \n",
       "3          False                 False                  False          True   \n",
       "4          False                 False                  False          True   \n",
       "\n",
       "   ...  ppi_NB_intra  flDPnn_binary_disorder_prediction  \\\n",
       "0  ...          True                              False   \n",
       "1  ...          True                              False   \n",
       "2  ...          True                              False   \n",
       "3  ...          True                              False   \n",
       "4  ...          True                              False   \n",
       "\n",
       "   alphamissense_class_pathogenic  alphamissense_class_benign  alphafold2_ss3  \\\n",
       "0                            True                       False               H   \n",
       "1                            True                       False               H   \n",
       "2                            True                       False               H   \n",
       "3                            True                       False               H   \n",
       "4                            True                       False               H   \n",
       "\n",
       "   alphafold2_ss9 gene_name family  \\\n",
       "0               H      HCN1    HCN   \n",
       "1               H      HCN1    HCN   \n",
       "2               H      HCN1    HCN   \n",
       "3               H      HCN1    HCN   \n",
       "4               H      HCN1    HCN   \n",
       "\n",
       "                                        phenotype data_source  \n",
       "0  Developmental and epileptic encephalopathy, 24     clinvar  \n",
       "1  Developmental and epileptic encephalopathy, 24     clinvar  \n",
       "2                        Epileptic encephalopathy     clinvar  \n",
       "3                        Epileptic encephalopathy     clinvar  \n",
       "4                                    not provided     clinvar  \n",
       "\n",
       "[5 rows x 22 columns]"
      ]
     },
     "execution_count": 14,
     "metadata": {},
     "output_type": "execute_result"
    }
   ],
   "source": [
    "print(df.shape)\n",
    "df.head()"
   ]
  },
  {
   "cell_type": "code",
   "execution_count": 5,
   "metadata": {},
   "outputs": [
    {
     "name": "stdout",
     "output_type": "stream",
     "text": [
      "(881, 22)\n"
     ]
    }
   ],
   "source": [
    "# remove row with WT contained in the variant_id\n",
    "print(df.shape)\n",
    "#df = df[~df.variant_id.str.contains(\"WT\")]\n",
    "# print(df.shape)"
   ]
  },
  {
   "cell_type": "code",
   "execution_count": 6,
   "metadata": {},
   "outputs": [
    {
     "name": "stdout",
     "output_type": "stream",
     "text": [
      "gnomad      861\n",
      "clinvar      19\n",
      "wildtype      1\n",
      "Name: data_source, dtype: int64\n"
     ]
    }
   ],
   "source": [
    "# how many from each data source\n",
    "\n",
    "print(df.data_source.value_counts())"
   ]
  },
  {
   "cell_type": "code",
   "execution_count": 8,
   "metadata": {},
   "outputs": [
    {
     "data": {
      "text/html": [
       "<div>\n",
       "<style scoped>\n",
       "    .dataframe tbody tr th:only-of-type {\n",
       "        vertical-align: middle;\n",
       "    }\n",
       "\n",
       "    .dataframe tbody tr th {\n",
       "        vertical-align: top;\n",
       "    }\n",
       "\n",
       "    .dataframe thead th {\n",
       "        text-align: right;\n",
       "    }\n",
       "</style>\n",
       "<table border=\"1\" class=\"dataframe\">\n",
       "  <thead>\n",
       "    <tr style=\"text-align: right;\">\n",
       "      <th>data_source</th>\n",
       "      <th>gnomad</th>\n",
       "      <th>clinvar</th>\n",
       "    </tr>\n",
       "    <tr>\n",
       "      <th>uniprot_region</th>\n",
       "      <th></th>\n",
       "      <th></th>\n",
       "    </tr>\n",
       "  </thead>\n",
       "  <tbody>\n",
       "    <tr>\n",
       "      <th>Disordered</th>\n",
       "      <td>397.0</td>\n",
       "      <td>0.0</td>\n",
       "    </tr>\n",
       "    <tr>\n",
       "      <th>Non-disordered</th>\n",
       "      <td>464.0</td>\n",
       "      <td>19.0</td>\n",
       "    </tr>\n",
       "  </tbody>\n",
       "</table>\n",
       "</div>"
      ],
      "text/plain": [
       "data_source     gnomad  clinvar\n",
       "uniprot_region                 \n",
       "Disordered       397.0      0.0\n",
       "Non-disordered   464.0     19.0"
      ]
     },
     "execution_count": 8,
     "metadata": {},
     "output_type": "execute_result"
    }
   ],
   "source": [
    "df.groupby([\"uniprot_region\", \"data_source\"]).size().unstack().fillna(0)"
   ]
  },
  {
   "cell_type": "code",
   "execution_count": 24,
   "metadata": {},
   "outputs": [
    {
     "data": {
      "text/plain": [
       "Index(['variant_id', 'disorder_propensity',\n",
       "       '('uniprot', 'Topological domain')', '('uniprot', 'Transmembrane')',\n",
       "       '('uniprot', 'Intramembrane')', '('uniprot', 'Region')',\n",
       "       '('uniprot', 'Motif')', '('uniprot', 'Binding site')',\n",
       "       '('uniprot', 'Glycosylation')', 'HB_intra', 'SB_intra', 'DS_intra',\n",
       "       'NB_intra', 'binary_disorder_prediction', 'am_class_pathogenic',\n",
       "       'am_class_benign', 'ss3', 'ss9', 'gene_name', 'family', 'phenotype',\n",
       "       'data_source'],\n",
       "      dtype='object')"
      ]
     },
     "execution_count": 24,
     "metadata": {},
     "output_type": "execute_result"
    }
   ],
   "source": [
    "df.columns"
   ]
  },
  {
   "cell_type": "code",
   "execution_count": 10,
   "metadata": {},
   "outputs": [
    {
     "data": {
      "text/html": [
       "<div>\n",
       "<style scoped>\n",
       "    .dataframe tbody tr th:only-of-type {\n",
       "        vertical-align: middle;\n",
       "    }\n",
       "\n",
       "    .dataframe tbody tr th {\n",
       "        vertical-align: top;\n",
       "    }\n",
       "\n",
       "    .dataframe thead th {\n",
       "        text-align: right;\n",
       "    }\n",
       "</style>\n",
       "<table border=\"1\" class=\"dataframe\">\n",
       "  <thead>\n",
       "    <tr style=\"text-align: right;\">\n",
       "      <th>data_source</th>\n",
       "      <th>clinvar</th>\n",
       "      <th>gnomad</th>\n",
       "    </tr>\n",
       "    <tr>\n",
       "      <th>alphamissense_class_benign</th>\n",
       "      <th></th>\n",
       "      <th></th>\n",
       "    </tr>\n",
       "  </thead>\n",
       "  <tbody>\n",
       "    <tr>\n",
       "      <th>False</th>\n",
       "      <td>18</td>\n",
       "      <td>339</td>\n",
       "    </tr>\n",
       "    <tr>\n",
       "      <th>True</th>\n",
       "      <td>1</td>\n",
       "      <td>522</td>\n",
       "    </tr>\n",
       "  </tbody>\n",
       "</table>\n",
       "</div>"
      ],
      "text/plain": [
       "data_source                 clinvar  gnomad\n",
       "alphamissense_class_benign                 \n",
       "False                            18     339\n",
       "True                              1     522"
      ]
     },
     "execution_count": 10,
     "metadata": {},
     "output_type": "execute_result"
    }
   ],
   "source": [
    "df.groupby([\"alphamissense_class_benign\", \"data_source\"]).size().unstack().fillna(0)"
   ]
  },
  {
   "cell_type": "code",
   "execution_count": 26,
   "metadata": {},
   "outputs": [],
   "source": [
    "# rename rows in the \"('uniprot', 'Region')\" column to True = \"Disordered\" and False = \"Non-disordered\"\n",
    "\n",
    "df[\"('uniprot', 'Region')\"] = df[\"('uniprot', 'Region')\"].replace({True: \"Disordered\", False: \"Non-disordered\"})"
   ]
  },
  {
   "cell_type": "code",
   "execution_count": 27,
   "metadata": {},
   "outputs": [
    {
     "data": {
      "text/plain": [
       "0      Non-disordered\n",
       "1      Non-disordered\n",
       "2      Non-disordered\n",
       "3      Non-disordered\n",
       "4      Non-disordered\n",
       "            ...      \n",
       "876        Disordered\n",
       "877        Disordered\n",
       "878        Disordered\n",
       "879        Disordered\n",
       "880               NaN\n",
       "Name: ('uniprot', 'Region'), Length: 881, dtype: object"
      ]
     },
     "execution_count": 27,
     "metadata": {},
     "output_type": "execute_result"
    }
   ],
   "source": [
    "df[\"('uniprot', 'Region')\"]"
   ]
  },
  {
   "cell_type": "code",
   "execution_count": 28,
   "metadata": {},
   "outputs": [],
   "source": [
    "# rewrite the csv file with the changes\n",
    "\n",
    "df.to_csv(fp, index=False)"
   ]
  },
  {
   "cell_type": "code",
   "execution_count": null,
   "metadata": {},
   "outputs": [],
   "source": []
  }
 ],
 "metadata": {
  "kernelspec": {
   "display_name": "jupyter",
   "language": "python",
   "name": "python3"
  },
  "language_info": {
   "codemirror_mode": {
    "name": "ipython",
    "version": 3
   },
   "file_extension": ".py",
   "mimetype": "text/x-python",
   "name": "python",
   "nbconvert_exporter": "python",
   "pygments_lexer": "ipython3",
   "version": "3.8.16"
  }
 },
 "nbformat": 4,
 "nbformat_minor": 2
}

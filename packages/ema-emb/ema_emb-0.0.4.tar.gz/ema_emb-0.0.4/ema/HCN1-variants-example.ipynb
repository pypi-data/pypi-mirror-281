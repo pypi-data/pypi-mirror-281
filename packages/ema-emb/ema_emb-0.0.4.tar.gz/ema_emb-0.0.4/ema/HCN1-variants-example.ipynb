{
 "cells": [
  {
   "cell_type": "markdown",
   "metadata": {},
   "source": [
    "# Application example | **Embedding of protein families across protein language models**"
   ]
  },
  {
   "cell_type": "markdown",
   "metadata": {},
   "source": [
    "This notebook demonstrates how to use the ema-tool library to analyse the embedding of protein families across protein language models. We will use the [ESM Model](https://github.com/facebookresearch/esm) model and a set of ion channel wildtype proteins as an example."
   ]
  },
  {
   "cell_type": "markdown",
   "metadata": {},
   "source": [
    "## Loading dependencies"
   ]
  },
  {
   "cell_type": "code",
   "execution_count": null,
   "metadata": {},
   "outputs": [],
   "source": [
    "import numpy as np\n",
    "import pandas as pd\n",
    "\n",
    "from ema import EmbeddingHandler"
   ]
  },
  {
   "cell_type": "markdown",
   "metadata": {},
   "source": [
    "## Loading data"
   ]
  },
  {
   "cell_type": "markdown",
   "metadata": {},
   "source": [
    "`ema-tool` requires a table of **metadata** about the proteins to be embedded. The first column of the table should contain the sample identifiers. These need to be unique. Any further columns can contain metadata about the samples. In this example, we will use a table of ion channel proteins. Metadata can be either categorical or numerical.\n",
    "\n",
    "Further the **embedding spaces** of the proteins need to be provided in the format of NumPy arrays. In this example, we will use the ESM-1b model to embed the proteins. Each row in the NumPy array should correspond to the embedding of the protein with the same row index in the metadata table. The dimensions of the embedding space can differ between models."
   ]
  },
  {
   "cell_type": "code",
   "execution_count": null,
   "metadata": {},
   "outputs": [],
   "source": [
    "DATA_DIR = '../examples/HCN1-variants/'\n",
    "FP_METADATA = DATA_DIR + 'metadata.csv'\n",
    "FP_EMB_ESM1b = DATA_DIR + 'esm1b_t33_650M_UR50S-embeddings.npy'\n",
    "FP_EMB_ESM2 = DATA_DIR + 'esm2_t33_650M_UR50D-embeddings.npy'"
   ]
  },
  {
   "cell_type": "code",
   "execution_count": null,
   "metadata": {},
   "outputs": [],
   "source": [
    "# load metadata and embeddings \n",
    "\n",
    "metadata = pd.read_csv(FP_METADATA)\n",
    "emb_esm1b = np.load(FP_EMB_ESM1b)\n",
    "emb_esm2 = np.load(FP_EMB_ESM2)\n",
    "\n",
    "print(emb_esm1b.shape, emb_esm2.shape)\n",
    "metadata.head()"
   ]
  },
  {
   "cell_type": "markdown",
   "metadata": {},
   "source": [
    "## Initialising the ema object"
   ]
  },
  {
   "cell_type": "markdown",
   "metadata": {},
   "source": [
    "The `EmbeddingHandler` object is the main object in the ema-tool library. It is used to load the model, preprocess the data, and perform the analysis.\n",
    "It is initialised with the metadata of the analysed samples. \n",
    "\n",
    "Embedding spaces are added to the object using the `add_emb_space` method. Multiple embedding spaces can be added to the object. Each embedding space is identified by a unique name. Embedding spaces can also be removed from the object using the `remove_emb_space()` method."
   ]
  },
  {
   "cell_type": "code",
   "execution_count": null,
   "metadata": {},
   "outputs": [],
   "source": [
    "# initialize embedding handler\n",
    "emb_handler = EmbeddingHandler(metadata)\n",
    "\n",
    "# add embeddings to the handler\n",
    "emb_handler.add_emb_space(embeddings=emb_esm1b, emb_space_name='esm1b')\n",
    "emb_handler.add_emb_space(embeddings=emb_esm2, emb_space_name='esm2')"
   ]
  },
  {
   "cell_type": "markdown",
   "metadata": {},
   "source": [
    "## Accessing the metadata"
   ]
  },
  {
   "cell_type": "markdown",
   "metadata": {},
   "source": [
    "The sample names can be accessed using the `get_sample_names()` method."
   ]
  },
  {
   "cell_type": "code",
   "execution_count": null,
   "metadata": {},
   "outputs": [],
   "source": [
    "emb_handler.get_sample_names()[:5]"
   ]
  },
  {
   "cell_type": "markdown",
   "metadata": {},
   "source": [
    "The columns of the metadata can be accessed shown using the `get_groups()` function. The function returns a list of the column names."
   ]
  },
  {
   "cell_type": "code",
   "execution_count": null,
   "metadata": {},
   "outputs": [],
   "source": [
    "emb_handler.get_groups()"
   ]
  },
  {
   "cell_type": "markdown",
   "metadata": {},
   "source": [
    "The `get_unique_values()` function can be used to get the unique values of a specific column in the metadata."
   ]
  },
  {
   "cell_type": "code",
   "execution_count": null,
   "metadata": {},
   "outputs": [],
   "source": [
    "emb_handler.get_unique_values_per_group(\n",
    "    group=\"alphafold2_ss9\"\n",
    ")"
   ]
  },
  {
   "cell_type": "markdown",
   "metadata": {},
   "source": [
    "The `get_value_count_per_group` function can be used to get the number of samples per unique value in a specific column."
   ]
  },
  {
   "cell_type": "code",
   "execution_count": null,
   "metadata": {},
   "outputs": [],
   "source": [
    "emb_handler.get_value_count_per_group(\n",
    "    group=\"alphafold2_ss9\"\n",
    ")"
   ]
  },
  {
   "cell_type": "markdown",
   "metadata": {},
   "source": [
    "The `get_samples_per_group_value()` parameter allows to get the rows of the metadata table that correspond to a specific value in a specific column."
   ]
  },
  {
   "cell_type": "code",
   "execution_count": null,
   "metadata": {},
   "outputs": [],
   "source": [
    "emb_handler.get_samples_per_group_value(\n",
    "    group=\"alphafold2_ss9\",\n",
    "    group_value=\"B\"\n",
    ")"
   ]
  },
  {
   "cell_type": "markdown",
   "metadata": {},
   "source": [
    "## Analysis Within an Embedding Space"
   ]
  },
  {
   "cell_type": "markdown",
   "metadata": {},
   "source": [
    "### Distribution of embedding values"
   ]
  },
  {
   "cell_type": "markdown",
   "metadata": {},
   "source": [
    "Multiple analyses can be performed to understand the scale and distribution of each embedding space.\n",
    "\n",
    "This histogram shown with the `plot_emb_hist()` displays the distribution of the embedding values stratified by the embedding space. For an embedding of dimension d=1280 all 1280 values of the embedding will be visualised independently."
   ]
  },
  {
   "cell_type": "code",
   "execution_count": null,
   "metadata": {},
   "outputs": [],
   "source": [
    "emb_handler.plot_emb_hist()"
   ]
  },
  {
   "cell_type": "markdown",
   "metadata": {},
   "source": [
    "The `plot_emb_box()` function can be used to display the distribution of the embedding values in a boxplot. \n",
    "\n",
    "Here the `group` parameter can be used to stratify the samples by a specific column in the metadata or by individual samples."
   ]
  },
  {
   "cell_type": "code",
   "execution_count": null,
   "metadata": {},
   "outputs": [],
   "source": [
    "emb_handler.plot_emb_box(group=\"sample\")"
   ]
  },
  {
   "cell_type": "code",
   "execution_count": null,
   "metadata": {},
   "outputs": [],
   "source": [
    "emb_handler.plot_emb_box(group=\"data_source\")"
   ]
  },
  {
   "cell_type": "markdown",
   "metadata": {},
   "source": [
    "### Unsupervised clustering"
   ]
  },
  {
   "cell_type": "markdown",
   "metadata": {},
   "source": [
    "During the initialisation of the `EmbeddingHandler` object, an unsupervised clustering can be performed automatically using the KMeans algorithm. \n",
    "\n",
    "By default ema computes a number of clusters equal to the mean number of categories in the metadata. This is a good starting point, but you can also specify the number of clusters you want to compute.\n"
   ]
  },
  {
   "cell_type": "code",
   "execution_count": null,
   "metadata": {},
   "outputs": [],
   "source": [
    "# specify a number of unsupervised clusters\n",
    "\n",
    "emb_handler.recalculate_clusters(\n",
    "    n_clusters=5,\n",
    "    emb_space_name='esm1b')\n",
    "\n",
    "emb_handler.recalculate_clusters(\n",
    "    n_clusters=5,\n",
    "    emb_space_name='esm2'\n",
    "    )    "
   ]
  },
  {
   "cell_type": "markdown",
   "metadata": {},
   "source": [
    "The agreement between the clustering and the metadata can be visualised using the `plot_feature_cluster_overlap()` function. This function shows a barplot of the number of samples for each metadata value of the specified metadata column (selected with the `feature` parameter). The colour of the bars represents the cluster assignment of the samples. The height of the bars represents the number of samples in the dataset with the corresponding metadata value."
   ]
  },
  {
   "cell_type": "code",
   "execution_count": null,
   "metadata": {},
   "outputs": [],
   "source": [
    "emb_handler.plot_feature_cluster_overlap(\n",
    "    emb_space_name = \"esm1b\",\n",
    "    feature=\"alphafold2_ss3\"\n",
    ")"
   ]
  },
  {
   "cell_type": "markdown",
   "metadata": {},
   "source": [
    "The function can also be used to compare the agreement between the unsupervised clustering of two different embedding spaces. By setting the `feature` parameter to `cluster_<emb-space-name>` the function will compare the agreement between the unsupervised clustering of the two embedding spaces."
   ]
  },
  {
   "cell_type": "code",
   "execution_count": null,
   "metadata": {},
   "outputs": [],
   "source": [
    "emb_handler.plot_feature_cluster_overlap(\n",
    "    emb_space_name = \"esm1b\",\n",
    "    feature=\"cluster_esm2\"\n",
    ")"
   ]
  },
  {
   "cell_type": "markdown",
   "metadata": {},
   "source": [
    "### Visualisation of dimensionality reduction"
   ]
  },
  {
   "cell_type": "markdown",
   "metadata": {},
   "source": [
    "Each embedding space can be visualised using dimensionality reduction techniques such as PCA, t-SNE and UMAP. The colour of the points can be stratified by a specific column in the metadata. If the `color` parameter is not set, the points will be coloured by the unsuperivsed clustering."
   ]
  },
  {
   "cell_type": "markdown",
   "metadata": {},
   "source": [
    "#### PCA"
   ]
  },
  {
   "cell_type": "code",
   "execution_count": null,
   "metadata": {},
   "outputs": [],
   "source": [
    "emb_handler.visualise_emb_pca(emb_space_name=\"esm1b\", \n",
    "                              colour=\"uniprot_region\"\n",
    "                              )"
   ]
  },
  {
   "cell_type": "code",
   "execution_count": null,
   "metadata": {},
   "outputs": [],
   "source": [
    "\n",
    "emb_handler.visualise_emb_pca(emb_space_name=\"esm2\", \n",
    "                              colour=\"uniprot_region\")"
   ]
  },
  {
   "cell_type": "markdown",
   "metadata": {},
   "source": [
    "#### t-SNE"
   ]
  },
  {
   "cell_type": "code",
   "execution_count": null,
   "metadata": {},
   "outputs": [],
   "source": [
    "emb_handler.visualise_emb_tsne(emb_space_name=\"esm1b\")"
   ]
  },
  {
   "cell_type": "code",
   "execution_count": null,
   "metadata": {},
   "outputs": [],
   "source": [
    "emb_handler.visualise_emb_umap(\n",
    "    emb_space_name=\"esm1b\",\n",
    "    colour=\"alphamissense_class_benign\"\n",
    ")"
   ]
  },
  {
   "cell_type": "markdown",
   "metadata": {},
   "source": [
    "### Pairswise distances between samples within an embedding space"
   ]
  },
  {
   "cell_type": "markdown",
   "metadata": {},
   "source": [
    "The following distance metrics are available for the comparison of pairwise distances between samples:\n",
    "\n",
    "*   `cosine`: Cosine distance\n",
    "*   `adjusted_cosine`: Adjusted cosine distance\n",
    "*   `cityblock`: Manhattan distance\n",
    "*   `cityblock_normalised`: Normalised manhattan distance\n",
    "*   `euclidean`: Euclidean distance\n",
    "*   `sequclidean`: Standardised euclidean distance\n",
    "*   `sqeuclidean_normalised`: Standardised normalised euclidean distance\n",
    "*   `euclidean_normalised`: Normalised euclidean distance\n",
    "*   `mahalanobis`: Mahalanobis distance\n",
    "\n",
    "The distances are automatically computed as soon as one of the distance functions is called."
   ]
  },
  {
   "cell_type": "markdown",
   "metadata": {},
   "source": [
    "All pairwise distances can be accessed in a heatmap. The x and y axes of the heatmap represent the samples. The colour of the heatmap represents the distance between the samples. The samples on each axis can be sorted based on a column in the metadata by using the `x_order` and `y_order` parameters."
   ]
  },
  {
   "cell_type": "code",
   "execution_count": null,
   "metadata": {},
   "outputs": [],
   "source": [
    "emb_handler.plot_emb_dis_heatmap(\n",
    "    emb_space_name=\"esm1b\",\n",
    "    distance_metric=\"euclidean\",\n",
    ")"
   ]
  },
  {
   "cell_type": "markdown",
   "metadata": {},
   "source": [
    "The matrix of pairwise distances can be accessed by using the `get_sample_distance()` function. The function returns a NumPy array of the pairwise distances."
   ]
  },
  {
   "cell_type": "code",
   "execution_count": null,
   "metadata": {},
   "outputs": [],
   "source": [
    "emb_handler.get_sample_distance(\n",
    "    emb_space_name=\"esm1b\",\n",
    "    metric=\"euclidean\"\n",
    ")"
   ]
  },
  {
   "cell_type": "markdown",
   "metadata": {},
   "source": [
    "The pairwise distances can be normalised with a normal distribution by setting the `rank` parameter to `normal_dis` for all functions that compute pairwise distances. The normalisation is performed by ranking the distances and transforming them to a normal distribution. To inspect whether the pairwise distances in an embedding space are normally distributed, the `plot_emb_dis_his_with_fitted_functions()` function can be used for a visual inspection."
   ]
  },
  {
   "cell_type": "code",
   "execution_count": null,
   "metadata": {},
   "outputs": [],
   "source": [
    "emb_handler.plot_emb_dis_his_with_fitted_functions(\n",
    "    emb_space_name=\"esm1b\",\n",
    "    distance_metric=\"euclidean\",\n",
    "    rank=\"normal_dis\"\n",
    ")"
   ]
  },
  {
   "cell_type": "markdown",
   "metadata": {},
   "source": [
    "### Correlation of pairwise distances with metadata"
   ]
  },
  {
   "cell_type": "markdown",
   "metadata": {},
   "source": [
    "The correlation of pairwise distances with metadata can be computed using the `plot_emb_dis_continuous_correlation()` function. The function computes the correlation of the pairwise distances with a specific column in the metadata."
   ]
  },
  {
   "cell_type": "code",
   "execution_count": null,
   "metadata": {},
   "outputs": [],
   "source": [
    "emb_handler.plot_emb_dis_continuous_correlation(\n",
    "    emb_space_name=\"esm1b\",\n",
    "    distance_metric=\"euclidean\",\n",
    "    feature=\"flDPnn_disorder_propensity\"\n",
    ")"
   ]
  },
  {
   "cell_type": "markdown",
   "metadata": {},
   "source": [
    "The distances one space can be statified by a specific column in the metadata. The `group` parameter can be used to stratify the samples by a specific column in the metadata."
   ]
  },
  {
   "cell_type": "code",
   "execution_count": null,
   "metadata": {},
   "outputs": [],
   "source": [
    "emb_handler.plot_emb_dis_per_group(\n",
    "    emb_space_name=\"esm1b\",\n",
    "    distance_metric=\"euclidean\",\n",
    "    group=\"alphafold2_ss3\"\n",
    ")"
   ]
  },
  {
   "cell_type": "markdown",
   "metadata": {},
   "source": [
    "The plot can further be stratified by a specific value in the selected column by using the `group_value` parameter."
   ]
  },
  {
   "cell_type": "code",
   "execution_count": null,
   "metadata": {},
   "outputs": [],
   "source": [
    "emb_handler.plot_emb_dis_per_group(\n",
    "    emb_space_name=\"esm1b\",\n",
    "    distance_metric=\"euclidean\",\n",
    "    group=\"alphafold2_ss3\",\n",
    "    group_value=\"H\",\n",
    "    plot_type=\"box\"\n",
    ")"
   ]
  },
  {
   "cell_type": "markdown",
   "metadata": {},
   "source": [
    "## Comparing embedding spaces"
   ]
  },
  {
   "cell_type": "markdown",
   "metadata": {},
   "source": [
    "The distribution of pairwise distances between samples in two embedding spaces can be compared using the `plot_emb_dis_hist` function. The function displays a histogram of the pairwise distances between samples in two embedding spaces."
   ]
  },
  {
   "cell_type": "code",
   "execution_count": null,
   "metadata": {},
   "outputs": [],
   "source": [
    "emb_handler.plot_emb_dis_hist(distance_metric = \"euclidean\")"
   ]
  },
  {
   "cell_type": "markdown",
   "metadata": {},
   "source": [
    "The pairwise distances between two embedding spaces can be visualised using a scatter plot. The `plot_emb_dis_scatter()` function displays the pairwise distances between samples in two embedding spaces. The x and y axes of the scatter plot represent the pairwise distances between samples in the two embedding spaces. The `colour_group` and `colour_value_1` parameters define the column in the metadata and the value in the column which is used to stratify the samples by colour."
   ]
  },
  {
   "cell_type": "code",
   "execution_count": null,
   "metadata": {},
   "outputs": [],
   "source": [
    "emb_handler.plot_emb_dis_scatter(\n",
    "    emb_space_name_1 = \"esm1b\",\n",
    "    emb_space_name_2 = \"esm2\",\n",
    "    distance_metric = \"euclidean\",\n",
    "    colour_group = \"alphafold2_ss3\",\n",
    "    colour_value_1 = \"H\",\n",
    ")"
   ]
  },
  {
   "cell_type": "code",
   "execution_count": null,
   "metadata": {},
   "outputs": [],
   "source": [
    "emb_handler.plot_emb_dis_scatter(\n",
    "    emb_space_name_1 = \"esm1b\",\n",
    "    emb_space_name_2 = \"esm2\",\n",
    "    distance_metric = \"euclidean\",\n",
    "    colour_group = \"alphafold2_ss3\",\n",
    "    colour_value_1 = \"H\",\n",
    "    colour_value_2 = \"B\",\n",
    ")"
   ]
  },
  {
   "cell_type": "markdown",
   "metadata": {},
   "source": [
    "The distances can be statified by a specific column in the metadata. The `group` parameter can be used to stratify the samples by a specific column in the metadata."
   ]
  },
  {
   "cell_type": "code",
   "execution_count": null,
   "metadata": {},
   "outputs": [],
   "source": [
    "emb_handler.plot_emb_dis_box(\n",
    "    group = \"alphafold2_ss3\",\n",
    "    distance_metric=\"euclidean\",\n",
    ")"
   ]
  }
 ],
 "metadata": {
  "kernelspec": {
   "display_name": "jupyter",
   "language": "python",
   "name": "python3"
  },
  "language_info": {
   "codemirror_mode": {
    "name": "ipython",
    "version": 3
   },
   "file_extension": ".py",
   "mimetype": "text/x-python",
   "name": "python",
   "nbconvert_exporter": "python",
   "pygments_lexer": "ipython3",
   "version": "3.8.16"
  }
 },
 "nbformat": 4,
 "nbformat_minor": 2
}

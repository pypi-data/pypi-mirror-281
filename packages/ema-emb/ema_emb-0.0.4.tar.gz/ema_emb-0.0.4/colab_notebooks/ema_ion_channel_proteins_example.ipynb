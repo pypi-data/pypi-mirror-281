{
 "cells": [
  {
   "cell_type": "markdown",
   "metadata": {},
   "source": [
    "[![Open In Colab](https://colab.research.google.com/assets/colab-badge.svg)](https://colab.research.google.com/github/pia-francesca/ema/blob/main/colab_notebooks/ema_ion_channel_proteins_example.ipynb)"
   ]
  },
  {
   "cell_type": "code",
   "execution_count": null,
   "metadata": {
    "colab": {
     "base_uri": "https://localhost:8080/"
    },
    "id": "JP4GYAbxoKgk",
    "outputId": "d7bcc633-0d64-4afd-9460-e0d2d24e1b9a"
   },
   "outputs": [],
   "source": [
    " ! git clone https://github.com/pia-francesca/ema.git"
   ]
  },
  {
   "cell_type": "code",
   "execution_count": null,
   "metadata": {
    "colab": {
     "base_uri": "https://localhost:8080/"
    },
    "id": "FRZ5ZzLLoYBE",
    "outputId": "95b2e4b5-31f7-4a9f-b5d2-0bed90603be7"
   },
   "outputs": [],
   "source": [
    "! pip install umap"
   ]
  },
  {
   "cell_type": "code",
   "execution_count": null,
   "metadata": {
    "id": "BkJY2SbXoF0O"
   },
   "outputs": [],
   "source": [
    "import numpy as np\n",
    "import pandas as pd\n",
    "\n",
    "from ema.ema.ema import EmbeddingHandler"
   ]
  },
  {
   "cell_type": "code",
   "execution_count": null,
   "metadata": {
    "id": "OmIVBgrDoF0P"
   },
   "outputs": [],
   "source": [
    "DATA_DIR = 'ema/examples/ion-channel-proteins/'\n",
    "FP_METADATA = DATA_DIR + 'metadata.csv'\n",
    "FP_EMB_ESM1b = DATA_DIR + 'esm1b_t33_650M_UR50S-embeddings.npy'\n",
    "FP_EMB_ESM2 = DATA_DIR + 'esm2_t33_650M_UR50D-embeddings.npy'\n",
    "FP_EMB_ESM1v = DATA_DIR + 'esm1v_t33_650M_UR90S_1-embeddings.npy'"
   ]
  },
  {
   "cell_type": "code",
   "execution_count": null,
   "metadata": {
    "colab": {
     "base_uri": "https://localhost:8080/",
     "height": 224
    },
    "id": "36k9Qy70oF0P",
    "outputId": "716d1e02-864b-43e0-fe21-dfd6ef906c70"
   },
   "outputs": [],
   "source": [
    "# load metadata and embeddings\n",
    "\n",
    "metadata = pd.read_csv(FP_METADATA)\n",
    "emb_esm1b = np.load(FP_EMB_ESM1b)\n",
    "emb_esm2 = np.load(FP_EMB_ESM2)\n",
    "emb_esm1v = np.load(FP_EMB_ESM1v)\n",
    "\n",
    "print(emb_esm1b.shape, emb_esm2.shape)\n",
    "metadata.head()"
   ]
  },
  {
   "cell_type": "code",
   "execution_count": null,
   "metadata": {
    "colab": {
     "base_uri": "https://localhost:8080/"
    },
    "id": "5aHHEu0foF0Q",
    "outputId": "aefd3cb0-e67b-4227-f446-2fa3558afd42"
   },
   "outputs": [],
   "source": [
    "# initialize embedding handler\n",
    "emb_handler = EmbeddingHandler(metadata)\n",
    "\n",
    "# add embeddings to the handler\n",
    "emb_handler.add_emb_space(embeddings=emb_esm1b, emb_space_name='esm1b')\n",
    "emb_handler.add_emb_space(embeddings=emb_esm2, emb_space_name='esm2')\n",
    "emb_handler.add_emb_space(embeddings=emb_esm1v, emb_space_name='esm1v')"
   ]
  },
  {
   "cell_type": "markdown",
   "metadata": {
    "id": "ZUwjx9ZwoF0Q"
   },
   "source": [
    "## Unsupervised Clustering x Metadata"
   ]
  },
  {
   "cell_type": "markdown",
   "metadata": {
    "id": "0mUAhOCdoF0Q"
   },
   "source": [
    "By default ema computes a number of clusters equal to the mean number of categories in the metadata. This is a good starting point, but you can also specify the number of clusters you want to compute."
   ]
  },
  {
   "cell_type": "code",
   "execution_count": null,
   "metadata": {
    "colab": {
     "base_uri": "https://localhost:8080/"
    },
    "id": "4_joJDCWoF0R",
    "outputId": "44163b6a-ebe8-4c82-e359-e9a85b25f42a"
   },
   "outputs": [],
   "source": [
    "# specify a specific number of clusters\n",
    "emb_handler.recalculate_clusters(n_clusters=5, emb_space_name=\"esm1b\")\n",
    "emb_handler.recalculate_clusters(n_clusters=5, emb_space_name=\"esm2\")\n",
    "emb_handler.recalculate_clusters(n_clusters=5, emb_space_name=\"esm1v\")"
   ]
  },
  {
   "cell_type": "markdown",
   "metadata": {
    "id": "zV2TEZNToF0R"
   },
   "source": [
    "### Unsupervised Clusters"
   ]
  },
  {
   "cell_type": "markdown",
   "metadata": {
    "id": "0UsM1eWWoF0R"
   },
   "source": [
    "### Overlap of unsupervised clusters between embedding spaces"
   ]
  },
  {
   "cell_type": "code",
   "execution_count": null,
   "metadata": {
    "colab": {
     "base_uri": "https://localhost:8080/",
     "height": 542
    },
    "id": "HK2-DIPgoF0R",
    "outputId": "b52a9089-a8ac-4812-de87-84855b716a15"
   },
   "outputs": [],
   "source": [
    "emb_handler.plot_feature_cluster_overlap(emb_space_name=\"esm1b\",\n",
    "                                         feature='cluster_esm2')"
   ]
  },
  {
   "cell_type": "code",
   "execution_count": null,
   "metadata": {
    "colab": {
     "base_uri": "https://localhost:8080/",
     "height": 542
    },
    "id": "9S0v4VrRpAjR",
    "outputId": "872f4026-7bd8-4119-d551-922253574d0a"
   },
   "outputs": [],
   "source": [
    "emb_handler.plot_feature_cluster_overlap(emb_space_name=\"esm1v\",\n",
    "                                         feature='cluster_esm1b')"
   ]
  },
  {
   "cell_type": "code",
   "execution_count": null,
   "metadata": {
    "colab": {
     "base_uri": "https://localhost:8080/",
     "height": 542
    },
    "id": "I6fsfHvKoF0R",
    "outputId": "67979b45-5358-4097-fa7a-05600e0f1b0f"
   },
   "outputs": [],
   "source": [
    "emb_handler.plot_feature_cluster_overlap(emb_space_name=\"esm2\",\n",
    "                                         feature='cluster_esm1b')"
   ]
  },
  {
   "cell_type": "markdown",
   "metadata": {
    "id": "31KXNg3AoF0R"
   },
   "source": [
    "## Pairwise distances"
   ]
  },
  {
   "cell_type": "markdown",
   "metadata": {
    "id": "JWwW9ElooF0R"
   },
   "source": [
    "### Similarities between ESM1b, ESM1v and ESM2 embeddings"
   ]
  },
  {
   "cell_type": "code",
   "execution_count": null,
   "metadata": {
    "colab": {
     "base_uri": "https://localhost:8080/",
     "height": 817
    },
    "id": "cJm7Vyg_oF0R",
    "outputId": "84ff794b-a7ff-4487-8c45-5bc94ba1b746"
   },
   "outputs": [],
   "source": [
    "emb_handler.plot_emb_dis_scatter(\n",
    "    emb_space_name_1='esm1b',\n",
    "    emb_space_name_2='esm2',\n",
    "    distance_metric = 'euclidean',\n",
    ")"
   ]
  },
  {
   "cell_type": "markdown",
   "metadata": {
    "id": "b_8GDuKFoF0R"
   },
   "source": [
    "There is a stronger correlation between the pairwise distances between the embeddings of ESM1b and ESM1v compared to ESM1b and ESM2 for the set of sequencs."
   ]
  },
  {
   "cell_type": "code",
   "execution_count": null,
   "metadata": {
    "colab": {
     "base_uri": "https://localhost:8080/",
     "height": 817
    },
    "id": "CwIkjK8joF0S",
    "outputId": "48b663a1-027c-4926-dd14-684adc8b5c89"
   },
   "outputs": [],
   "source": [
    "emb_handler.plot_emb_dis_scatter(\n",
    "    emb_space_name_1='esm1b',\n",
    "    emb_space_name_2='esm1v',\n",
    "    distance_metric = 'euclidean',\n",
    ")"
   ]
  },
  {
   "cell_type": "markdown",
   "metadata": {
    "id": "bVBPEpohoF0S"
   },
   "source": [
    "using the normalised Euclidean distance to account for the different scales of the embeddings"
   ]
  },
  {
   "cell_type": "code",
   "execution_count": null,
   "metadata": {
    "colab": {
     "base_uri": "https://localhost:8080/",
     "height": 817
    },
    "id": "kbhN994DoF0S",
    "outputId": "f13669ae-3189-42d9-9074-9e78a2cd7499"
   },
   "outputs": [],
   "source": [
    "emb_handler.plot_emb_dis_scatter(\n",
    "    emb_space_name_1='esm1b',\n",
    "    emb_space_name_2='esm1v',\n",
    "    distance_metric = 'euclidean_normalised',\n",
    ")"
   ]
  },
  {
   "cell_type": "markdown",
   "metadata": {
    "id": "riCsRKpJoF0S"
   },
   "source": [
    "### Unsupervised clusters"
   ]
  },
  {
   "cell_type": "markdown",
   "metadata": {
    "id": "cokNeZ8BoF0S"
   },
   "source": [
    "We can inspect how close the initial clusters from one embedding space are in the ther embedding spaces."
   ]
  },
  {
   "cell_type": "code",
   "execution_count": null,
   "metadata": {
    "colab": {
     "base_uri": "https://localhost:8080/",
     "height": 817
    },
    "id": "_o-LwevgoF0S",
    "outputId": "930f3bb5-f31d-4059-9378-0bb641a4b932"
   },
   "outputs": [],
   "source": [
    "emb_handler.plot_emb_dis_scatter(\n",
    "    emb_space_name_1='esm1b',\n",
    "    emb_space_name_2='esm2',\n",
    "    distance_metric = 'euclidean',\n",
    "    colour_group=\"cluster_esm1b\",\n",
    "    colour_value_1=\"1\",\n",
    ")"
   ]
  },
  {
   "cell_type": "code",
   "execution_count": null,
   "metadata": {
    "colab": {
     "base_uri": "https://localhost:8080/",
     "height": 817
    },
    "id": "xQKczu1SoF0S",
    "outputId": "326382d1-ac75-4914-d954-fabf34e7f68f"
   },
   "outputs": [],
   "source": [
    "emb_handler.plot_emb_dis_scatter(\n",
    "    emb_space_name_1='esm1b',\n",
    "    emb_space_name_2='esm1v',\n",
    "    distance_metric = 'euclidean',\n",
    "    colour_group=\"cluster_esm1b\",\n",
    "    colour_value_1=\"1\",\n",
    ")"
   ]
  },
  {
   "cell_type": "code",
   "execution_count": null,
   "metadata": {
    "colab": {
     "base_uri": "https://localhost:8080/",
     "height": 817
    },
    "id": "-m-w09BzoF0S",
    "outputId": "c8c030aa-949d-4736-df1c-a075505e2d06"
   },
   "outputs": [],
   "source": [
    "emb_handler.plot_emb_dis_scatter(\n",
    "    emb_space_name_1='esm1b',\n",
    "    emb_space_name_2='esm2',\n",
    "    distance_metric = 'euclidean',\n",
    "    colour_group=\"cluster_esm1b\",\n",
    "    colour_value_1=\"2\",\n",
    "    colour_value_2=\"4\"\n",
    ")"
   ]
  },
  {
   "cell_type": "code",
   "execution_count": null,
   "metadata": {
    "colab": {
     "base_uri": "https://localhost:8080/",
     "height": 817
    },
    "id": "wx-dwibzoF0S",
    "outputId": "8c476611-5b5f-44b8-f2e1-e23626a64ecb"
   },
   "outputs": [],
   "source": [
    "emb_handler.plot_emb_dis_scatter(\n",
    "    emb_space_name_1='esm1b',\n",
    "    emb_space_name_2='esm1v',\n",
    "    distance_metric = 'euclidean',\n",
    "    colour_group=\"cluster_esm1b\",\n",
    "    colour_value_1=\"2\",\n",
    "    colour_value_2=\"4\"\n",
    ")"
   ]
  },
  {
   "cell_type": "markdown",
   "metadata": {
    "id": "3xZAgZ0uoF0S"
   },
   "source": [
    "## Visualisation of dimensionality reduction x Unsupervised Clustering"
   ]
  },
  {
   "cell_type": "markdown",
   "metadata": {
    "id": "wEAOp-PyoF0S"
   },
   "source": [
    "### PCA"
   ]
  },
  {
   "cell_type": "markdown",
   "metadata": {
    "id": "KIRp9rGLoF0T"
   },
   "source": [
    "#### ESM1b coloured by unsupervised clusters in ESM1b"
   ]
  },
  {
   "cell_type": "code",
   "execution_count": null,
   "metadata": {
    "colab": {
     "base_uri": "https://localhost:8080/",
     "height": 817
    },
    "id": "FBgdCLwqoF0T",
    "outputId": "ab765529-9ba0-455b-d45d-c24ad2fd5c51"
   },
   "outputs": [],
   "source": [
    "emb_handler.visualise_emb_pca(emb_space_name=\"esm1b\",\n",
    "                              colour=\"cluster_esm1b\")"
   ]
  },
  {
   "cell_type": "markdown",
   "metadata": {
    "id": "L9fhTo9eoF0T"
   },
   "source": [
    "#### ESM1v coloured by unsupervised clusters in ESM1b"
   ]
  },
  {
   "cell_type": "code",
   "execution_count": null,
   "metadata": {
    "colab": {
     "base_uri": "https://localhost:8080/",
     "height": 817
    },
    "id": "Ls-FU5XCoF0T",
    "outputId": "4525167d-e38d-4b73-8e7a-4d9dffd2696a"
   },
   "outputs": [],
   "source": [
    "emb_handler.visualise_emb_pca(emb_space_name=\"esm1v\",\n",
    "                              colour=\"cluster_esm1b\")"
   ]
  },
  {
   "cell_type": "markdown",
   "metadata": {
    "id": "iXFwfHXCoF0T"
   },
   "source": [
    "#### ESM2 coloured by unsupervised clusters in ESM1b"
   ]
  },
  {
   "cell_type": "code",
   "execution_count": null,
   "metadata": {
    "colab": {
     "base_uri": "https://localhost:8080/",
     "height": 817
    },
    "id": "G9G9O_o4oF0T",
    "outputId": "a4b32875-c7bf-4395-ddc5-fc927b2a3447"
   },
   "outputs": [],
   "source": [
    "emb_handler.visualise_emb_pca(emb_space_name=\"esm2\",\n",
    "                              colour=\"cluster_esm1b\")"
   ]
  },
  {
   "cell_type": "markdown",
   "metadata": {
    "id": "IVqYOylmoF0T"
   },
   "source": [
    "## Adding Metadata"
   ]
  },
  {
   "cell_type": "markdown",
   "metadata": {
    "id": "1eYlGR9QoF0T"
   },
   "source": [
    "### Unsupervised Clustering x Metadata"
   ]
  },
  {
   "cell_type": "markdown",
   "metadata": {
    "id": "TSnCFTJdoF0T"
   },
   "source": [
    "We can check whether the unsupervised clusters are related to the provided metadata."
   ]
  },
  {
   "cell_type": "code",
   "execution_count": null,
   "metadata": {
    "colab": {
     "base_uri": "https://localhost:8080/",
     "height": 542
    },
    "id": "DsVxXzWToF0T",
    "outputId": "ca9c60c9-e9b3-42ed-9ffd-3be8a084fb34"
   },
   "outputs": [],
   "source": [
    "emb_handler.plot_feature_cluster_overlap(emb_space_name=\"esm1b\",\n",
    "                                         feature='family')"
   ]
  },
  {
   "cell_type": "code",
   "execution_count": null,
   "metadata": {
    "colab": {
     "base_uri": "https://localhost:8080/",
     "height": 542
    },
    "id": "K1RuraoYoF0T",
    "outputId": "fedc5417-96f5-4ff1-972a-aa46e6a43d4d"
   },
   "outputs": [],
   "source": [
    "emb_handler.plot_feature_cluster_overlap(emb_space_name=\"esm1v\",\n",
    "                                         feature='family')"
   ]
  },
  {
   "cell_type": "code",
   "execution_count": null,
   "metadata": {
    "colab": {
     "base_uri": "https://localhost:8080/",
     "height": 542
    },
    "id": "Ni9HO5ywoF0Z",
    "outputId": "02c4945b-ad77-49a8-bf1a-92fab682254f"
   },
   "outputs": [],
   "source": [
    "emb_handler.plot_feature_cluster_overlap(emb_space_name=\"esm2\",\n",
    "                                         feature='family')"
   ]
  },
  {
   "cell_type": "markdown",
   "metadata": {
    "id": "N2mbfSDLoF0Z"
   },
   "source": [
    "### Pairwise distance x Metadata"
   ]
  },
  {
   "cell_type": "code",
   "execution_count": null,
   "metadata": {
    "colab": {
     "base_uri": "https://localhost:8080/",
     "height": 542
    },
    "id": "atpdlWzSoF0Z",
    "outputId": "c70f8ba6-97f2-4a7d-c717-ede8fa9b7b13"
   },
   "outputs": [],
   "source": [
    "emb_handler.plot_emb_dis_dif_dis_per_group(emb_space_name=\"esm1b\",\n",
    "                                           distance_metric='euclidean',\n",
    "                                           group=\"family\")"
   ]
  },
  {
   "cell_type": "code",
   "execution_count": null,
   "metadata": {
    "colab": {
     "base_uri": "https://localhost:8080/",
     "height": 542
    },
    "id": "ZwSnzEUkoF0Z",
    "outputId": "5e1d1f4f-fefd-4d17-be19-afe84e160496"
   },
   "outputs": [],
   "source": [
    "emb_handler.plot_emb_dis_dif_dis_per_group(emb_space_name=\"esm2\",\n",
    "                                           distance_metric='euclidean',\n",
    "                                           group=\"family\")"
   ]
  },
  {
   "cell_type": "code",
   "execution_count": null,
   "metadata": {
    "colab": {
     "base_uri": "https://localhost:8080/",
     "height": 817
    },
    "id": "ZFpvBjSRoF0Z",
    "outputId": "9dda110f-7919-42d4-8118-1bedbbf4a7da"
   },
   "outputs": [],
   "source": [
    "emb_handler.plot_emb_dis_scatter(\n",
    "    emb_space_name_1='esm1b',\n",
    "    emb_space_name_2='esm1v',\n",
    "    distance_metric = 'euclidean',\n",
    "    colour_group=\"family\",\n",
    "    colour_value_1=\"Kir\",\n",
    ")"
   ]
  },
  {
   "cell_type": "code",
   "execution_count": null,
   "metadata": {
    "colab": {
     "base_uri": "https://localhost:8080/",
     "height": 817
    },
    "id": "2C7cBI43oF0Z",
    "outputId": "45654ed6-d4a9-4f42-eb7d-290c41a85f3a"
   },
   "outputs": [],
   "source": [
    "emb_handler.plot_emb_dis_scatter(\n",
    "    emb_space_name_1='esm1b',\n",
    "    emb_space_name_2='esm2',\n",
    "    distance_metric = 'euclidean',\n",
    "    colour_group=\"family\",\n",
    "    colour_value_1=\"CNG\",\n",
    "    colour_value_2=\"HCN\"\n",
    ")"
   ]
  }
 ],
 "metadata": {
  "colab": {
   "provenance": []
  },
  "kernelspec": {
   "display_name": "Python 3 (ipykernel)",
   "language": "python",
   "name": "python3"
  },
  "language_info": {
   "codemirror_mode": {
    "name": "ipython",
    "version": 3
   },
   "file_extension": ".py",
   "mimetype": "text/x-python",
   "name": "python",
   "nbconvert_exporter": "python",
   "pygments_lexer": "ipython3",
   "version": "3.11.6"
  }
 },
 "nbformat": 4,
 "nbformat_minor": 4
}

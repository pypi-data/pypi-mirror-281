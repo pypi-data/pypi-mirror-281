{
 "cells": [
  {
   "cell_type": "code",
   "execution_count": null,
   "metadata": {},
   "outputs": [],
   "source": [
    "import numpy as np\n",
    "import pandas as pd"
   ]
  },
  {
   "cell_type": "code",
   "execution_count": null,
   "metadata": {},
   "outputs": [],
   "source": [
    "from ema import EmbeddingHandler"
   ]
  },
  {
   "cell_type": "code",
   "execution_count": null,
   "metadata": {},
   "outputs": [],
   "source": [
    "experiment = \"ion-channel-proteins\"\n",
    "patho_or_benign = \"all\"\n",
    "wt = True\n",
    "\n",
    "FP_AGG_EMB_0 = f'../examples/{experiment}/esm1b_t33_650M_UR50S-embeddings.npy'\n",
    "FP_AGG_EMB_1 = f'../examples/{experiment}/esm2_t33_650M_UR50D-embeddings.npy'\n",
    "# FP_AGG_EMB_0 = f'../examples/{experiment}/embeddings/full.npy'\n",
    "# FP_AGG_EMB_1 = f'../examples/{experiment}/embeddings/chopped.npy'\n",
    "# FP_AGG_EMB_1 = f\"../examples/{experiment}/t5_u50.npy\"\n",
    "# FP_AGG_EMB_0 = f'../examples/{experiment}/esm1v_t33_650M_UR90S_1-embeddings.npy'\n",
    "FP_META_DATA = f\"../examples/{experiment}/metadata.csv\"\n",
    "\n",
    "emb_0 = np.load(FP_AGG_EMB_0)\n",
    "emb_1 = np.load(FP_AGG_EMB_1)\n",
    "# emb_2 = np.load(FP_AGG_EMB_2)\n",
    "\n",
    "df_meta_data = pd.read_csv(FP_META_DATA)\n",
    "\n",
    "if \"1\" in experiment:\n",
    "    \n",
    "    if wt != True:\n",
    "        FP_pw_3d_distance = f\"../examples/{experiment}/pw_3d_distance.csv\"\n",
    "        pw_3d_distance = pd.read_csv(FP_pw_3d_distance, index_col=0)\n",
    "        \n",
    "        # find variant index which contains the WT\n",
    "        idx_wt = df_meta_data[df_meta_data[\"variant_id\"].str.contains(\"WT\")].index\n",
    "        # remove this index from the meta data and emb\n",
    "        df_meta_data = df_meta_data.drop(idx_wt)\n",
    "        emb_0 = np.delete(emb_0, idx_wt, axis=0)\n",
    "        emb_1 = np.delete(emb_1, idx_wt, axis=0)\n",
    "    \n",
    "    if patho_or_benign == \"benign\":\n",
    "        # find indices of pathogenic variants\n",
    "        idx_patho = df_meta_data[df_meta_data[\"data_source\"] == \"gnomad\"].index\n",
    "        # sample meta data and emb\n",
    "        df_meta_data = df_meta_data.loc[idx_patho]\n",
    "        # reindex the meta data\n",
    "        df_meta_data = df_meta_data.reset_index(drop=True)\n",
    "        emb_0 = emb_0[idx_patho]\n",
    "        emb_1 = emb_1[idx_patho]\n",
    "        # subset pw_3d_distance if necessary\n",
    "        if wt != True:\n",
    "            # find sample names  in first column of meta data\n",
    "            sample_names = df_meta_data.iloc[:, 0]\n",
    "            print(len(sample_names))\n",
    "            # find indices of sample names in columns and rows of pw_3d_distance\n",
    "            idx_pw_3d_distance = pw_3d_distance.index[pw_3d_distance.index.isin(sample_names)]\n",
    "            col_idx_pw_3d_distance = pw_3d_distance.columns[pw_3d_distance.columns.isin(sample_names)]\n",
    "            pw_3d_distance = pw_3d_distance.loc[idx_pw_3d_distance, col_idx_pw_3d_distance]\n",
    "    \n",
    "    if patho_or_benign == \"patho\":\n",
    "        # find indices of pathogenic variants\n",
    "        idx_patho = df_meta_data[df_meta_data[\"data_source\"] == \"clinvar\"].index\n",
    "        # sample meta data and emb\n",
    "        df_meta_data = df_meta_data.loc[idx_patho]\n",
    "        # reindex the meta data\n",
    "        df_meta_data = df_meta_data.reset_index(drop=True)\n",
    "        emb_0 = emb_0[idx_patho]\n",
    "        emb_1 = emb_1[idx_patho]\n",
    "        if wt != True:\n",
    "            # find sample names  in first column of meta data\n",
    "            sample_names = df_meta_data.iloc[:, 0]\n",
    "            print(len(sample_names))\n",
    "            # find indices of sample names in columns and rows of pw_3d_distance\n",
    "            idx_pw_3d_distance = pw_3d_distance.index[pw_3d_distance.index.isin(sample_names)]\n",
    "            col_idx_pw_3d_distance = pw_3d_distance.columns[pw_3d_distance.columns.isin(sample_names)]\n",
    "            pw_3d_distance = pw_3d_distance.loc[idx_pw_3d_distance, col_idx_pw_3d_distance]"
   ]
  },
  {
   "cell_type": "markdown",
   "metadata": {},
   "source": [
    "## Load data"
   ]
  },
  {
   "cell_type": "code",
   "execution_count": null,
   "metadata": {},
   "outputs": [],
   "source": [
    "df_meta_data.head()"
   ]
  },
  {
   "cell_type": "markdown",
   "metadata": {},
   "source": [
    "## Initialise ema embedding object"
   ]
  },
  {
   "cell_type": "code",
   "execution_count": null,
   "metadata": {},
   "outputs": [],
   "source": [
    "# initialize embedding handler\n",
    "emb = EmbeddingHandler(sample_meta_data=df_meta_data)\n",
    "\n",
    "# add embeddings to the handler\n",
    "emb.add_emb_space(embeddings=emb_0, emb_space_name=\"esm1b\")\n",
    "emb.add_emb_space(embeddings=emb_1, emb_space_name=\"esm2\")\n",
    "# emb.add_emb_space(embeddings=emb_2, emb_space_name=\"ESM1v\")\n",
    "\n",
    "if \"1\" in experiment:\n",
    "    if wt != True:\n",
    "        emb.add_pw_metadata(pw_3d_distance, \"3d_distance\")"
   ]
  },
  {
   "cell_type": "markdown",
   "metadata": {},
   "source": [
    "## Explore embedding spaces"
   ]
  },
  {
   "cell_type": "code",
   "execution_count": null,
   "metadata": {},
   "outputs": [],
   "source": [
    "# show histogram of embedding value distributions of the different embeddings\n",
    "fig = emb.plot_emb_hist()\n",
    "fig.show()"
   ]
  },
  {
   "cell_type": "code",
   "execution_count": null,
   "metadata": {},
   "outputs": [],
   "source": [
    "# within one sample space show distribution of embedding values between samples\n",
    "fig = emb.plot_emb_box(group=\"sample\")\n",
    "fig.show()"
   ]
  },
  {
   "cell_type": "code",
   "execution_count": null,
   "metadata": {},
   "outputs": [],
   "source": [
    "emb.get_groups()"
   ]
  },
  {
   "cell_type": "code",
   "execution_count": null,
   "metadata": {},
   "outputs": [],
   "source": [
    "fig = emb.plot_emb_box(group=\"family\")\n",
    "fig.show()"
   ]
  },
  {
   "cell_type": "code",
   "execution_count": null,
   "metadata": {},
   "outputs": [],
   "source": [
    "fig = emb.plot_emb_box(group=\"family\")\n",
    "fig.show()"
   ]
  },
  {
   "cell_type": "markdown",
   "metadata": {},
   "source": [
    "### Overlap of meta data clusters and unsupervised clusters"
   ]
  },
  {
   "cell_type": "code",
   "execution_count": null,
   "metadata": {},
   "outputs": [],
   "source": [
    "emb.recalculate_clusters(n_clusters=5, emb_space_name=\"esm1b\")\n",
    "emb.recalculate_clusters(n_clusters=5, emb_space_name=\"esm2\")"
   ]
  },
  {
   "cell_type": "code",
   "execution_count": null,
   "metadata": {},
   "outputs": [],
   "source": [
    "fig = emb.plot_feature_cluster_overlap(emb_space_name=\"esm1b\", feature=\"family\")\n",
    "fig.show()"
   ]
  },
  {
   "cell_type": "code",
   "execution_count": null,
   "metadata": {},
   "outputs": [],
   "source": [
    "fig = emb.plot_feature_cluster_overlap(emb_space_name=\"esm2\", feature=\"family\")\n",
    "fig.show()"
   ]
  },
  {
   "cell_type": "code",
   "execution_count": null,
   "metadata": {},
   "outputs": [],
   "source": [
    "emb.get_samples_per_group_value(\n",
    "    group=\"cluster_esm1b\", group_value=\"1\"\n",
    ")"
   ]
  },
  {
   "cell_type": "markdown",
   "metadata": {},
   "source": [
    "### Visualise correlation of individual dimensions with meta data"
   ]
  },
  {
   "cell_type": "code",
   "execution_count": null,
   "metadata": {},
   "outputs": [],
   "source": [
    "# discrete meta data\n",
    "emb.plot_emb_cor_per_dim(emb_space_name=\"esm1b\", feature=\"family\")"
   ]
  },
  {
   "cell_type": "code",
   "execution_count": null,
   "metadata": {},
   "outputs": [],
   "source": [
    "# continuous meta data\n",
    "emb.plot_emb_cor_per_dim(emb_space_name=\"esm2\", feature=\"family\")"
   ]
  },
  {
   "cell_type": "markdown",
   "metadata": {},
   "source": [
    "### Visualise embeddings with dimensionality reduction"
   ]
  },
  {
   "cell_type": "markdown",
   "metadata": {},
   "source": [
    "#### UMAP"
   ]
  },
  {
   "cell_type": "code",
   "execution_count": null,
   "metadata": {},
   "outputs": [],
   "source": [
    "fig = emb.visualise_emb_umap(emb_space_name=\"esm1b\", colour=\"\")\n",
    "fig.show()"
   ]
  },
  {
   "cell_type": "code",
   "execution_count": null,
   "metadata": {},
   "outputs": [],
   "source": [
    "fig = emb.visualise_emb_umap(emb_space_name=\"esm2\", colour=\"family\")\n",
    "fig.show()"
   ]
  },
  {
   "cell_type": "markdown",
   "metadata": {},
   "source": [
    "#### PCA"
   ]
  },
  {
   "cell_type": "code",
   "execution_count": null,
   "metadata": {},
   "outputs": [],
   "source": [
    "fig = emb.visualise_emb_pca(emb_space_name=\"esm1b\", colour=\"cluster_esm1b\")\n",
    "fig.show()"
   ]
  },
  {
   "cell_type": "code",
   "execution_count": null,
   "metadata": {},
   "outputs": [],
   "source": [
    "fig = emb.visualise_emb_pca(emb_space_name=\"esm2\", colour=\"cluster_esm1b\")\n",
    "fig.show()"
   ]
  },
  {
   "cell_type": "markdown",
   "metadata": {},
   "source": [
    "#### t-SNE"
   ]
  },
  {
   "cell_type": "code",
   "execution_count": null,
   "metadata": {},
   "outputs": [],
   "source": [
    "fig = emb.visualise_emb_tsne(emb_space_name=\"esm1b\", colour=\"cluster_esm1b\")\n",
    "fig.show()"
   ]
  },
  {
   "cell_type": "code",
   "execution_count": null,
   "metadata": {},
   "outputs": [],
   "source": [
    "fig = emb.visualise_emb_tsne(emb_space_name=\"esm2\", colour=\"cluster_esm1b\")\n",
    "fig.show()"
   ]
  },
  {
   "cell_type": "markdown",
   "metadata": {},
   "source": [
    "## Explore sample distances"
   ]
  },
  {
   "cell_type": "code",
   "execution_count": null,
   "metadata": {},
   "outputs": [],
   "source": [
    "fig = emb.plot_emb_dis_heatmap(\n",
    "        emb_space_name=\"esm1b\",\n",
    "        distance_metric=\"adjusted_cosine\",\n",
    "        order_x=\"family\",\n",
    "        order_y=\"family\",\n",
    "    )\n",
    "fig.show()\n",
    "fig = emb.plot_emb_dis_heatmap(\n",
    "        emb_space_name=\"esm2\",\n",
    "        distance_metric=\"adjusted_cosine\",\n",
    "    )\n",
    "fig.show()"
   ]
  },
  {
   "cell_type": "code",
   "execution_count": null,
   "metadata": {},
   "outputs": [],
   "source": [
    "fig = emb.plot_emb_dis_hist(\"adjusted_cosine\")\n",
    "fig.show()"
   ]
  },
  {
   "cell_type": "code",
   "execution_count": null,
   "metadata": {},
   "outputs": [],
   "source": [
    "emb.get_col_continuous()"
   ]
  },
  {
   "cell_type": "code",
   "execution_count": null,
   "metadata": {},
   "outputs": [],
   "source": [
    "fig = emb.plot_emb_dis_continuous_correlation(\n",
    "        emb_space_name=\"esm2\",\n",
    "        distance_metric=\"euclidean\",\n",
    "        feature=\"disorder_propensity\",\n",
    ")\n",
    "fig.show()"
   ]
  },
  {
   "cell_type": "code",
   "execution_count": null,
   "metadata": {},
   "outputs": [],
   "source": [
    "fig = emb.plot_emb_dis_box(group=\"family\", distance_metric=\"euclidean\")\n",
    "fig.show()"
   ]
  },
  {
   "cell_type": "code",
   "execution_count": null,
   "metadata": {},
   "outputs": [],
   "source": [
    "emb.get_value_count_per_group(\"family\")"
   ]
  },
  {
   "cell_type": "code",
   "execution_count": null,
   "metadata": {
    "scrolled": true
   },
   "outputs": [],
   "source": [
    "emb.plot_emb_dis_dif_dis_per_group(\n",
    "        emb_space_name=\"esm1b\",\n",
    "        distance_metric=\"euclidean\",\n",
    "        group=\"family\",\n",
    "        # group_value=\"Long QT syndrome\",\n",
    "        # plot_type=\"box\", \n",
    ")"
   ]
  },
  {
   "cell_type": "code",
   "execution_count": null,
   "metadata": {},
   "outputs": [],
   "source": [
    "emb.plot_emb_dis_dif_dis_per_group(\n",
    "        emb_space_name=\"esm2\",\n",
    "        distance_metric=\"euclidean\",\n",
    "        group=\"cluster_esm1b\",\n",
    "        # group_value =\"0\",\n",
    "        # plot_type=\"box\", \n",
    ")"
   ]
  },
  {
   "cell_type": "markdown",
   "metadata": {},
   "source": [
    "# plot the distribution of sample distances between the two embeddings\n",
    "# (e.g. euclidean distance, cosine similarity)"
   ]
  },
  {
   "cell_type": "code",
   "execution_count": null,
   "metadata": {},
   "outputs": [],
   "source": [
    "fig = emb.plot_emb_dis_his_with_fitted_functions(\n",
    "    emb_space_name=\"esm2\",\n",
    "    distance_metric=\"euclidean\",\n",
    "    rank=\"bimodal_dis\"\n",
    ")\n",
    "fig.show()"
   ]
  },
  {
   "cell_type": "code",
   "execution_count": null,
   "metadata": {},
   "outputs": [],
   "source": [
    "fig = emb.plot_emb_dis_scatter(emb_space_name_1=\"esm1b\", \n",
    "                                emb_space_name_2=\"esm2\", \n",
    "                                distance_metric=\"euclidean\",\n",
    "                                colour_group=\"cluster_esm1b\",\n",
    "                                colour_value_1=\"3\",\n",
    "                                colour_value_2=\"2\",\n",
    "                                # rank=\"normal_dis\"\n",
    "                                )\n",
    "fig.show()"
   ]
  },
  {
   "cell_type": "markdown",
   "metadata": {},
   "source": [
    "## Explore difference between sample distances between embedding spaces"
   ]
  },
  {
   "cell_type": "markdown",
   "metadata": {},
   "source": []
  },
  {
   "cell_type": "code",
   "execution_count": null,
   "metadata": {
    "scrolled": true
   },
   "outputs": [],
   "source": [
    "fig = emb.plot_emb_dis_dif_heatmap(\n",
    "        emb_space_name_1=\"esm1b\",\n",
    "        emb_space_name_2=\"esm2\",\n",
    "        distance_metric=\"adjusted_cosine\", # seuclidean, cosine, sqeuclidean, rank, knn, adjusted_cosine\n",
    "    )\n",
    "fig.show()"
   ]
  },
  {
   "cell_type": "code",
   "execution_count": null,
   "metadata": {},
   "outputs": [],
   "source": [
    "fig = emb.plot_emb_dis_dif_box(\n",
    "        emb_space_name_1=\"full_length\",\n",
    "        emb_space_name_2=\"chopped\",\n",
    "        distance_metric=\"cityblock_scaled\",\n",
    "        group=\"family\",\n",
    "    )\n",
    "fig.show()"
   ]
  },
  {
   "cell_type": "code",
   "execution_count": null,
   "metadata": {},
   "outputs": [],
   "source": [
    "fig = emb.plot_emb_dis_dif_heatmap(\n",
    "        emb_space_name_1=\"full_length\",\n",
    "        emb_space_name_2=\"chopped\",\n",
    "        distance_metric=\"cityblock\", # seuclidean, cosine, sqeuclidean, rank\n",
    "    )\n",
    "fig.show()"
   ]
  },
  {
   "cell_type": "code",
   "execution_count": null,
   "metadata": {},
   "outputs": [],
   "source": [
    "fig = emb.plot_emb_dis_dif_box(\n",
    "        emb_space_name_1=\"full_length\",\n",
    "        emb_space_name_2=\"chopped\",\n",
    "        distance_metric=\"knn\",\n",
    "        group=\"family\",\n",
    "    )\n",
    "fig.show()\n",
    "\n",
    "# CAREFUL: THIS IS NOT ACURATE AS THE DISTANCE MATRIX IS NOT SYMMETRIC"
   ]
  },
  {
   "cell_type": "code",
   "execution_count": null,
   "metadata": {},
   "outputs": [],
   "source": [
    "fig = emb.plot_emb_dist_dif_percentiles(\n",
    "    emb_space_name_1=\"bfd\",\n",
    "    emb_space_name_2=\"u50\",\n",
    "    distance_metric=\"adjusted_cosine\",\n",
    ")\n",
    "fig.show()\n",
    "fig = emb.plot_emb_dist_dif_percentiles(\n",
    "    emb_space_name_1=\"bfd\",\n",
    "    emb_space_name_2=\"u50\",\n",
    "    distance_metric=\"adjusted_cosine\",\n",
    "    subset_group=\"patho_effect\",\n",
    "    subset_group_value=\"1\",\n",
    "    compare_subset_to=\"within_group\",\n",
    ")\n",
    "fig.show()\n",
    "fig = emb.plot_emb_dist_dif_percentiles(\n",
    "    emb_space_name_1=\"bfd\",\n",
    "    emb_space_name_2=\"u50\",\n",
    "    distance_metric=\"adjusted_cosine\",\n",
    "    subset_group=\"patho_effect\",\n",
    "    subset_group_value=\"1\",\n",
    "    compare_subset_to=\"outside_group\",\n",
    ")\n",
    "fig.show()\n",
    "fig = emb.plot_emb_dist_dif_percentiles(\n",
    "    emb_space_name_1=\"bfd\",\n",
    "    emb_space_name_2=\"u50\",\n",
    "    distance_metric=\"adjusted_cosine\",\n",
    "    subset_group=\"patho_effect\",\n",
    "    subset_group_value=\"1\",\n",
    "    compare_subset_to=None,\n",
    ")\n",
    "fig.show()"
   ]
  },
  {
   "cell_type": "code",
   "execution_count": null,
   "metadata": {},
   "outputs": [],
   "source": []
  }
 ],
 "metadata": {
  "kernelspec": {
   "display_name": "Python 3 (ipykernel)",
   "language": "python",
   "name": "python3"
  },
  "language_info": {
   "codemirror_mode": {
    "name": "ipython",
    "version": 3
   },
   "file_extension": ".py",
   "mimetype": "text/x-python",
   "name": "python",
   "nbconvert_exporter": "python",
   "pygments_lexer": "ipython3",
   "version": "3.8.2"
  }
 },
 "nbformat": 4,
 "nbformat_minor": 4
}

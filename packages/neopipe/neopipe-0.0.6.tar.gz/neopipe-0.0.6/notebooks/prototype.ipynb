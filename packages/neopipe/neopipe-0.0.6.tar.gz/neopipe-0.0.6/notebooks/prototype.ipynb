{
 "cells": [
  {
   "cell_type": "code",
   "execution_count": 1,
   "metadata": {},
   "outputs": [],
   "source": [
    "from neopipe import Task, Ok, Err"
   ]
  },
  {
   "cell_type": "code",
   "execution_count": 2,
   "metadata": {},
   "outputs": [],
   "source": [
    "task = Task(lambda x: Ok(x + 1), retries=2)"
   ]
  },
  {
   "cell_type": "code",
   "execution_count": 3,
   "metadata": {},
   "outputs": [
    {
     "name": "stderr",
     "output_type": "stream",
     "text": [
      "2024-06-25 22:16:13 - neopipe.task - INFO - Executing task <lambda> (UUID: 1a60307a-cb99-49d4-be10-15d76d17dc7e)\n",
      "2024-06-25 22:16:13 - neopipe.task - INFO - Task <lambda> succeeded on attempt 1\n"
     ]
    },
    {
     "data": {
      "text/plain": [
       "Result(value=3, error=None)"
      ]
     },
     "execution_count": 3,
     "metadata": {},
     "output_type": "execute_result"
    }
   ],
   "source": [
    "task(2)"
   ]
  },
  {
   "cell_type": "code",
   "execution_count": 4,
   "metadata": {},
   "outputs": [],
   "source": [
    "def raise_exception(x: int):\n",
    "    raise Exception(f\"Exception {x}\")"
   ]
  },
  {
   "cell_type": "code",
   "execution_count": 5,
   "metadata": {},
   "outputs": [
    {
     "name": "stderr",
     "output_type": "stream",
     "text": [
      "2024-06-25 22:16:37 - neopipe.task - INFO - Executing task raise_exception (UUID: 01310462-d81d-4070-92ab-dc83a6890f3f)\n",
      "2024-06-25 22:16:37 - neopipe.task - ERROR - Task raise_exception exception on attempt 1: Exception 3\n",
      "2024-06-25 22:16:38 - neopipe.task - ERROR - Task raise_exception exception on attempt 2: Exception 3\n"
     ]
    },
    {
     "data": {
      "text/plain": [
       "Result(value=None, error='Task raise_exception failed after 2 attempts: Exception 3')"
      ]
     },
     "execution_count": 5,
     "metadata": {},
     "output_type": "execute_result"
    }
   ],
   "source": [
    "Task(raise_exception, retries=2)(3)"
   ]
  }
 ],
 "metadata": {
  "kernelspec": {
   "display_name": ".venv",
   "language": "python",
   "name": "python3"
  },
  "language_info": {
   "codemirror_mode": {
    "name": "ipython",
    "version": 3
   },
   "file_extension": ".py",
   "mimetype": "text/x-python",
   "name": "python",
   "nbconvert_exporter": "python",
   "pygments_lexer": "ipython3",
   "version": "3.11.6"
  }
 },
 "nbformat": 4,
 "nbformat_minor": 2
}

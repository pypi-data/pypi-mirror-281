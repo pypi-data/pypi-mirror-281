{
 "cells": [
  {
   "cell_type": "markdown",
   "id": "b34e7440-fc5a-4135-b304-f11cc14e29b1",
   "metadata": {
    "editable": true,
    "raw_mimetype": "text/restructuredtext",
    "slideshow": {
     "slide_type": ""
    },
    "tags": []
   },
   "source": [
    "# Notebook demo"
   ]
  },
  {
   "cell_type": "raw",
   "id": "d0280e02-b483-4a31-b7fe-00eb04c75c1b",
   "metadata": {
    "editable": true,
    "raw_mimetype": "text/restructuredtext",
    "slideshow": {
     "slide_type": ""
    },
    "tags": [
     "nbblog"
    ]
   },
   "source": [
    ".. nbblog::\n",
    "   :date: 2023-09-25\n",
    "   :tags: Python, Jupyter, Blog\n",
    "   :abstract: A jupyter notebook showing how to use Sphinx-nbblog"
   ]
  },
  {
   "cell_type": "markdown",
   "id": "7ed9713b-aea6-46c1-82bf-d69112d96265",
   "metadata": {
    "editable": true,
    "raw_mimetype": "text/restructuredtext",
    "slideshow": {
     "slide_type": ""
    },
    "tags": []
   },
   "source": [
    "This is a jupyter notebook with a `nbblog` directive."
   ]
  }
 ],
 "metadata": {
  "kernelspec": {
   "display_name": "Python 3 (ipykernel)",
   "language": "python",
   "name": "python3"
  },
  "language_info": {
   "codemirror_mode": {
    "name": "ipython",
    "version": 3
   },
   "file_extension": ".py",
   "mimetype": "text/x-python",
   "name": "python",
   "nbconvert_exporter": "python",
   "pygments_lexer": "ipython3",
   "version": "3.11.2"
  }
 },
 "nbformat": 4,
 "nbformat_minor": 5
}

{
 "cells": [
  {
   "cell_type": "markdown",
   "metadata": {},
   "source": [
    "# Differences to the Python Array API Standard\n",
    "\n",
    "## Overview\n",
    "\n",
    "There are a number of deliberate differences to the Python Array API standard in this implementation.\n",
    "Many of these differences originate from the fact that PyDims uses a `dims` property.\n",
    "Harmful and error-prone features are removed, and the API is adapted to named dimensions.\n",
    "\n",
    "## General differences\n",
    "\n",
    "- `axis` keyword arguments are replaced by a `dim` keyword argument.\n",
    "- `keepdims` keyword arguments are omitted, since keeping singleton dimensions for future broadcasting is not required, thanks to named dimensions.\n",
    "\n",
    "## Array object\n",
    "\n",
    "- The `mT` and `T` properties are not available.\n",
    "  It is unclear if this is useful with named dimensions, in particular since we currently do not intend to use named dimensions for linear algebra.\n",
    "  Named dimensions remove the other need for transposing axes, since axes are named and can be reordered automatically in operations.\n",
    "\n",
    "## Broadcasting\n",
    "\n",
    "The broadcasting rules of the Array API do not apply.\n",
    "In particular, we never broadcast a \"singleton\" dimension (dimension with size 1) to a larger dimension.\n",
    "Broadcasting is only performed via named dimensions.\n",
    "A dimension of size 1 is not considered compatible with a dimension of size > 1.\n",
    "\n",
    "`newaxis` is not available.\n",
    "\n",
    "## Indexing\n",
    "\n",
    "### Allowed keys\n",
    "\n",
    "We consider indexing without explicitly specifying the dimension harmful.\n",
    "Therefore, we do not support indexing with a tuple of integers or slices.\n",
    "Instead, a `dict` with dimension names as keys is required.\n",
    "\n",
    "Exception:\n",
    "If the array has only one dimension, the dimension name can be omitted, i.e., a single integer or slice is allowed.\n",
    "\n",
    "### Return values\n",
    "\n",
    "Array libraries may return a scalar if the result is a scalar.\n",
    "Due to the addition of a `unit` property, we instead return a 0-D array (with a single element).\n",
    "\n",
    "## Manipulation functions\n",
    "\n",
    "- `reshape` is not available since with named dimensions the reshape API is rarely required and likely error prone.\n",
    "  Instead, we provide `fold` and `flatten`.\n",
    "- `expand_dims` is not available since adding singleton dimensions is rarely useful without the array API broadcasting behavior.\n"
   ]
  }
 ],
 "metadata": {
  "kernelspec": {
   "display_name": "dev312",
   "language": "python",
   "name": "python3"
  },
  "language_info": {
   "codemirror_mode": {
    "name": "ipython",
    "version": 3
   },
   "file_extension": ".py",
   "mimetype": "text/x-python",
   "name": "python",
   "nbconvert_exporter": "python",
   "pygments_lexer": "ipython3",
   "version": "3.1.-1"
  }
 },
 "nbformat": 4,
 "nbformat_minor": 2
}

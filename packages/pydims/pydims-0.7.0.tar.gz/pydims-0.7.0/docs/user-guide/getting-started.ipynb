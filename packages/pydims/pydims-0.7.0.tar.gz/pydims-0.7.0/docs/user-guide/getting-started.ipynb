{
 "cells": [
  {
   "cell_type": "markdown",
   "metadata": {},
   "source": [
    "# Getting Started\n",
    "\n",
    "## Creating dimensioned arrays"
   ]
  },
  {
   "cell_type": "code",
   "execution_count": null,
   "metadata": {},
   "outputs": [],
   "source": [
    "from dask import array\n",
    "from astropy import units\n",
    "import pydims as dms\n",
    "\n",
    "make = dms.CreationFunctions(array, units)\n",
    "\n",
    "a = make.ones(dims=('x', 'y'), shape=(10, 10), unit='1/s', chunks=(5, 5))\n",
    "b = make.linspace('x', 0, 9000, 10, unit='m', chunks=(5,))\n",
    "c = a * b\n",
    "c = c.to(unit='km/s')\n",
    "c = c[{'x': slice(2, 7), 'y': slice(2, 4)}]\n",
    "result = dms.common.unary(c, values_op=lambda x: x.compute(), unit_op=lambda x: x)\n",
    "result"
   ]
  },
  {
   "cell_type": "code",
   "execution_count": null,
   "metadata": {},
   "outputs": [],
   "source": [
    "import numpy as np\n",
    "from pint import UnitRegistry\n",
    "import pydims as dims\n",
    "\n",
    "ureg = UnitRegistry()\n",
    "\n",
    "make = dims.CreationFunctions(np, ureg)\n",
    "a = make.ones(dims=('x', 'y'), shape=(10, 10), unit='1/s')\n",
    "b = make.linspace('x', 0, 9000, 10, unit='m')\n",
    "c = a * b\n",
    "c = c.to(unit='km/s')\n",
    "result = c[{'x': slice(2, 7), 'y': slice(2, 4)}]\n",
    "result"
   ]
  }
 ],
 "metadata": {
  "kernelspec": {
   "display_name": "dev312",
   "language": "python",
   "name": "python3"
  },
  "language_info": {
   "codemirror_mode": {
    "name": "ipython",
    "version": 3
   },
   "file_extension": ".py",
   "mimetype": "text/x-python",
   "name": "python",
   "nbconvert_exporter": "python",
   "pygments_lexer": "ipython3",
   "version": "3.12.0"
  }
 },
 "nbformat": 4,
 "nbformat_minor": 2
}

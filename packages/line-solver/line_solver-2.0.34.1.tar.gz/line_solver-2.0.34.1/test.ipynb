{
 "cells": [
  {
   "cell_type": "markdown",
   "metadata": {},
   "source": [
    "https://github.com/imperial-qore/line-solver/wiki/Getting-started#example-1-a-mm1-queue"
   ]
  },
  {
   "cell_type": "code",
   "metadata": {
    "ExecuteTime": {
     "end_time": "2024-05-04T20:59:24.097869Z",
     "start_time": "2024-05-04T20:59:24.093948Z"
    }
   },
   "source": [
    "from line_solver import *\n",
    "GlobalConstants.setVerbose(VerboseLevel.DEBUG)"
   ],
   "outputs": [],
   "execution_count": 273
  },
  {
   "cell_type": "code",
   "metadata": {
    "ExecuteTime": {
     "end_time": "2024-05-04T20:59:24.187359Z",
     "start_time": "2024-05-04T20:59:24.100912Z"
    }
   },
   "source": [
    "model = LayeredNetwork('myLayeredModel')\n",
    "P = np.empty(2, dtype=object)\n",
    "P[0] = Processor(model, 'P1', 1, SchedStrategy.PS)\n",
    "P[1] = Processor(model, 'P2', 1, SchedStrategy.PS)\n",
    "T = np.empty(2, dtype=object)\n",
    "T[0] = Task(model, 'T1', 10, SchedStrategy.REF).on(P[0]).setThinkTime(Exp.fitMean(100))\n",
    "T[1] = Task(model, 'T2', 1, SchedStrategy.FCFS).on(P[1]).setThinkTime(Immediate())\n",
    "E = np.empty(2, dtype=object)\n",
    "E[0] = Entry(model, 'E1').on(T[0])\n",
    "E[1] = Entry(model, 'E2').on(T[1])\n",
    "A = np.empty(2, dtype=object)\n",
    "A[0] = Activity(model, 'AS1', Exp.fitMean(1.6)).on(T[0]).boundTo(E[0]).synchCall(E[1],1)\n",
    "A[1] = Activity(model, 'AS2', Exp.fitMean(5)).on(T[1]).boundTo(E[1]).repliesTo(E[1])\n",
    "\n",
    "#SolverLQNS(model).getAvgTable();\n",
    "#model.getStruct()\n",
    "#print(model.getStruct())"
   ],
   "outputs": [],
   "execution_count": 274
  },
  {
   "metadata": {
    "ExecuteTime": {
     "end_time": "2024-05-04T20:59:24.274287Z",
     "start_time": "2024-05-04T20:59:24.189106Z"
    }
   },
   "cell_type": "code",
   "source": [
    "L = [[0.5809,2,1],[0,1,1],[0,0,1]]\n",
    "La = [[0.5809,2,1],[0,1,1],[0,0,1],[0,0,1]]\n",
    "\n",
    "Grr = pfqn_ca(L,[1,1,1],[0,0,0])[0]\n",
    "Gr = pfqn_ca(L,[2,1,1],[0,0,0])[0]\n",
    "G = pfqn_ca(L,[3,1,1],[0,0,0])[0]\n",
    "\n",
    "Garr = pfqn_ca(La,[1,1,1],[0,0,0])[0]\n",
    "Gar = pfqn_ca(La,[2,1,1],[0,0,0])[0]\n",
    "Ga = pfqn_ca(La,[3,1,1],[0,0,0])[0]\n",
    "\n",
    "X = Gr / G\n",
    "Xr = Grr / Gr\n",
    "Q = Ga/G\n",
    "Qr = Gar/Gr\n",
    "\n",
    "print(X)\n",
    "print(Xr)\n",
    "print(X-Xr)\n",
    "\n",
    "print(Q)\n",
    "print(Qr)\n",
    "print(Q1-Q1r)\n"
   ],
   "outputs": [
    {
     "name": "stdout",
     "output_type": "stream",
     "text": [
      "1.1476444597463709\n",
      "1.0246825533449737\n",
      "0.12296190640139715\n",
      "1.1428571428571428\n",
      "1.1666666666666667\n",
      "-0.023809523809523947\n"
     ]
    }
   ],
   "execution_count": 275
  },
  {
   "metadata": {
    "ExecuteTime": {
     "end_time": "2024-05-04T20:59:24.279211Z",
     "start_time": "2024-05-04T20:59:24.276423Z"
    }
   },
   "cell_type": "code",
   "source": "",
   "outputs": [],
   "execution_count": 275
  }
 ],
 "metadata": {
  "kernelspec": {
   "display_name": "Python 3",
   "language": "python",
   "name": "python3"
  },
  "language_info": {
   "codemirror_mode": {
    "name": "ipython",
    "version": 3
   },
   "file_extension": ".py",
   "mimetype": "text/x-python",
   "name": "python",
   "nbconvert_exporter": "python",
   "pygments_lexer": "ipython3",
   "version": "3.6.4"
  }
 },
 "nbformat": 4,
 "nbformat_minor": 2
}

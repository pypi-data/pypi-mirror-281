{
 "cells": [
  {
   "cell_type": "markdown",
   "metadata": {},
   "source": [
    "    https://github.com/imperial-qore/line-solver/wiki/Getting-started#example-8-optimizing-a-performance-metric"
   ]
  },
  {
   "cell_type": "code",
   "metadata": {
    "ExecuteTime": {
     "end_time": "2024-06-11T06:48:47.575956Z",
     "start_time": "2024-06-11T06:48:46.629820Z"
    }
   },
   "source": [
    "from line_solver import *\n",
    "from scipy import optimize\n",
    "import numpy as np"
   ],
   "outputs": [],
   "execution_count": 1
  },
  {
   "cell_type": "code",
   "metadata": {
    "ExecuteTime": {
     "end_time": "2024-06-11T06:48:47.594595Z",
     "start_time": "2024-06-11T06:48:47.577390Z"
    }
   },
   "source": [
    "model = Network('LoadBalCQN')\n",
    "# Block 1: nodes\n",
    "delay = Delay(model, 'Think')\n",
    "queue1 = Queue(model, 'Queue1', SchedStrategy.PS)\n",
    "queue2 = Queue(model, 'Queue2', SchedStrategy.PS)\n",
    "# Block 2: classes\n",
    "cclass = ClosedClass(model, 'Job1', 16, delay)\n",
    "delay.setService(cclass, Exp(1))\n",
    "queue1.setService(cclass, Exp(0.75))\n",
    "queue2.setService(cclass, Exp(0.50))\n",
    "P = model.initRoutingMatrix()\n",
    "P.set(cclass, cclass, queue1, delay, 1.0)\n",
    "P.set(cclass, cclass, queue2, delay, 1.0)\n",
    "model.link(P)\n",
    "\n",
    "def objFun(p):\n",
    "    P.set(cclass, cclass, delay, queue1, p)\n",
    "    P.set(cclass, cclass, delay, queue2, 1.0 - p)\n",
    "    model.reset()\n",
    "    model.link(P)\n",
    "    # Block 4: solution\n",
    "    R = SolverMVA(model, 'method', 'exact', 'verbose', False).getAvgSysRespT()    \n",
    "    return R[0]"
   ],
   "outputs": [],
   "execution_count": 2
  },
  {
   "cell_type": "code",
   "metadata": {
    "ExecuteTime": {
     "end_time": "2024-06-11T06:48:47.776962Z",
     "start_time": "2024-06-11T06:48:47.595586Z"
    }
   },
   "source": [
    "p_opt = optimize.fminbound(objFun, 0, 1)\n",
    "print(p_opt[0])"
   ],
   "outputs": [
    {
     "name": "stdout",
     "output_type": "stream",
     "text": [
      "[[19.77711309]]\n",
      "[[13.65298573]]\n",
      "[[16.29734017]]\n",
      "[[13.63923075]]\n",
      "[[13.65182599]]\n",
      "[[13.63823752]]\n",
      "[[13.63823663]]\n",
      "[[13.63823658]]\n",
      "[[13.63823658]]\n",
      "[[13.63823658]]\n",
      "0.6104878504366782\n"
     ]
    }
   ],
   "execution_count": 3
  },
  {
   "cell_type": "code",
   "source": [
    "import matplotlib.pyplot as plt\n",
    "y = []\n",
    "x = np.arange(0.01,1,0.01)\n",
    "y = np.array(list(map(lambda x:objFun(x), x)))\n",
    "plt.plot(x, y);"
   ],
   "metadata": {
    "collapsed": false,
    "ExecuteTime": {
     "end_time": "2024-06-11T06:48:48.503394Z",
     "start_time": "2024-06-11T06:48:47.778124Z"
    }
   },
   "outputs": [
    {
     "name": "stdout",
     "output_type": "stream",
     "text": [
      "[[31.68]]\n",
      "[[31.36]]\n",
      "[[31.04]]\n",
      "[[30.72]]\n",
      "[[30.4]]\n",
      "[[30.08]]\n",
      "[[29.76]]\n",
      "[[29.44]]\n",
      "[[29.12]]\n",
      "[[28.8]]\n",
      "[[28.48]]\n",
      "[[28.16]]\n",
      "[[27.84]]\n",
      "[[27.52]]\n",
      "[[27.2]]\n",
      "[[26.88]]\n",
      "[[26.56]]\n",
      "[[26.24]]\n",
      "[[25.92]]\n",
      "[[25.6]]\n",
      "[[25.28]]\n",
      "[[24.96]]\n",
      "[[24.64]]\n",
      "[[24.32]]\n",
      "[[24.00000001]]\n",
      "[[23.68000001]]\n",
      "[[23.36000003]]\n",
      "[[23.04000005]]\n",
      "[[22.7200001]]\n",
      "[[22.40000019]]\n",
      "[[22.08000035]]\n",
      "[[21.76000066]]\n",
      "[[21.44000121]]\n",
      "[[21.12000221]]\n",
      "[[20.800004]]\n",
      "[[20.4800072]]\n",
      "[[20.16001284]]\n",
      "[[19.84002276]]\n",
      "[[19.52004006]]\n",
      "[[19.20007007]]\n",
      "[[18.88012179]]\n",
      "[[18.56021042]]\n",
      "[[18.24036144]]\n",
      "[[17.92061721]]\n",
      "[[17.60104784]]\n",
      "[[17.28176831]]\n",
      "[[16.96296572]]\n",
      "[[16.64494146]]\n",
      "[[16.32817538]]\n",
      "[[16.01342077]]\n",
      "[[15.70183981]]\n",
      "[[15.39518726]]\n",
      "[[15.09604125]]\n",
      "[[14.80806069]]\n",
      "[[14.53621263]]\n",
      "[[14.2868645]]\n",
      "[[14.06759136]]\n",
      "[[13.88655085]]\n",
      "[[13.75138127]]\n",
      "[[13.66779661]]\n",
      "[[13.6382996]]\n",
      "[[13.66152403]]\n",
      "[[13.73251287]]\n",
      "[[13.84382306]]\n",
      "[[13.98699937]]\n",
      "[[14.15389873]]\n",
      "[[14.33754814]]\n",
      "[[14.53248988]]\n",
      "[[14.73474521]]\n",
      "[[14.9415749]]\n",
      "[[15.15117942]]\n",
      "[[15.36242186]]\n",
      "[[15.5746074]]\n",
      "[[15.78732358]]\n",
      "[[16.00033184]]\n",
      "[[16.21349745]]\n",
      "[[16.42674606]]\n",
      "[[16.64003753]]\n",
      "[[16.85335065]]\n",
      "[[17.06667445]]\n",
      "[[17.2800034]]\n",
      "[[17.49333478]]\n",
      "[[17.70666726]]\n",
      "[[17.92000024]]\n",
      "[[18.13333342]]\n",
      "[[18.3466667]]\n",
      "[[18.56000001]]\n",
      "[[18.77333334]]\n",
      "[[18.98666667]]\n",
      "[[19.2]]\n",
      "[[19.41333333]]\n",
      "[[19.62666667]]\n",
      "[[19.84]]\n",
      "[[20.05333333]]\n",
      "[[20.26666667]]\n",
      "[[20.48]]\n",
      "[[20.69333333]]\n",
      "[[20.90666667]]\n",
      "[[21.12]]\n"
     ]
    },
    {
     "data": {
      "text/plain": [
       "<Figure size 640x480 with 1 Axes>"
      ],
      "image/png": "[encoded data removed]"
     },
     "metadata": {},
     "output_type": "display_data"
    }
   ],
   "execution_count": 4
  }
 ],
 "metadata": {
  "kernelspec": {
   "display_name": "Python 3",
   "language": "python",
   "name": "python3"
  },
  "language_info": {
   "codemirror_mode": {
    "name": "ipython",
    "version": 3
   },
   "file_extension": ".py",
   "mimetype": "text/x-python",
   "name": "python",
   "nbconvert_exporter": "python",
   "pygments_lexer": "ipython3",
   "version": "3.6.4"
  }
 },
 "nbformat": 4,
 "nbformat_minor": 2
}

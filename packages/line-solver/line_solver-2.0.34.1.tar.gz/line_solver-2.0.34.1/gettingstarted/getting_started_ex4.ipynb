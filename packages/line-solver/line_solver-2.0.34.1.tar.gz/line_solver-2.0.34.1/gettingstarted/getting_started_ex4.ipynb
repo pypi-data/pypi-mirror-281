{
 "cells": [
  {
   "cell_type": "markdown",
   "metadata": {},
   "source": [
    "https://github.com/imperial-qore/line-solver/wiki/Getting-started#example-4-round-robin-load-balancing"
   ]
  },
  {
   "cell_type": "code",
   "metadata": {
    "ExecuteTime": {
     "end_time": "2024-06-11T06:48:27.762651Z",
     "start_time": "2024-06-11T06:48:27.759502Z"
    }
   },
   "source": [
    "from line_solver import *\n",
    "GlobalConstants.setVerbose(VerboseLevel.STD)"
   ],
   "outputs": [],
   "execution_count": 5
  },
  {
   "cell_type": "code",
   "metadata": {
    "ExecuteTime": {
     "end_time": "2024-06-11T06:48:27.875360Z",
     "start_time": "2024-06-11T06:48:27.764814Z"
    }
   },
   "source": [
    "model = Network('RRLB')\n",
    "source = Source(model, 'Source')\n",
    "lb = Router(model, 'LB')\n",
    "queue1 = Queue(model, 'Queue1', SchedStrategy.PS)\n",
    "queue2 = Queue(model, 'Queue2', SchedStrategy.PS)\n",
    "sink = Sink(model, 'Sink')\n",
    "oclass = OpenClass(model, 'Class1')\n",
    "source.setArrival(oclass, Exp(1))\n",
    "queue1.setService(oclass, Exp(2))\n",
    "queue2.setService(oclass, Exp(2))"
   ],
   "outputs": [],
   "execution_count": 6
  },
  {
   "cell_type": "code",
   "source": [
    "model.addLinks([[source, lb], \n",
    "               [lb, queue1],  \n",
    "               [lb, queue2],\n",
    "               [queue1, sink],\n",
    "               [queue2, sink]])\n",
    "lb.setRouting(oclass, RoutingStrategy.RAND)\n",
    "jmtAvgTable = SolverJMT(model,'seed',23000).getAvgTable()"
   ],
   "metadata": {
    "collapsed": false,
    "ExecuteTime": {
     "end_time": "2024-06-11T06:48:28.806009Z",
     "start_time": "2024-06-11T06:48:27.876820Z"
    }
   },
   "outputs": [
    {
     "name": "stdout",
     "output_type": "stream",
     "text": [
      "JMT Model: /tmp/workspace/jsim/7369777338959162977/model.jsim\n",
      "JMT Analysis completed. Runtime: 0.813 seconds\n",
      "  Station JobClass      QLen      Util     RespT    ResidT      ArvR      Tput\n",
      "0  Source   Class1  0.000000  0.000000  0.000000  0.000000  0.000000  1.013486\n",
      "1  Queue1   Class1  0.316119  0.246825  0.654111  0.327056  0.501442  0.500997\n",
      "2  Queue2   Class1  0.334030  0.250757  0.684064  0.342032  0.504463  0.504135\n"
     ]
    }
   ],
   "execution_count": 7
  },
  {
   "cell_type": "code",
   "source": [
    "model.reset()\n",
    "lb.setRouting(oclass, RoutingStrategy.RROBIN)\n",
    "jmtAvgTableRR = SolverJMT(model,'seed',23000).getAvgTable()"
   ],
   "metadata": {
    "collapsed": false,
    "ExecuteTime": {
     "end_time": "2024-06-11T06:48:29.635932Z",
     "start_time": "2024-06-11T06:48:28.808098Z"
    }
   },
   "outputs": [
    {
     "name": "stdout",
     "output_type": "stream",
     "text": [
      "JMT Model: /tmp/workspace/jsim/2837190570473091266/model.jsim\n",
      "JMT Analysis completed. Runtime: 0.812 seconds\n",
      "  Station JobClass      QLen      Util     RespT    ResidT      ArvR      Tput\n",
      "0  Source   Class1  0.000000  0.000000  0.000000  0.000000  0.000000  1.008868\n",
      "1  Queue1   Class1  0.304291  0.261181  0.584815  0.292408  0.502904  0.505255\n",
      "2  Queue2   Class1  0.292822  0.243971  0.572931  0.286466  0.504961  0.505264\n"
     ]
    }
   ],
   "execution_count": 8
  }
 ],
 "metadata": {
  "kernelspec": {
   "display_name": "Python 3",
   "language": "python",
   "name": "python3"
  },
  "language_info": {
   "codemirror_mode": {
    "name": "ipython",
    "version": 3
   },
   "file_extension": ".py",
   "mimetype": "text/x-python",
   "name": "python",
   "nbconvert_exporter": "python",
   "pygments_lexer": "ipython3",
   "version": "3.6.4"
  }
 },
 "nbformat": 4,
 "nbformat_minor": 2
}

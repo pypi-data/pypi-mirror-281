{
 "cells": [
  {
   "cell_type": "markdown",
   "source": [
    "WARNING: this example is not yet fully functional\n",
    "\n",
    "This example illustrates the execution on a layered queueing network model.\n",
    "Performance indexes now refer to processors, tasks, entries, and activities.\n",
    "Indexes refer to the submodel (layer) where the processor or task acts as a server.\n",
    "NaN indexes indicate that the metric is not supported by the node type."
   ],
   "metadata": {
    "collapsed": false
   }
  },
  {
   "cell_type": "code",
   "execution_count": 3,
   "metadata": {
    "ExecuteTime": {
     "end_time": "2023-12-29T11:08:43.941979658Z",
     "start_time": "2023-12-29T11:08:43.898891776Z"
    }
   },
   "outputs": [],
   "source": [
    "from line_solver import *\n",
    "GlobalConstants.setVerbose(VerboseLevel.STD)"
   ]
  },
  {
   "cell_type": "code",
   "execution_count": 4,
   "outputs": [
    {
     "ename": "java.lang.ClassCastException",
     "evalue": "java.lang.ClassCastException: class jline.lang.layered.Activity cannot be cast to class java.lang.String (jline.lang.layered.Activity is in unnamed module of loader org.jpype.classloader.DynamicClassLoader @24d46ca6; java.lang.String is in module java.base of loader 'bootstrap')",
     "output_type": "error",
     "traceback": [
      "\u001B[0;31m---------------------------------------------------------------------------\u001B[0m",
      "\u001B[0;31mException\u001B[0m                                 Traceback (most recent call last)",
      "File \u001B[0;32mActivityPrecedence.java:161\u001B[0m, in \u001B[0;36mjline.lang.layered.ActivityPrecedence.Serial\u001B[0;34m()\u001B[0m\n",
      "\u001B[0;31mException\u001B[0m: Java Exception",
      "\nThe above exception was the direct cause of the following exception:\n",
      "\u001B[0;31mjava.lang.ClassCastException\u001B[0m              Traceback (most recent call last)",
      "Cell \u001B[0;32mIn[4], line 17\u001B[0m\n\u001B[1;32m     15\u001B[0m A[\u001B[38;5;241m3\u001B[39m] \u001B[38;5;241m=\u001B[39m Activity(model, \u001B[38;5;124m'\u001B[39m\u001B[38;5;124mAS4\u001B[39m\u001B[38;5;124m'\u001B[39m, Exp\u001B[38;5;241m.\u001B[39mfitMean(\u001B[38;5;241m1\u001B[39m))\u001B[38;5;241m.\u001B[39mon(T[\u001B[38;5;241m1\u001B[39m])\u001B[38;5;241m.\u001B[39mrepliesTo(E[\u001B[38;5;241m1\u001B[39m])\n\u001B[1;32m     16\u001B[0m T[\u001B[38;5;241m0\u001B[39m]\u001B[38;5;241m.\u001B[39maddPrecedence(ActivityPrecedence\u001B[38;5;241m.\u001B[39mSequence(A[\u001B[38;5;241m0\u001B[39m], A[\u001B[38;5;241m1\u001B[39m]))\n\u001B[0;32m---> 17\u001B[0m T[\u001B[38;5;241m1\u001B[39m]\u001B[38;5;241m.\u001B[39maddPrecedence(\u001B[43mActivityPrecedence\u001B[49m\u001B[38;5;241;43m.\u001B[39;49m\u001B[43mSerial\u001B[49m\u001B[43m(\u001B[49m\u001B[43mA\u001B[49m\u001B[43m[\u001B[49m\u001B[38;5;241;43m2\u001B[39;49m\u001B[43m]\u001B[49m\u001B[43m,\u001B[49m\u001B[43m \u001B[49m\u001B[43mA\u001B[49m\u001B[43m[\u001B[49m\u001B[38;5;241;43m3\u001B[39;49m\u001B[43m]\u001B[49m\u001B[43m)\u001B[49m)\n\u001B[1;32m     19\u001B[0m SolverLQNS(model)\u001B[38;5;241m.\u001B[39mgetAvgTable()\n",
      "File \u001B[0;32m~/Dropbox/code/line-solver.git/python/line_solver/layered.py:71\u001B[0m, in \u001B[0;36mActivityPrecedence.Serial\u001B[0;34m(act0, act1)\u001B[0m\n\u001B[1;32m     69\u001B[0m \u001B[38;5;129m@staticmethod\u001B[39m\n\u001B[1;32m     70\u001B[0m \u001B[38;5;28;01mdef\u001B[39;00m \u001B[38;5;21mSerial\u001B[39m(act0, act1):\n\u001B[0;32m---> 71\u001B[0m     \u001B[38;5;28;01mreturn\u001B[39;00m \u001B[43mjpype\u001B[49m\u001B[38;5;241;43m.\u001B[39;49m\u001B[43mJPackage\u001B[49m\u001B[43m(\u001B[49m\u001B[38;5;124;43m'\u001B[39;49m\u001B[38;5;124;43mjline\u001B[39;49m\u001B[38;5;124;43m'\u001B[39;49m\u001B[43m)\u001B[49m\u001B[38;5;241;43m.\u001B[39;49m\u001B[43mlang\u001B[49m\u001B[38;5;241;43m.\u001B[39;49m\u001B[43mlayered\u001B[49m\u001B[38;5;241;43m.\u001B[39;49m\u001B[43mActivityPrecedence\u001B[49m\u001B[38;5;241;43m.\u001B[39;49m\u001B[43mSerial\u001B[49m\u001B[43m(\u001B[49m\n\u001B[1;32m     72\u001B[0m \u001B[43m        \u001B[49m\u001B[43mjpype\u001B[49m\u001B[38;5;241;43m.\u001B[39;49m\u001B[43mjava\u001B[49m\u001B[38;5;241;43m.\u001B[39;49m\u001B[43mutil\u001B[49m\u001B[38;5;241;43m.\u001B[39;49m\u001B[43mArrayList\u001B[49m\u001B[43m(\u001B[49m\u001B[43m(\u001B[49m\u001B[43mact0\u001B[49m\u001B[38;5;241;43m.\u001B[39;49m\u001B[43mobj\u001B[49m\u001B[43m,\u001B[49m\u001B[43m \u001B[49m\u001B[43mact1\u001B[49m\u001B[38;5;241;43m.\u001B[39;49m\u001B[43mobj\u001B[49m\u001B[43m)\u001B[49m\u001B[43m)\u001B[49m\u001B[43m)\u001B[49m\n",
      "\u001B[0;31mjava.lang.ClassCastException\u001B[0m: java.lang.ClassCastException: class jline.lang.layered.Activity cannot be cast to class java.lang.String (jline.lang.layered.Activity is in unnamed module of loader org.jpype.classloader.DynamicClassLoader @24d46ca6; java.lang.String is in module java.base of loader 'bootstrap')"
     ]
    }
   ],
   "source": [
    "model = LayeredNetwork('myLayeredModel')\n",
    "P = np.empty(2, dtype=object)\n",
    "P[0] = Processor(model, 'P1', 1, SchedStrategy.PS)\n",
    "P[1] = Processor(model, 'P2', 1, SchedStrategy.PS)\n",
    "T = np.empty(2, dtype=object)\n",
    "T[0] = Task(model, 'T1', 10, SchedStrategy.REF).on(P[0]).setThinkTime(Exp.fitMean(100))\n",
    "T[1] = Task(model, 'T2', 1, SchedStrategy.FCFS).on(P[1]).setThinkTime(Immediate())\n",
    "E = np.empty(2, dtype=object)\n",
    "E[0] = Entry(model, 'E1').on(T[0])\n",
    "E[1] = Entry(model, 'E2').on(T[1])\n",
    "A = np.empty(4, dtype=object)\n",
    "A[0] = Activity(model, 'AS1', Exp.fitMean(1.6)).on(T[0]).boundTo(E[0])\n",
    "A[1] = Activity(model, 'AS2', Immediate()).on(T[0]).synchCall(E[1],1)\n",
    "A[2] = Activity(model, 'AS3', Exp.fitMean(5)).on(T[1]).boundTo(E[1])\n",
    "A[3] = Activity(model, 'AS4', Exp.fitMean(1)).on(T[1]).repliesTo(E[1])\n",
    "T[0].addPrecedence(ActivityPrecedence.Sequence(A[0], A[1]))\n",
    "T[1].addPrecedence(ActivityPrecedence.Serial(A[2], A[3]))\n",
    "\n",
    "SolverLQNS(model).getAvgTable()"
   ],
   "metadata": {
    "collapsed": false,
    "ExecuteTime": {
     "end_time": "2023-12-29T11:08:44.030997995Z",
     "start_time": "2023-12-29T11:08:43.941920695Z"
    }
   }
  },
  {
   "cell_type": "code",
   "execution_count": null,
   "outputs": [],
   "source": [
    "# options = SolverLQNS.defaultOptions\n",
    "# options.keep = True # uncomment to keep the intermediate XML files generates while translating the model to LQNS\n",
    "#\n",
    "# solver[0] = SolverLQNS(model)\n",
    "# AvgTable[0] = solver[0].getAvgTable()\n",
    "# AvgTable[0]\n",
    "#\n",
    "# useLQNSnaming = true\n",
    "# AvgTable[1] = solver[0].getAvgTable(useLQNSnaming)\n",
    "# AvgTable[1]\n",
    "#\n",
    "#\n",
    "# useLQNSnaming = true\n",
    "# [AvgTable[2], CallAvgTable[2]] = solver[0].getRawAvgTables()\n",
    "# AvgTable[2]\n",
    "# CallAvgTable[2]\n",
    "#\n",
    "# AvgTable[3]=SolverLN(model).getAvgTable"
   ],
   "metadata": {
    "collapsed": false,
    "ExecuteTime": {
     "start_time": "2023-12-29T11:08:44.032084545Z"
    }
   }
  }
 ],
 "metadata": {
  "kernelspec": {
   "display_name": "Python 3",
   "language": "python",
   "name": "python3"
  },
  "language_info": {
   "codemirror_mode": {
    "name": "ipython",
    "version": 3
   },
   "file_extension": ".py",
   "mimetype": "text/x-python",
   "name": "python",
   "nbconvert_exporter": "python",
   "pygments_lexer": "ipython3",
   "version": "3.6.4"
  }
 },
 "nbformat": 4,
 "nbformat_minor": 2
}

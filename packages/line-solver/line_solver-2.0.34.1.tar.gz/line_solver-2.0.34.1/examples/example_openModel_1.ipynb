{
 "cells": [
  {
   "cell_type": "code",
   "id": "4930fb9c4fab467c",
   "metadata": {
    "collapsed": true,
    "ExecuteTime": {
     "end_time": "2024-05-27T12:09:12.837266Z",
     "start_time": "2024-05-27T12:09:11.749803Z"
    }
   },
   "source": [
    "from line_solver import *\n",
    "GlobalConstants.setVerbose(VerboseLevel.STD)"
   ],
   "outputs": [],
   "execution_count": 2
  },
  {
   "cell_type": "code",
   "source": [
    "model = Network('model')\n",
    "\n",
    "node = np.empty(4, dtype=object)\n",
    "node[0] = Delay(model, 'Delay')\n",
    "node[1] = Queue(model, 'Queue1', SchedStrategy.FCFS)\n",
    "node[2] = Source(model,'Source')\n",
    "node[3] = Sink(model,'Sink')\n",
    "\n",
    "jobclass = OpenClass(model, 'Class1', 0)\n",
    "\n",
    "node[0].setService(jobclass, HyperExp(0.5,3.0,10.0))\n",
    "node[1].setService(jobclass, Exp(1))\n",
    "node[2].setArrival(jobclass, Exp(0.1))\n",
    "\n",
    "M = model.getNumberOfStations()\n",
    "K = model.getNumberOfClasses()\n",
    "\n",
    "P = model.initRoutingMatrix()\n",
    "P.set(jobclass, jobclass, [[0,1,0,0],[0,0,0,1],[1,0,0,0],[0,0,0,0]])\n",
    "\n",
    "model.link(P)"
   ],
   "metadata": {
    "collapsed": false,
    "jupyter": {
     "is_executing": true
    },
    "ExecuteTime": {
     "start_time": "2024-05-27T12:09:16.763945Z"
    }
   },
   "id": "bf3848b78f83c1f7",
   "outputs": [
    {
     "name": "stdout",
     "output_type": "stream",
     "text": [
      "JMT Model: /tmp/workspace/jsim/10701298796211209486/model.jsim\n",
      "JMT view model command: java -cp /home/gcasale/Dropbox/code/line-solver.git/python/line_solver/JMT.jar jmt.commandline.Jmt jsimg /tmp/workspace/jsim/10701298796211209486/model.jsim  > /dev/null\n"
     ]
    }
   ],
   "execution_count": null
  },
  {
   "cell_type": "markdown",
   "source": [
    "This example shows the execution of the solver on a 1-class 2-node open model."
   ],
   "metadata": {
    "collapsed": false
   },
   "id": "b4e133009e163fe"
  },
  {
   "cell_type": "code",
   "execution_count": 3,
   "outputs": [
    {
     "name": "stdout",
     "output_type": "stream",
     "text": [
      "\n",
      "SOLVER: SolverJMT\n",
      "\n",
      "SOLVER: SolverSSA\n",
      "  Station JobClass  QLen  Util  RespT  ResidT      ArvR      Tput\n",
      "2  Source   Class1   0.0   0.0    0.0     0.0  0.099609  0.099609\n",
      "\n",
      "SOLVER: SolverFluid\n",
      "  Station JobClass      QLen      Util     RespT    ResidT  ArvR  Tput\n",
      "0   Delay   Class1  0.021667  0.021667  0.216667  0.216667   0.1   0.1\n",
      "1  Queue1   Class1  0.100000  0.100000  1.000000  1.000000   0.1   0.1\n",
      "2  Source   Class1  0.000000  0.000000  0.000000  0.000000   0.1   0.1\n",
      "\n",
      "SOLVER: SolverMVA\n",
      "  Station JobClass      QLen      Util     RespT    ResidT  ArvR  Tput\n",
      "0   Delay   Class1  0.021665  0.021667  0.216653  0.216653   0.1   0.1\n",
      "1  Queue1   Class1  0.111085  0.100000  1.110854  1.110854   0.1   0.1\n",
      "2  Source   Class1  0.000000  0.000000  0.000000  0.000000   0.1   0.1\n"
     ]
    }
   ],
   "source": [
    "#options = Solver.defaultOptions\n",
    "#options.keep = True\n",
    "#options.verbose = 1\n",
    "#options.cutoff = 10\n",
    "#options.seed = 23000\n",
    "#options.iter_max = 200\n",
    "#options.samples = 2000\n",
    "\n",
    "# This part illustrates the execution of different solvers\n",
    "# TODO: SSA result is buggy \n",
    "solver = np.array([], dtype=object)\n",
    "#solver = np.append(solver, SolverCTMC(model,'keep',True))\n",
    "solver = np.append(solver, SolverJMT(model,'seed',23000,'verbose',False,'keep',True))\n",
    "solver = np.append(solver, SolverSSA(model,'seed',23000,'verbose',True,'samples',50000))\n",
    "solver = np.append(solver, SolverFluid(model))\n",
    "solver = np.append(solver, SolverMVA(model))\n",
    "#solver = np.append(solver, SolverNC(model,'exact'))\n",
    "#solver = np.append(solver, SolverMAM(model))\n",
    "#solver = np.append(solver, LINE(model))\n",
    "\n",
    "AvgTable = np.empty(len(solver), dtype=object)\n",
    "for s in range(len(solver)):\n",
    "    print(f'\\nSOLVER: {solver[s].getName()}')\n",
    "    AvgTable[s] = solver[s].getAvgTable()"
   ],
   "metadata": {
    "collapsed": false,
    "ExecuteTime": {
     "end_time": "2023-12-10T18:46:15.364296450Z",
     "start_time": "2023-12-10T18:46:12.706939548Z"
    }
   },
   "id": "initial_id"
  }
 ],
 "metadata": {
  "kernelspec": {
   "display_name": "Python 3",
   "language": "python",
   "name": "python3"
  },
  "language_info": {
   "codemirror_mode": {
    "name": "ipython",
    "version": 2
   },
   "file_extension": ".py",
   "mimetype": "text/x-python",
   "name": "python",
   "nbconvert_exporter": "python",
   "pygments_lexer": "ipython2",
   "version": "2.7.6"
  }
 },
 "nbformat": 4,
 "nbformat_minor": 5
}

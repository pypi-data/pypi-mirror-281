{
 "cells": [
  {
   "cell_type": "markdown",
   "source": [
    "WARNING: this example is not yet fully functional"
   ],
   "metadata": {
    "collapsed": false
   },
   "id": "c2b0c0e34d2649ad"
  },
  {
   "cell_type": "code",
   "execution_count": 1,
   "outputs": [],
   "source": [
    "from line_solver import *\n",
    "GlobalConstants.setVerbose(VerboseLevel.STD)"
   ],
   "metadata": {
    "collapsed": false,
    "ExecuteTime": {
     "end_time": "2023-12-28T15:51:38.074670567Z",
     "start_time": "2023-12-28T15:51:37.227359335Z"
    }
   },
   "id": "1b0f9c5a8ccd35c7"
  },
  {
   "cell_type": "markdown",
   "source": [
    "A basic M/M/1 with explicit definition of a classwitch node\n",
    "Recommended ClassSwitch declaration style"
   ],
   "metadata": {
    "collapsed": false
   },
   "id": "49747b29b7182ea4"
  },
  {
   "cell_type": "code",
   "execution_count": 2,
   "outputs": [],
   "source": [
    "model = Network('mm1cs')\n",
    "\n",
    "# Block 1: nodes\n",
    "node = np.empty(4, dtype=object)\n",
    "node[0] = Source(model, 'Source 1')\n",
    "node[1] = Queue(model, 'Queue 1', SchedStrategy.FCFS)\n",
    "node[2] = Sink(model, 'Sink 1')\n",
    "node[3] = ClassSwitch(model, 'ClassSwitch 1')\n",
    "\n",
    "# Block 2: classes\n",
    "jobclass = np.empty(2, dtype=object)\n",
    "jobclass[0] = OpenClass(model, 'Class1', 0)\n",
    "jobclass[1] = OpenClass(model, 'Class2', 0)\n",
    "\n",
    "node[0].setArrival(jobclass[0], Exp.fitMean(10.00)) # (Source 1,Class1)\n",
    "node[0].setArrival(jobclass[1], Exp.fitMean(2.00)) # (Source 1,Class2)\n",
    "\n",
    "node[1].setService(jobclass[0], Exp.fitMean(1.00)) # (Queue 1,Class1)\n",
    "node[1].setService(jobclass[1], Exp.fitMean(1.00)) # (Queue 1,Class2)\n"
   ],
   "metadata": {
    "collapsed": false,
    "ExecuteTime": {
     "end_time": "2023-12-28T15:51:38.118145805Z",
     "start_time": "2023-12-28T15:51:38.114844194Z"
    }
   },
   "id": "c764847f8cd95da4"
  },
  {
   "cell_type": "code",
   "execution_count": 3,
   "outputs": [
    {
     "name": "stdout",
     "output_type": "stream",
     "text": [
      "Source 1 [Class1] => ClassSwitch 1 [Class1] : Pr=1.0\n",
      "Source 1 [Class2] => ClassSwitch 1 [Class2] : Pr=1.0\n",
      "Queue 1 [Class1] => Sink 1 [Class1] : Pr=1.0\n",
      "Queue 1 [Class2] => Sink 1 [Class2] : Pr=1.0\n",
      "Sink 1 [Class1] => Source 1 [Class1] : Pr=0.16666666666666669\n",
      "Sink 1 [Class1] => Source 1 [Class2] : Pr=0.8333333333333334\n",
      "Sink 1 [Class2] => Source 1 [Class1] : Pr=0.16666666666666669\n",
      "Sink 1 [Class2] => Source 1 [Class2] : Pr=0.8333333333333334\n",
      "ClassSwitch 1 [Class1] => Queue 1 [Class1] : Pr=0.3\n",
      "ClassSwitch 1 [Class1] => Queue 1 [Class2] : Pr=0.7\n",
      "ClassSwitch 1 [Class2] => Queue 1 [Class1] : Pr=1.0\n"
     ]
    }
   ],
   "source": [
    "# Block 3: topology\n",
    "# The class switching matrix can now be declared after the classes, so the\n",
    "# ClassSwitch node can be declared outside Block 1.\n",
    "\n",
    "csmatrix = node[3].initClassSwitchMatrix() # element (i,j) = probability that class i switches to j\n",
    "csmatrix[jobclass[0]][jobclass[0]] = 0.3\n",
    "csmatrix[jobclass[0]][jobclass[1]] = 0.7\n",
    "csmatrix[jobclass[1]][jobclass[0]] = 1.0\n",
    "csmatrix[jobclass[1]][jobclass[1]] = 0.0\n",
    "node[3].setClassSwitchingMatrix(csmatrix)\n",
    "\n",
    "P = model.initRoutingMatrix() # initialize routing matrix\n",
    "P.set(jobclass[0],jobclass[0],node[0],node[3],1.0) # (Source 1,Class1) -> (ClassSwitch 1,Class1)\n",
    "P.set(jobclass[0],jobclass[0],node[1],node[2],1.0) # (Queue 1,Class1) -> (Sink 1,Class1)\n",
    "P.set(jobclass[0],jobclass[0],node[3],node[1],1.0) # (ClassSwitch 1,Class1) -> (Queue 1,Class1)\n",
    "P.set(jobclass[1],jobclass[1],node[0],node[3],1.0) # (Source 1,Class2) -> (ClassSwitch 1,Class2)\n",
    "P.set(jobclass[1],jobclass[1],node[1],node[2],1.0) # (Queue 1,Class2) -> (Sink 1,Class2)\n",
    "P.set(jobclass[1],jobclass[1],node[3],node[1],1.0) # (ClassSwitch 1,Class2) -> (Queue 1,Class2)\n",
    "model.link(P)\n",
    "\n",
    "model.printRoutingMatrix()"
   ],
   "metadata": {
    "collapsed": false,
    "ExecuteTime": {
     "end_time": "2023-12-28T15:51:38.266092259Z",
     "start_time": "2023-12-28T15:51:38.115680001Z"
    }
   },
   "id": "5fcade5ed686b00b"
  },
  {
   "cell_type": "code",
   "execution_count": 4,
   "outputs": [
    {
     "name": "stdout",
     "output_type": "stream",
     "text": [
      "    Station JobClass      QLen  Util     RespT    ResidT  ArvR  Tput\n",
      "0  Source 1   Class1  0.000000  0.00  0.000000  0.000000  0.10  0.10\n",
      "1  Source 1   Class2  0.000000  0.00  0.000000  0.000000  0.50  0.50\n",
      "2   Queue 1   Class1  1.324859  0.53  2.499734  2.208099  0.53  0.53\n",
      "3   Queue 1   Class2  0.174981  0.07  2.499734  0.291636  0.07  0.07\n"
     ]
    }
   ],
   "source": [
    "# TODO: getAvgChainTable not yet available in JLINE\n",
    "AvgTable = SolverMVA(model).getAvgTable()"
   ],
   "metadata": {
    "collapsed": false,
    "ExecuteTime": {
     "end_time": "2023-12-28T15:51:38.358342127Z",
     "start_time": "2023-12-28T15:51:38.266384073Z"
    }
   },
   "id": "8e0b3e924e49f205"
  },
  {
   "cell_type": "code",
   "execution_count": 5,
   "outputs": [
    {
     "name": "stdout",
     "output_type": "stream",
     "text": [
      "    Chain       JobClasses  SysRespT  SysTput\n",
      "0  Chain0  (Class1 Class2)  2.499734      0.6\n"
     ]
    }
   ],
   "source": [
    "AvgSysTable = SolverMVA(model).getAvgSysTable()\n",
    "\n",
    "#AvgTable = SolverJMT(model).getAvgChainTable()\n"
   ],
   "metadata": {
    "collapsed": false,
    "ExecuteTime": {
     "end_time": "2023-12-28T15:51:38.428987273Z",
     "start_time": "2023-12-28T15:51:38.341504188Z"
    }
   },
   "id": "d0922fa16f57fc10"
  }
 ],
 "metadata": {
  "kernelspec": {
   "display_name": "Python 3",
   "language": "python",
   "name": "python3"
  },
  "language_info": {
   "codemirror_mode": {
    "name": "ipython",
    "version": 2
   },
   "file_extension": ".py",
   "mimetype": "text/x-python",
   "name": "python",
   "nbconvert_exporter": "python",
   "pygments_lexer": "ipython2",
   "version": "2.7.6"
  }
 },
 "nbformat": 4,
 "nbformat_minor": 5
}

{
 "cells": [
  {
   "cell_type": "code",
   "execution_count": 1,
   "id": "initial_id",
   "metadata": {
    "collapsed": true,
    "ExecuteTime": {
     "end_time": "2023-12-10T18:46:18.864661029Z",
     "start_time": "2023-12-10T18:46:18.042639705Z"
    }
   },
   "outputs": [],
   "source": [
    "from line_solver import *\n",
    "GlobalConstants.setVerbose(VerboseLevel.STD)"
   ]
  },
  {
   "cell_type": "code",
   "execution_count": 2,
   "outputs": [],
   "source": [
    "# multiclass example with PS, SIRO, FCFS, HOL priority\n",
    "model = Network('MyNetwork')\n",
    "\n",
    "# Block 1: nodes\n",
    "node = np.empty(6, dtype=object)\n",
    "node[0] = Source(model, 'Source')\n",
    "node[1] = Queue(model, 'Queue1', SchedStrategy.PS)\n",
    "node[2] = Queue(model, 'Queue2', SchedStrategy.PS)\n",
    "node[3] = Queue(model, 'Queue3', SchedStrategy.PS)\n",
    "node[4] = Queue(model, 'Queue4', SchedStrategy.PS)\n",
    "node[5] = Sink(model, 'Sink')\n",
    "\n",
    "# Block 2: classes\n",
    "jobclass = np.empty(3, dtype=object)\n",
    "jobclass[0] = OpenClass(model, 'Class1', 0)\n",
    "jobclass[1] = OpenClass(model, 'Class2', 1) # higher priority\n",
    "jobclass[2] = OpenClass(model, 'Class3', 0)\n",
    "\n",
    "node[0].setArrival(jobclass[0], Exp.fitMean(10.0)) # (Source of Customers,Class0)\n",
    "node[0].setArrival(jobclass[1], Exp.fitMean(10.0)) # (Source of Customers,Class1)\n",
    "node[0].setArrival(jobclass[2], Exp.fitMean(10.0)) # (Source of Customers,Class2)\n",
    "node[1].setService(jobclass[0], Exp.fitMean(0.3)) # (WebServer,Class0)\n",
    "node[1].setService(jobclass[1], Exp.fitMean(0.5)) # (WebServer,Class1)\n",
    "node[1].setService(jobclass[2], Exp.fitMean(0.6)) # (WebServer,Class2)\n",
    "node[2].setService(jobclass[0], Exp.fitMean(1.1)) # (Storage1,Class0)\n",
    "node[2].setService(jobclass[1], Exp.fitMean(1.3)) # (Storage1,Class1)\n",
    "node[2].setService(jobclass[2], Exp.fitMean(1.5)) # (Storage1,Class2)\n",
    "node[3].setService(jobclass[0], Exp.fitMean(2.0)) # (Storage2,Class0)\n",
    "node[3].setService(jobclass[1], Exp.fitMean(2.1)) # (Storage2,Class1)\n",
    "node[3].setService(jobclass[2], Exp.fitMean(1.9)) # (Storage2,Class2)\n",
    "node[4].setService(jobclass[0], Exp.fitMean(2.5)) # (Storage3,Class0)\n",
    "node[4].setService(jobclass[1], Exp.fitMean(1.9)) # (Storage3,Class1)\n",
    "node[4].setService(jobclass[2], Exp.fitMean(4.3)) # (Storage3,Class2)\n",
    "\n",
    "# Block 3: topology\n",
    "P = model.initRoutingMatrix() # initialize routing matrix \n",
    "P.set(jobclass[0],jobclass[0],node[0],node[1], 1.0) # (Source of Customers,Class0) -> (WebServer,Class0)\n",
    "P.set(jobclass[0],jobclass[0],node[1],node[2], 2.50e-01) # (WebServer,Class0) -> (Storage1,Class0)\n",
    "P.set(jobclass[0],jobclass[0],node[1],node[3], 2.50e-01) # (WebServer,Class0) -> (Storage2,Class0)\n",
    "P.set(jobclass[0],jobclass[0],node[1],node[4], 2.50e-01) # (WebServer,Class0) -> (Storage3,Class0)\n",
    "P.set(jobclass[0],jobclass[0],node[1],node[5], 2.50e-01) # (WebServer,Class0) -> (Out,Class0)\n",
    "P.set(jobclass[0],jobclass[0],node[2],node[1], 1.0) # (Storage1,Class0) -> (WebServer,Class0)\n",
    "P.set(jobclass[0],jobclass[0],node[3],node[1], 1.0) # (Storage2,Class0) -> (WebServer,Class0)\n",
    "P.set(jobclass[0],jobclass[0],node[4],node[1], 1.0) # (Storage3,Class0) -> (WebServer,Class0)\n",
    "P.set(jobclass[1],jobclass[1],node[0],node[1], 1.0) # (Source of Customers,Class1) -> (WebServer,Class1)\n",
    "P.set(jobclass[1],jobclass[1],node[1],node[2],2.50e-01) # (WebServer,Class1) -> (Storage1,Class1)\n",
    "P.set(jobclass[1],jobclass[1],node[1],node[3],2.50e-01) # (WebServer,Class1) -> (Storage2,Class1)\n",
    "P.set(jobclass[1],jobclass[1],node[1],node[4],2.50e-01) # (WebServer,Class1) -> (Storage3,Class1)\n",
    "P.set(jobclass[1],jobclass[1],node[1],node[5],2.50e-01) # (WebServer,Class1) -> (Out,Class1)\n",
    "P.set(jobclass[1],jobclass[1],node[2],node[1],1.0) # (Storage1,Class1) -> (WebServer,Class1)\n",
    "P.set(jobclass[1],jobclass[1],node[3],node[1],1.0) # (Storage2,Class1) -> (WebServer,Class1)\n",
    "P.set(jobclass[1],jobclass[1],node[4],node[1],1.0) # (Storage3,Class1) -> (WebServer,Class1)\n",
    "P.set(jobclass[2],jobclass[2],node[0],node[1],1.0) # (Source of Customers,Class2) -> (WebServer,Class2)\n",
    "P.set(jobclass[2],jobclass[2],node[1],node[2],2.50e-01) # (WebServer,Class2) -> (Storage1,Class2)\n",
    "P.set(jobclass[2],jobclass[2],node[1],node[3],2.50e-01) # (WebServer,Class2) -> (Storage2,Class2)\n",
    "P.set(jobclass[2],jobclass[2],node[1],node[4],2.50e-01) # (WebServer,Class2) -> (Storage3,Class2)\n",
    "P.set(jobclass[2],jobclass[2],node[1],node[5],2.50e-01) # (WebServer,Class2) -> (Out,Class2)\n",
    "P.set(jobclass[2],jobclass[2],node[2],node[1],1.0) # (Storage1,Class2) -> (WebServer,Class2)\n",
    "P.set(jobclass[2],jobclass[2],node[3],node[1],1.0) # (Storage2,Class2) -> (WebServer,Class2)\n",
    "P.set(jobclass[2],jobclass[2],node[4],node[1],1.0) # (Storage3,Class2) -> (WebServer,Class2)\n",
    "model.link(P)"
   ],
   "metadata": {
    "collapsed": false,
    "ExecuteTime": {
     "end_time": "2023-12-10T18:46:18.897765053Z",
     "start_time": "2023-12-10T18:46:18.876724161Z"
    }
   },
   "id": "2d0af03a60ffaab4"
  },
  {
   "cell_type": "code",
   "execution_count": 3,
   "outputs": [],
   "source": [
    "#solver = SolverCTMC(model,'keep',True)\n",
    "#AvgTable = solver.getAvgTable()\n",
    "#print(AvgTable)"
   ],
   "metadata": {
    "collapsed": false,
    "ExecuteTime": {
     "end_time": "2023-12-10T18:46:19.413899251Z",
     "start_time": "2023-12-10T18:46:18.898108116Z"
    }
   },
   "id": "b1ed1c4bc0a10843"
  },
  {
   "cell_type": "code",
   "execution_count": 4,
   "outputs": [],
   "source": [
    "#solver = SolverFluid(model)\n",
    "#AvgTable = solver.getAvgTable()\n",
    "#print(AvgTable)"
   ],
   "metadata": {
    "collapsed": false,
    "ExecuteTime": {
     "end_time": "2023-12-10T18:46:19.495183874Z",
     "start_time": "2023-12-10T18:46:19.414352102Z"
    }
   },
   "id": "e8d3f346ea510596"
  },
  {
   "cell_type": "code",
   "execution_count": 5,
   "outputs": [
    {
     "name": "stdout",
     "output_type": "stream",
     "text": [
      "   Station JobClass      QLen  Util      RespT     ResidT  ArvR  Tput\n",
      "0   Source   Class1  0.000000  0.00   0.000000   0.000000   0.1   0.1\n",
      "1   Source   Class2  0.000000  0.00   0.000000   0.000000   0.1   0.1\n",
      "2   Source   Class3  0.000000  0.00   0.000000   0.000000   0.1   0.1\n",
      "3   Queue1   Class1  0.272727  0.12   0.681818   2.727273   0.4   0.4\n",
      "4   Queue1   Class2  0.454545  0.20   1.136364   4.545455   0.4   0.4\n",
      "5   Queue1   Class3  0.545455  0.24   1.363636   5.454545   0.4   0.4\n",
      "6   Queue2   Class1  0.180327  0.11   1.803273   1.803273   0.1   0.1\n",
      "7   Queue2   Class2  0.213114  0.13   2.131141   2.131141   0.1   0.1\n",
      "8   Queue2   Class3  0.245901  0.15   2.459009   2.459009   0.1   0.1\n",
      "9   Queue3   Class1  0.500000  0.20   5.000000   5.000000   0.1   0.1\n",
      "10  Queue3   Class2  0.525000  0.21   5.250000   5.250000   0.1   0.1\n",
      "11  Queue3   Class3  0.475000  0.19   4.750000   4.750000   0.1   0.1\n",
      "12  Queue4   Class1  1.922673  0.25  19.226730  19.226730   0.1   0.1\n",
      "13  Queue4   Class2  1.461232  0.19  14.612315  14.612315   0.1   0.1\n",
      "14  Queue4   Class3  3.306998  0.43  33.069976  33.069976   0.1   0.1\n"
     ]
    }
   ],
   "source": [
    "solver = SolverMVA(model)\n",
    "AvgTable = solver.getAvgTable()"
   ],
   "metadata": {
    "collapsed": false,
    "ExecuteTime": {
     "end_time": "2023-12-10T18:46:19.722934712Z",
     "start_time": "2023-12-10T18:46:19.496818662Z"
    }
   },
   "id": "fd4b2c4a6564d3b9"
  },
  {
   "cell_type": "code",
   "execution_count": 6,
   "outputs": [],
   "source": [
    "solver = SolverJMT(model,'seed',23000,'verbose',False,'keep',True)\n",
    "AvgTable = solver.getAvgTable()"
   ],
   "metadata": {
    "collapsed": false,
    "ExecuteTime": {
     "end_time": "2023-12-10T18:46:21.777870270Z",
     "start_time": "2023-12-10T18:46:19.680538371Z"
    }
   },
   "id": "19b311ca76098e3c"
  }
 ],
 "metadata": {
  "kernelspec": {
   "display_name": "Python 3",
   "language": "python",
   "name": "python3"
  },
  "language_info": {
   "codemirror_mode": {
    "name": "ipython",
    "version": 2
   },
   "file_extension": ".py",
   "mimetype": "text/x-python",
   "name": "python",
   "nbconvert_exporter": "python",
   "pygments_lexer": "ipython2",
   "version": "2.7.6"
  }
 },
 "nbformat": 4,
 "nbformat_minor": 5
}

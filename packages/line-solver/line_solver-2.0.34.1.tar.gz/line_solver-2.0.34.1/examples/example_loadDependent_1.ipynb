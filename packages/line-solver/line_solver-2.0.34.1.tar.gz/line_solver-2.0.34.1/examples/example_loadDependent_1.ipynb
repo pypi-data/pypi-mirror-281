{
 "cells": [
  {
   "cell_type": "markdown",
   "source": [
    "WARNING: this example is not yet fully functional"
   ],
   "metadata": {
    "collapsed": false
   },
   "id": "f504839c7e753f35"
  },
  {
   "cell_type": "code",
   "execution_count": 1,
   "outputs": [],
   "source": [
    "from line_solver import *\n",
    "GlobalConstants.setVerbose(VerboseLevel.STD)"
   ],
   "metadata": {
    "collapsed": false,
    "ExecuteTime": {
     "end_time": "2023-12-10T18:45:55.581623995Z",
     "start_time": "2023-12-10T18:45:54.770660453Z"
    }
   },
   "id": "2a6c869fa9057919"
  },
  {
   "cell_type": "code",
   "execution_count": 2,
   "outputs": [],
   "source": [
    "N = 16 # number of jobs\n",
    "c = 2 # number of servers\n",
    "\n",
    "model = Network('model')\n",
    "node = np.empty(2, dtype=object)\n",
    "node[0] = Delay(model, 'Delay')\n",
    "node[1] = Queue(model, 'Queue1', SchedStrategy.FCFS)\n",
    "\n",
    "jobclass = ClosedClass(model, 'Class1', N, node[0], 0)\n",
    "\n",
    "node[0].setService(jobclass, Exp.fitMean(1.0)) # mean = 1\n",
    "node[1].setService(jobclass, Exp.fitMean(1.5)) # mean = 1.5\n",
    "node[1].setNumberOfServers(c)\n",
    "\n",
    "model.link(Network.serialRouting(node))\n",
    "\n",
    "# TODO: NC not functional yet on load-dependent models\n",
    "# msT=SolverNC(model).getAvgTable()\n",
    "# print(msT)"
   ],
   "metadata": {
    "collapsed": false,
    "ExecuteTime": {
     "end_time": "2023-12-10T18:45:55.598583558Z",
     "start_time": "2023-12-10T18:45:55.586265931Z"
    }
   },
   "id": "872654342869e1c9"
  },
  {
   "cell_type": "code",
   "execution_count": 3,
   "outputs": [
    {
     "name": "stdout",
     "output_type": "stream",
     "text": [
      "  Station JobClass       QLen      Util  RespT  ResidT      ArvR      Tput\n",
      "0   Delay   Class1   1.333333  1.333333    1.0     1.0  1.333333  1.333333\n",
      "1  Queue1   Class1  14.666667  1.000000   11.0    11.0  1.333333  1.333333\n"
     ]
    }
   ],
   "source": [
    "# casted with scaling function that depends on the total queue\n",
    "ldmodel = Network('model')\n",
    "node = np.empty(2, dtype=object)\n",
    "node[0] = Delay(ldmodel, 'Delay')\n",
    "node[1] = Queue(ldmodel, 'Queue1', SchedStrategy.FCFS)\n",
    "\n",
    "jobclass = ClosedClass(ldmodel, 'Class1', N, node[0], 0)\n",
    "\n",
    "node[0].setService(jobclass, Exp.fitMean(1.0)) # mean = 1\n",
    "node[1].setService(jobclass, Exp.fitMean(1.5)) # mean = 1.5\n",
    "\n",
    "node[1].setLoadDependence(np.minimum(np.arange(0,N,1),c)) # multi-server with c servers\n",
    "\n",
    "ldmodel.link(Network.serialRouting(node))\n",
    "\n",
    "#lldAvgTableCTMC=SolverCTMC(ldmodel).getAvgTable\n",
    "\n",
    "# TODO: not implemented yet in JLINE\n",
    "#lldAvgTableNC=SolverNC(ldmodel).getAvgTable\n",
    "#lldAvgTableRD=SolverNC(ldmodel,'method','rd').getAvgTable\n",
    "#lldAvgTableNRP=SolverNC(ldmodel,'method','nrp').getAvgTable\n",
    "#lldAvgTableNRL=SolverNC(ldmodel,'method','nrl').getAvgTable\n",
    "\n",
    "lldAvgTableMVALD=SolverMVA(ldmodel,'method','exact').getAvgTable()\n",
    "#lldAvgTableQD=SolverMVA(ldmodel,'method','qd').getAvgTable()\n",
    "#print(lldAvgTableQD)"
   ],
   "metadata": {
    "collapsed": false,
    "ExecuteTime": {
     "end_time": "2023-12-10T18:45:56.748971829Z",
     "start_time": "2023-12-10T18:45:55.600480404Z"
    }
   },
   "id": "dc1f1ee1d02f4b22"
  },
  {
   "cell_type": "code",
   "execution_count": 4,
   "outputs": [],
   "source": [
    "# casted with scaling function that depends on the per-class queue population\n",
    "# cdmodel = Network('model');\n",
    "# node{1} = Delay(cdmodel, 'Delay');\n",
    "# node{2} = Queue(cdmodel, 'Queue1', SchedStrategy.FCFS);\n",
    "# jobclass{1} = ClosedClass(cdmodel, 'Class1', N, node{1}, 0);\n",
    "# node{1}.setService(jobclass{1}, Exp.fitMean(1.0)); % mean = 1\n",
    "# node{2}.setService(jobclass{1}, Exp.fitMean(1.5)); % mean = 1.5\n",
    "# node{2}.setClassDependence(@(ni) min(sum(ni),c)); % ni is a vector where ni(r) is the number of jobs in class r at station i\n",
    "# \n",
    "# cdmodel.link(Network.serialRouting(node));\n",
    "# \n",
    "# cdAvgTableCTMC=SolverCTMC(cdmodel).getAvgTable\n",
    "# cdAvgTableCD=SolverMVA(cdmodel,'method','qd').getAvgTable"
   ],
   "metadata": {
    "collapsed": false,
    "ExecuteTime": {
     "end_time": "2023-12-10T18:45:56.756645767Z",
     "start_time": "2023-12-10T18:45:56.750470127Z"
    }
   },
   "id": "initial_id"
  }
 ],
 "metadata": {
  "kernelspec": {
   "display_name": "Python 3",
   "language": "python",
   "name": "python3"
  },
  "language_info": {
   "codemirror_mode": {
    "name": "ipython",
    "version": 2
   },
   "file_extension": ".py",
   "mimetype": "text/x-python",
   "name": "python",
   "nbconvert_exporter": "python",
   "pygments_lexer": "ipython2",
   "version": "2.7.6"
  }
 },
 "nbformat": 4,
 "nbformat_minor": 5
}

{
 "cells": [
  {
   "cell_type": "code",
   "execution_count": 1,
   "outputs": [],
   "source": [
    "from line_solver import *\n",
    "GlobalConstants.setVerbose(VerboseLevel.STD)"
   ],
   "metadata": {
    "collapsed": false,
    "ExecuteTime": {
     "end_time": "2023-12-10T18:46:01.726474002Z",
     "start_time": "2023-12-10T18:46:00.934735105Z"
    }
   }
  },
  {
   "cell_type": "code",
   "execution_count": 2,
   "outputs": [],
   "source": [
    "model = Network('model')\n",
    "\n",
    "node = np.empty(4, dtype=object)\n",
    "node[0] = Delay(model, 'Delay')\n",
    "node[1] = Queue(model, 'Queue1', SchedStrategy.PS)\n",
    "node[2] = Source(model,'Source')\n",
    "node[3] = Sink(model,'Sink')\n",
    "\n",
    "jobclass = np.empty(2, dtype=object)\n",
    "jobclass[0] = ClosedClass(model, 'ClosedClass', 2, node[0], 0)\n",
    "jobclass[1] = OpenClass(model, 'OpenClass', 0)\n",
    "\n",
    "node[0].setService(jobclass[0], Erlang(3,2))\n",
    "node[0].setService(jobclass[1], HyperExp(0.5,3,10))\n",
    "\n",
    "node[1].setService(jobclass[0], HyperExp(0.1,1,10))\n",
    "node[1].setService(jobclass[1], Exp(1))\n",
    "\n",
    "node[2].setArrival(jobclass[1], Exp(0.1))\n",
    "\n",
    "K = model.getNumberOfClasses()\n",
    "\n",
    "P = model.initRoutingMatrix()\n",
    "pmatrix = np.empty(K, dtype=object)\n",
    "pmatrix[0] = [[0,1,0,0],[1.0,0,0,0], [0,0,0,0], [0,0,0,0]]\n",
    "pmatrix[1] = [[0,1,0,0], [0,0,0,1.0], [1.0,0,0,0], [0,0,0,0]]\n",
    "P.setRoutingMatrix(jobclass, node, pmatrix)\n",
    "            \n",
    "model.link(P);\n"
   ],
   "metadata": {
    "collapsed": false,
    "ExecuteTime": {
     "end_time": "2023-12-10T18:46:01.749446206Z",
     "start_time": "2023-12-10T18:46:01.735233506Z"
    }
   }
  },
  {
   "cell_type": "code",
   "execution_count": 3,
   "outputs": [
    {
     "name": "stdout",
     "output_type": "stream",
     "text": [
      "\n",
      "SOLVER: SolverJMT\n",
      "JMT Model: /tmp/workspace/jsim/10382386953681857091/model.jsim\n",
      "JMT Analysis completed. Runtime: 2.161 seconds\n",
      "  Station     JobClass      QLen      Util     RespT    ResidT      ArvR  \\\n",
      "0   Delay  ClosedClass  1.452831  1.452831  0.666437  0.666437  2.153604   \n",
      "1   Delay    OpenClass  0.021961  0.021961  0.215814  0.215814  0.100006   \n",
      "2  Queue1  ClosedClass  0.547169  0.402157  0.259830  0.259830  2.160204   \n",
      "3  Queue1    OpenClass  0.163907  0.095781  1.711018  1.711018  0.100006   \n",
      "5  Source    OpenClass  0.000000  0.000000  0.000000  0.000000  0.100006   \n",
      "\n",
      "       Tput  \n",
      "0  2.153604  \n",
      "1  0.100006  \n",
      "2  2.160204  \n",
      "3  0.100006  \n",
      "5  0.100006  \n",
      "\n",
      "SOLVER: SolverFluid\n",
      "  Station     JobClass      QLen      Util     RespT    ResidT      ArvR  \\\n",
      "0   Delay  ClosedClass  1.556420  1.556420  0.666667  0.666667  2.334630   \n",
      "1   Delay    OpenClass  0.021621  0.021621  0.217205  0.217205  0.099541   \n",
      "2  Queue1  ClosedClass  0.443580  0.443580  0.190000  0.190000  2.334630   \n",
      "3  Queue1    OpenClass  0.100051  0.100051  1.000000  1.000000  0.100051   \n",
      "5  Source    OpenClass  0.000000  0.000000  0.000000  0.000000  0.100000   \n",
      "\n",
      "       Tput  \n",
      "0  2.334630  \n",
      "1  0.099541  \n",
      "2  2.334630  \n",
      "3  0.100051  \n",
      "5  0.100000  \n",
      "\n",
      "SOLVER: SolverMVA\n",
      "  Station     JobClass      QLen      Util     RespT    ResidT      ArvR  \\\n",
      "0   Delay  ClosedClass  1.408987  1.408948  0.666685  0.666685  2.113422   \n",
      "1   Delay    OpenClass  0.021667  0.021667  0.216666  0.216666  0.100000   \n",
      "2  Queue1  ClosedClass  0.591068  0.401550  0.279674  0.279674  2.113422   \n",
      "3  Queue1    OpenClass  0.176737  0.100000  1.767368  1.767368  0.100000   \n",
      "5  Source    OpenClass  0.000000  0.000000  0.000000  0.000000  0.100000   \n",
      "\n",
      "       Tput  \n",
      "0  2.113422  \n",
      "1  0.100000  \n",
      "2  2.113422  \n",
      "3  0.100000  \n",
      "5  0.100000  \n",
      "\n",
      "SOLVER: SolverMAM\n",
      "  Station     JobClass      QLen      Util     RespT    ResidT      ArvR  \\\n",
      "0   Delay  ClosedClass  1.300143  1.300143  0.666667  0.666667  1.950214   \n",
      "1   Delay    OpenClass  0.021667  0.021667  0.216667  0.216667  0.100000   \n",
      "2  Queue1  ClosedClass  0.699853  0.370541  0.358860  0.358860  1.950214   \n",
      "3  Queue1    OpenClass  0.188872  0.100000  1.888719  1.888719  0.100000   \n",
      "5  Source    OpenClass  0.000000  0.000000  0.000000  0.000000  0.100000   \n",
      "\n",
      "       Tput  \n",
      "0  1.950214  \n",
      "1  0.100000  \n",
      "2  1.950214  \n",
      "3  0.100000  \n",
      "5  0.100000  \n"
     ]
    }
   ],
   "source": [
    "solver = np.array([], dtype=object)\n",
    "#solver = np.append(solver, SolverCTMC(model,'cutoff',3))\n",
    "solver = np.append(solver, SolverJMT(model,'seed',23000,'verbose',True,'keep',True))\n",
    "#solver = np.append(solver, SolverSSA(model,'seed',23000,'verbose',True,'samples',50000))\n",
    "solver = np.append(solver, SolverFluid(model))\n",
    "solver = np.append(solver, SolverMVA(model))\n",
    "#solver = np.append(solver, SolverNC(model,'exact'))\n",
    "solver = np.append(solver, SolverMAM(model))\n",
    "#np.append(solver, LINE(model))\n",
    "\n",
    "AvgTable = np.empty(len(solver), dtype=object)\n",
    "for s in range(len(solver)):\n",
    "    print(f'\\nSOLVER: {solver[s].getName()}')\n",
    "    AvgTable[s] = solver[s].getAvgTable()\n"
   ],
   "metadata": {
    "collapsed": false,
    "ExecuteTime": {
     "end_time": "2023-12-10T18:46:05.771493457Z",
     "start_time": "2023-12-10T18:46:01.751371025Z"
    }
   }
  }
 ],
 "metadata": {
  "kernelspec": {
   "display_name": "Python 3",
   "language": "python",
   "name": "python3"
  },
  "language_info": {
   "codemirror_mode": {
    "name": "ipython",
    "version": 3
   },
   "file_extension": ".py",
   "mimetype": "text/x-python",
   "name": "python",
   "nbconvert_exporter": "python",
   "pygments_lexer": "ipython3",
   "version": "3.6.4"
  }
 },
 "nbformat": 4,
 "nbformat_minor": 2
}

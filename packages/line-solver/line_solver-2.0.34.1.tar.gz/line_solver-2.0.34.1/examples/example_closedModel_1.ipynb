{
 "cells": [
  {
   "cell_type": "code",
   "execution_count": 1,
   "outputs": [],
   "source": [
    "from line_solver import *\n",
    "GlobalConstants.setVerbose(VerboseLevel.STD)"
   ],
   "metadata": {
    "collapsed": false,
    "ExecuteTime": {
     "end_time": "2023-12-29T11:00:57.851240757Z",
     "start_time": "2023-12-29T11:00:56.929947629Z"
    }
   }
  },
  {
   "cell_type": "code",
   "execution_count": 2,
   "outputs": [],
   "source": [
    "model = Network('model')\n",
    "\n",
    "node = np.empty(2, dtype=object)\n",
    "node[0] = Delay(model, 'Delay')\n",
    "node[1] = Queue(model, 'Queue1', SchedStrategy.FCFS)\n",
    "\n",
    "jobclass = ClosedClass(model, 'Class1', 10, node[0], 0)\n",
    "\n",
    "node[0].setService(jobclass, Exp.fitMean(1.0)) # mean = 1\n",
    "node[1].setService(jobclass, Exp.fitMean(1.5)) # mean = 1.5\n",
    "\n",
    "P = model.initRoutingMatrix()\n",
    "pmatrix = [[0.7,0.3],[1.0,0]]\n",
    "for i in range(len(node)):\n",
    "    for j in range(len(node)):\n",
    "        P.set(jobclass, jobclass, node[i], node[j], pmatrix[i][j])        \n",
    "model.link(P)"
   ],
   "metadata": {
    "collapsed": false,
    "ExecuteTime": {
     "end_time": "2023-12-29T11:00:57.868643473Z",
     "start_time": "2023-12-29T11:00:57.857542523Z"
    }
   }
  },
  {
   "cell_type": "code",
   "execution_count": 3,
   "outputs": [
    {
     "name": "stdout",
     "output_type": "stream",
     "text": [
      "\n",
      "SOLVER: SolverCTMC\n",
      "CTMC Analysis completed. Runtime: 0.032 seconds\n",
      "  Station JobClass      QLen      Util      RespT    ResidT      ArvR  \\\n",
      "0   Delay   Class1  2.222027  2.222027   1.000000  1.000000  2.222027   \n",
      "1  Queue1   Class1  7.777973  0.999912  11.667982  3.500395  0.666608   \n",
      "\n",
      "       Tput  \n",
      "0  2.222027  \n",
      "1  0.666608  \n",
      "\n",
      "SOLVER: SolverJMT\n",
      "JMT Model: /tmp/workspace/jsim/4606284790758257149/model.jsim\n",
      "JMT Analysis completed. Runtime: 1.238 seconds\n",
      "  Station JobClass      QLen      Util      RespT    ResidT      ArvR  \\\n",
      "0   Delay   Class1  2.190915  2.190915   1.008064  1.008064  2.212879   \n",
      "1  Queue1   Class1  7.733125  0.999774  11.573394  3.472018  0.680221   \n",
      "\n",
      "       Tput  \n",
      "0  2.212879  \n",
      "1  0.680221  \n",
      "\n",
      "SOLVER: SolverSSA\n",
      "  Station JobClass      QLen      Util      RespT    ResidT      ArvR  \\\n",
      "0   Delay   Class1  2.227100  2.227100   1.004010  1.004010  2.216948   \n",
      "1  Queue1   Class1  7.772793  0.999967  11.677993  3.503398  0.665590   \n",
      "\n",
      "       Tput  \n",
      "0  2.216948  \n",
      "1  0.665590  \n",
      "\n",
      "SOLVER: SolverFluid\n",
      "  Station JobClass      QLen      Util      RespT  ResidT      ArvR      Tput\n",
      "0   Delay   Class1  2.222222  2.222222   1.000000     1.0  2.222222  2.222222\n",
      "1  Queue1   Class1  7.777778  1.000000  11.666667     3.5  0.666667  0.666667\n",
      "\n",
      "SOLVER: SolverMVA\n",
      "  Station JobClass      QLen      Util      RespT    ResidT      ArvR  \\\n",
      "0   Delay   Class1  2.226079  2.226079   1.000000  1.000000  2.226079   \n",
      "1  Queue1   Class1  7.773921  1.001735  11.640681  3.492204  0.667824   \n",
      "\n",
      "       Tput  \n",
      "0  2.226079  \n",
      "1  0.667824  \n"
     ]
    }
   ],
   "source": [
    "solver = np.array([], dtype=object)\n",
    "solver = np.append(solver, SolverCTMC(model,'keep',True))\n",
    "solver = np.append(solver, SolverJMT(model,'seed',23000,'verbose',True,'keep',True))\n",
    "solver = np.append(solver, SolverSSA(model,'seed',23000,'verbose',True,'samples',50000))\n",
    "solver = np.append(solver, SolverFluid(model))\n",
    "solver = np.append(solver, SolverMVA(model))\n",
    "#solver = np.append(solver, SolverNC(model,'exact'))\n",
    "#solver = np.append(solver, SolverMAM(model))\n",
    "#solver = np.append(solver, LINE(model))\n",
    "\n",
    "AvgTable = np.empty(len(solver), dtype=object)\n",
    "for s in range(len(solver)):\n",
    "    print(f'\\nSOLVER: {solver[s].getName()}')\n",
    "    AvgTable[s] = solver[s].getAvgTable()\n"
   ],
   "metadata": {
    "collapsed": false,
    "ExecuteTime": {
     "end_time": "2023-12-29T11:01:00.099145307Z",
     "start_time": "2023-12-29T11:00:57.870995964Z"
    }
   }
  }
 ],
 "metadata": {
  "kernelspec": {
   "display_name": "Python 3",
   "language": "python",
   "name": "python3"
  },
  "language_info": {
   "codemirror_mode": {
    "name": "ipython",
    "version": 3
   },
   "file_extension": ".py",
   "mimetype": "text/x-python",
   "name": "python",
   "nbconvert_exporter": "python",
   "pygments_lexer": "ipython3",
   "version": "3.6.4"
  }
 },
 "nbformat": 4,
 "nbformat_minor": 2
}

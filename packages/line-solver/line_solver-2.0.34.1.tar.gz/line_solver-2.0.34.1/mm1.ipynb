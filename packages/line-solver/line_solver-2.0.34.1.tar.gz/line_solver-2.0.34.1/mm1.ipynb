{
 "cells": [
  {
   "cell_type": "code",
   "source": [
    "from line_solver import *\n",
    "GlobalConstants.setVerbose(VerboseLevel.STD)"
   ],
   "metadata": {
    "collapsed": false,
    "ExecuteTime": {
     "end_time": "2024-05-27T12:12:24.513447Z",
     "start_time": "2024-05-27T12:12:23.634323Z"
    }
   },
   "id": "f7f879166a5915ce",
   "outputs": [],
   "execution_count": 1
  },
  {
   "cell_type": "code",
   "source": [
    "model = Network(\"M/M/1 model\")\n",
    "source = Source(model, \"mySource\")\n",
    "queue = Queue(model, \"myQueue\", SchedStrategy.FCFS)\n",
    "sink = Sink(model, \"mySink\")\n",
    "\n",
    "# An M/M/1 queue with arrival rate 0.5 and service rate 1.0\n",
    "openclass = OpenClass(model, \"Class1\")\n",
    "source.setArrival(openclass, Exp(1.0))\n",
    "queue.setService(openclass, Exp(2.0))\n",
    "\n",
    "model.addLink(source, queue)\n",
    "model.addLink(queue, sink)"
   ],
   "metadata": {
    "collapsed": false,
    "ExecuteTime": {
     "end_time": "2024-05-27T12:12:24.529848Z",
     "start_time": "2024-05-27T12:12:24.514958Z"
    }
   },
   "id": "efab7afb7190e806",
   "outputs": [],
   "execution_count": 2
  },
  {
   "cell_type": "code",
   "source": [
    "solver = SolverJMT(model)\n",
    "table = solver.getAvgTable()  # pandas.DataFrame\n",
    "model.jsimgView()"
   ],
   "metadata": {
    "collapsed": false,
    "ExecuteTime": {
     "end_time": "2024-05-27T12:13:19.620822Z",
     "start_time": "2024-05-27T12:12:24.531093Z"
    }
   },
   "id": "ca8edb4c7cec0496",
   "outputs": [
    {
     "name": "stdout",
     "output_type": "stream",
     "text": [
      "JMT Model: /tmp/workspace/jsim/6940157501216227432/model.jsim\n",
      "JMT Analysis completed. Runtime: 0.845 seconds\n",
      "    Station JobClass      QLen      Util     RespT    ResidT      ArvR  \\\n",
      "0  mySource   Class1  0.000000  0.000000  0.000000  0.000000  0.987286   \n",
      "1   myQueue   Class1  0.974572  0.490052  1.028344  1.028344  0.996307   \n",
      "\n",
      "       Tput  \n",
      "0  0.987286  \n",
      "1  0.996307  \n",
      "JMT Model: /tmp/workspace/jsim/1777489537846126665/model.jsim\n",
      "JMT view model command: java -cp /home/gcasale/Dropbox/code/line-solver.git/python/line_solver/JMT.jar jmt.commandline.Jmt jsimg /tmp/workspace/jsim/1777489537846126665/model.jsim  > /dev/null\n",
      "JMT view model command output: \n"
     ]
    }
   ],
   "execution_count": 3
  }
 ],
 "metadata": {
  "kernelspec": {
   "display_name": "Python 3",
   "language": "python",
   "name": "python3"
  },
  "language_info": {
   "codemirror_mode": {
    "name": "ipython",
    "version": 2
   },
   "file_extension": ".py",
   "mimetype": "text/x-python",
   "name": "python",
   "nbconvert_exporter": "python",
   "pygments_lexer": "ipython2",
   "version": "2.7.6"
  }
 },
 "nbformat": 4,
 "nbformat_minor": 5
}

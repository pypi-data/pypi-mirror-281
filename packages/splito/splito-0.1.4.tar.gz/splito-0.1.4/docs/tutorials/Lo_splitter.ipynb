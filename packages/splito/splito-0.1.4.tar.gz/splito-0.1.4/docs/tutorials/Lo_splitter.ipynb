{
 "cells": [
  {
   "cell_type": "markdown",
   "metadata": {},
   "source": [
    "Sometimes, we are interested in the properties of molecules that are similar to molecules with known properties. For instance, during the Lead Optimization stage of the drug discovery process, we've already identified a lead -- a potential drug candidate. Our goal is to enhance certain properties of this lead. Medical chemists frequently make minor modifications to improve the lead's activity, selectivity, and other characteristics.\n",
    "\n",
    "Another example is generative molecular models. These models use a scorer to guide the generation of new molecules, aiming to maximize a predicted score by making step-by-step adjustments. At each step, the generator decides how to navigate the latent space, relying on the predictive model sensitive to minor changes to direct the generation.\n",
    "\n",
    "In both scenarios, when applying machine learning, we want to choose models that can detect these minor modifications.\n",
    "\n",
    "The Lo splitter addresses this need by creating a split with a test consisting of clusters of similar molecules. This allows us to assess a model's ability to identify minor modifications, helping us select the most suitable model for lead optimization or as a scorer for molecular generation. Unlike other splitters, the Lo splitter reveals whether a model can only distinguish scaffolds or if it \"understands\" how different residues influence properties."
   ]
  },
  {
   "cell_type": "markdown",
   "metadata": {},
   "source": [
    "![Lo splitter is good](../images/lo_splitter.png)"
   ]
  },
  {
   "cell_type": "markdown",
   "metadata": {},
   "source": [
    "The goal of the Lead Optimization task is to predict how minor modifications of a molecule affect its properties. The Lo splitter divides the dataset into training and test sets in such a way that:\n",
    "\n",
    "1. The test set consists of clusters of similar molecules.\n",
    "2. Clusters have a variation of the property larger than the experimental noise.\n",
    "3. In each test cluster, exactly one molecule is moved to train to imitate a known lead."
   ]
  },
  {
   "cell_type": "markdown",
   "metadata": {},
   "source": [
    "## Quickstart\n",
    "Imagine you want to improve solubility during lead optimization. In this case, you would want to select an ML model that is highly sensitive to minor modifications to guide your optimization cycles.\n",
    "\n",
    "> Note that we are using a toy dataset for convenience. In real life, you should give more thought to dataset selection."
   ]
  },
  {
   "cell_type": "code",
   "execution_count": 1,
   "metadata": {},
   "outputs": [],
   "source": [
    "import datamol as dm\n",
    "from splito.lohi import LoSplitter\n",
    "from rdkit import Chem\n",
    "from rdkit.Chem import Draw\n",
    "import numpy as np\n",
    "from scipy.stats import spearmanr"
   ]
  },
  {
   "cell_type": "code",
   "execution_count": 2,
   "metadata": {},
   "outputs": [
    {
     "name": "stderr",
     "output_type": "stream",
     "text": [
      "Failed to find the pandas get_adjustment() function to patch\n",
      "Failed to patch pandas - PandasTools will have limited functionality\n"
     ]
    },
    {
     "data": {
      "text/html": [
       "<div>\n",
       "<style scoped>\n",
       "    .dataframe tbody tr th:only-of-type {\n",
       "        vertical-align: middle;\n",
       "    }\n",
       "\n",
       "    .dataframe tbody tr th {\n",
       "        vertical-align: top;\n",
       "    }\n",
       "\n",
       "    .dataframe thead th {\n",
       "        text-align: right;\n",
       "    }\n",
       "</style>\n",
       "<table border=\"1\" class=\"dataframe\">\n",
       "  <thead>\n",
       "    <tr style=\"text-align: right;\">\n",
       "      <th></th>\n",
       "      <th>iupac</th>\n",
       "      <th>smiles</th>\n",
       "      <th>expt</th>\n",
       "      <th>calc</th>\n",
       "    </tr>\n",
       "  </thead>\n",
       "  <tbody>\n",
       "    <tr>\n",
       "      <th>0</th>\n",
       "      <td>4-methoxy-N,N-dimethyl-benzamide</td>\n",
       "      <td>CN(C)C(=O)c1ccc(cc1)OC</td>\n",
       "      <td>-11.01</td>\n",
       "      <td>-9.625</td>\n",
       "    </tr>\n",
       "    <tr>\n",
       "      <th>1</th>\n",
       "      <td>methanesulfonyl chloride</td>\n",
       "      <td>CS(=O)(=O)Cl</td>\n",
       "      <td>-4.87</td>\n",
       "      <td>-6.219</td>\n",
       "    </tr>\n",
       "    <tr>\n",
       "      <th>2</th>\n",
       "      <td>3-methylbut-1-ene</td>\n",
       "      <td>CC(C)C=C</td>\n",
       "      <td>1.83</td>\n",
       "      <td>2.452</td>\n",
       "    </tr>\n",
       "    <tr>\n",
       "      <th>3</th>\n",
       "      <td>2-ethylpyrazine</td>\n",
       "      <td>CCc1cnccn1</td>\n",
       "      <td>-5.45</td>\n",
       "      <td>-5.809</td>\n",
       "    </tr>\n",
       "    <tr>\n",
       "      <th>4</th>\n",
       "      <td>heptan-1-ol</td>\n",
       "      <td>CCCCCCCO</td>\n",
       "      <td>-4.21</td>\n",
       "      <td>-2.917</td>\n",
       "    </tr>\n",
       "    <tr>\n",
       "      <th>...</th>\n",
       "      <td>...</td>\n",
       "      <td>...</td>\n",
       "      <td>...</td>\n",
       "      <td>...</td>\n",
       "    </tr>\n",
       "    <tr>\n",
       "      <th>637</th>\n",
       "      <td>methyl octanoate</td>\n",
       "      <td>CCCCCCCC(=O)OC</td>\n",
       "      <td>-2.04</td>\n",
       "      <td>-3.035</td>\n",
       "    </tr>\n",
       "    <tr>\n",
       "      <th>638</th>\n",
       "      <td>pyrrolidine</td>\n",
       "      <td>C1CCNC1</td>\n",
       "      <td>-5.48</td>\n",
       "      <td>-4.278</td>\n",
       "    </tr>\n",
       "    <tr>\n",
       "      <th>639</th>\n",
       "      <td>4-hydroxybenzaldehyde</td>\n",
       "      <td>c1cc(ccc1C=O)O</td>\n",
       "      <td>-8.83</td>\n",
       "      <td>-10.050</td>\n",
       "    </tr>\n",
       "    <tr>\n",
       "      <th>640</th>\n",
       "      <td>1-chloroheptane</td>\n",
       "      <td>CCCCCCCCl</td>\n",
       "      <td>0.29</td>\n",
       "      <td>1.467</td>\n",
       "    </tr>\n",
       "    <tr>\n",
       "      <th>641</th>\n",
       "      <td>1,4-dioxane</td>\n",
       "      <td>C1COCCO1</td>\n",
       "      <td>-5.06</td>\n",
       "      <td>-4.269</td>\n",
       "    </tr>\n",
       "  </tbody>\n",
       "</table>\n",
       "<p>642 rows × 4 columns</p>\n",
       "</div>"
      ],
      "text/plain": [
       "                                iupac                  smiles   expt    calc\n",
       "0    4-methoxy-N,N-dimethyl-benzamide  CN(C)C(=O)c1ccc(cc1)OC -11.01  -9.625\n",
       "1            methanesulfonyl chloride            CS(=O)(=O)Cl  -4.87  -6.219\n",
       "2                   3-methylbut-1-ene                CC(C)C=C   1.83   2.452\n",
       "3                     2-ethylpyrazine              CCc1cnccn1  -5.45  -5.809\n",
       "4                         heptan-1-ol                CCCCCCCO  -4.21  -2.917\n",
       "..                                ...                     ...    ...     ...\n",
       "637                  methyl octanoate          CCCCCCCC(=O)OC  -2.04  -3.035\n",
       "638                       pyrrolidine                 C1CCNC1  -5.48  -4.278\n",
       "639             4-hydroxybenzaldehyde          c1cc(ccc1C=O)O  -8.83 -10.050\n",
       "640                   1-chloroheptane               CCCCCCCCl   0.29   1.467\n",
       "641                       1,4-dioxane                C1COCCO1  -5.06  -4.269\n",
       "\n",
       "[642 rows x 4 columns]"
      ]
     },
     "execution_count": 2,
     "metadata": {},
     "output_type": "execute_result"
    }
   ],
   "source": [
    "data = dm.data.freesolv()\n",
    "data"
   ]
  },
  {
   "cell_type": "code",
   "execution_count": 3,
   "metadata": {},
   "outputs": [
    {
     "name": "stderr",
     "output_type": "stream",
     "text": [
      "Collecting clusters:   0%|          | 0/50 [00:00<?, ?it/s]Failed to find the pandas get_adjustment() function to patch\n",
      "Failed to patch pandas - PandasTools will have limited functionality\n",
      "Failed to find the pandas get_adjustment() function to patch\n",
      "Failed to patch pandas - PandasTools will have limited functionality\n",
      "Failed to find the pandas get_adjustment() function to patch\n",
      "Failed to patch pandas - PandasTools will have limited functionality\n",
      "Failed to find the pandas get_adjustment() function to patch\n",
      "Failed to patch pandas - PandasTools will have limited functionality\n",
      "Failed to find the pandas get_adjustment() function to patch\n",
      "Failed to patch pandas - PandasTools will have limited functionality\n",
      "Failed to find the pandas get_adjustment() function to patch\n",
      "Failed to patch pandas - PandasTools will have limited functionality\n",
      "Failed to find the pandas get_adjustment() function to patch\n",
      "Failed to patch pandas - PandasTools will have limited functionality\n",
      "Failed to find the pandas get_adjustment() function to patch\n",
      "Failed to patch pandas - PandasTools will have limited functionality\n",
      "Failed to find the pandas get_adjustment() function to patch\n",
      "Failed to find the pandas get_adjustment() function to patch\n",
      "Failed to patch pandas - PandasTools will have limited functionality\n",
      "Failed to patch pandas - PandasTools will have limited functionality\n",
      "Failed to find the pandas get_adjustment() function to patch\n",
      "Failed to patch pandas - PandasTools will have limited functionality\n",
      "Failed to find the pandas get_adjustment() function to patch\n",
      "Failed to patch pandas - PandasTools will have limited functionality\n",
      "Failed to find the pandas get_adjustment() function to patch\n",
      "Failed to patch pandas - PandasTools will have limited functionality\n",
      "Failed to find the pandas get_adjustment() function to patch\n",
      "Failed to patch pandas - PandasTools will have limited functionality\n",
      "Failed to find the pandas get_adjustment() function to patch\n",
      "Failed to patch pandas - PandasTools will have limited functionality\n",
      "Failed to find the pandas get_adjustment() function to patch\n",
      "Failed to patch pandas - PandasTools will have limited functionality\n",
      "Failed to find the pandas get_adjustment() function to patch\n",
      "Failed to patch pandas - PandasTools will have limited functionality\n",
      "Failed to find the pandas get_adjustment() function to patch\n",
      "Failed to patch pandas - PandasTools will have limited functionality\n",
      "Failed to find the pandas get_adjustment() function to patch\n",
      "Failed to patch pandas - PandasTools will have limited functionality\n",
      "Failed to find the pandas get_adjustment() function to patch\n",
      "Failed to patch pandas - PandasTools will have limited functionality\n",
      "Collecting clusters:  30%|███       | 15/50 [00:01<00:03,  9.88it/s]\n",
      "\u001b[32m2024-04-06 13:40:17.820\u001b[0m | \u001b[1mINFO    \u001b[0m | \u001b[36msplito.lohi._lo\u001b[0m:\u001b[36m_select_distinct_clusters\u001b[0m:\u001b[36m99\u001b[0m - \u001b[1mFound 15 clusters.\u001b[0m\n"
     ]
    }
   ],
   "source": [
    "lo_splitter = LoSplitter()\n",
    "train_idx, cluster_idx = lo_splitter.split(data['smiles'], data['calc'])"
   ]
  },
  {
   "cell_type": "markdown",
   "metadata": {},
   "source": [
    "Now `train_idx` contains indices of molecules in the train set. `cluster_idx` contains a list of clusters, each consisting of indices of molecules in that cluster. Let's visualize a few of them."
   ]
  },
  {
   "cell_type": "code",
   "execution_count": 4,
   "metadata": {},
   "outputs": [
    {
     "data": {
      "image/png": "[encoded data removed]",
      "text/plain": [
       "<IPython.core.display.Image object>"
      ]
     },
     "execution_count": 4,
     "metadata": {},
     "output_type": "execute_result"
    }
   ],
   "source": [
    "# Visualize a cluster\n",
    "cluster_smiles = data.iloc[cluster_idx[1]]['smiles']\n",
    "molecules = [Chem.MolFromSmiles(smiles) for smiles in cluster_smiles]\n",
    "img = Draw.MolsToGridImage(molecules, molsPerRow=5, subImgSize=(300, 300))\n",
    "img"
   ]
  },
  {
   "cell_type": "code",
   "execution_count": 5,
   "metadata": {},
   "outputs": [
    {
     "data": {
      "image/png": "[encoded data removed]",
      "text/plain": [
       "<IPython.core.display.Image object>"
      ]
     },
     "execution_count": 5,
     "metadata": {},
     "output_type": "execute_result"
    }
   ],
   "source": [
    "# Visualize another cluster\n",
    "cluster_smiles = data.iloc[cluster_idx[3]]['smiles']\n",
    "molecules = [Chem.MolFromSmiles(smiles) for smiles in cluster_smiles]\n",
    "img = Draw.MolsToGridImage(molecules, molsPerRow=5, subImgSize=(300, 300))\n",
    "img"
   ]
  },
  {
   "cell_type": "markdown",
   "metadata": {},
   "source": [
    "Now let's see how to evaluate ML models using this split. Our goal is to determine whether a model can make better predictions than assuming \"the modified molecule is as active as the original one\". We can chose Spearman’s correlation coefficient as our metric, calculated within each cluster and averaged across clusters. This metric does not rely on intracluster variation, depends solely on the ranking of molecules within the cluster, and is normalized, between minus one (ideally wrong), zero (random) and one (ideal), making it easily interpretable.\n",
    "\n",
    "Let's skip model training and calculate Spearman's coefficient for a cluster."
   ]
  },
  {
   "cell_type": "code",
   "execution_count": 6,
   "metadata": {},
   "outputs": [],
   "source": [
    "# These are placeholders to show the workflow\n",
    "\n",
    "def train_model(train_data):\n",
    "    # add your model training here\n",
    "    model = None\n",
    "    return model\n",
    "\n",
    "def predict(model, test_data):\n",
    "    # add your code here\n",
    "    predictions = np.random.normal(size=len(test_data))\n",
    "    return predictions"
   ]
  },
  {
   "cell_type": "code",
   "execution_count": 7,
   "metadata": {},
   "outputs": [
    {
     "data": {
      "text/plain": [
       "0.19999999999999998"
      ]
     },
     "execution_count": 7,
     "metadata": {},
     "output_type": "execute_result"
    }
   ],
   "source": [
    "train_data = data.iloc[train_idx]\n",
    "model = train_model(train_data)\n",
    "\n",
    "cluster = data.iloc[cluster_idx[0]]  # the first cluster\n",
    "cluster_preds = predict(model, cluster)\n",
    "cluster_true = cluster['calc']\n",
    "\n",
    "spearmanr(cluster_true, cluster_preds)[0]"
   ]
  },
  {
   "cell_type": "markdown",
   "metadata": {},
   "source": [
    "Values near zero indicate poor quality of predictions, which is expected for random predictions."
   ]
  },
  {
   "cell_type": "markdown",
   "metadata": {},
   "source": [
    "## Advanced Lo splitting"
   ]
  },
  {
   "cell_type": "markdown",
   "metadata": {},
   "source": [
    "Each use case is different, so the Lo splitter has several parameters that allow for flexible configuration. Let's examine them."
   ]
  },
  {
   "cell_type": "code",
   "execution_count": 8,
   "metadata": {},
   "outputs": [],
   "source": [
    "import datamol as dm\n",
    "from splito.lohi import LoSplitter\n",
    "from rdkit import Chem\n",
    "from rdkit.Chem import Draw\n",
    "import numpy as np\n",
    "from scipy.stats import spearmanr"
   ]
  },
  {
   "cell_type": "code",
   "execution_count": 9,
   "metadata": {},
   "outputs": [
    {
     "data": {
      "text/html": [
       "<div>\n",
       "<style scoped>\n",
       "    .dataframe tbody tr th:only-of-type {\n",
       "        vertical-align: middle;\n",
       "    }\n",
       "\n",
       "    .dataframe tbody tr th {\n",
       "        vertical-align: top;\n",
       "    }\n",
       "\n",
       "    .dataframe thead th {\n",
       "        text-align: right;\n",
       "    }\n",
       "</style>\n",
       "<table border=\"1\" class=\"dataframe\">\n",
       "  <thead>\n",
       "    <tr style=\"text-align: right;\">\n",
       "      <th></th>\n",
       "      <th>iupac</th>\n",
       "      <th>smiles</th>\n",
       "      <th>expt</th>\n",
       "      <th>calc</th>\n",
       "    </tr>\n",
       "  </thead>\n",
       "  <tbody>\n",
       "    <tr>\n",
       "      <th>0</th>\n",
       "      <td>4-methoxy-N,N-dimethyl-benzamide</td>\n",
       "      <td>CN(C)C(=O)c1ccc(cc1)OC</td>\n",
       "      <td>-11.01</td>\n",
       "      <td>-9.625</td>\n",
       "    </tr>\n",
       "    <tr>\n",
       "      <th>1</th>\n",
       "      <td>methanesulfonyl chloride</td>\n",
       "      <td>CS(=O)(=O)Cl</td>\n",
       "      <td>-4.87</td>\n",
       "      <td>-6.219</td>\n",
       "    </tr>\n",
       "    <tr>\n",
       "      <th>2</th>\n",
       "      <td>3-methylbut-1-ene</td>\n",
       "      <td>CC(C)C=C</td>\n",
       "      <td>1.83</td>\n",
       "      <td>2.452</td>\n",
       "    </tr>\n",
       "    <tr>\n",
       "      <th>3</th>\n",
       "      <td>2-ethylpyrazine</td>\n",
       "      <td>CCc1cnccn1</td>\n",
       "      <td>-5.45</td>\n",
       "      <td>-5.809</td>\n",
       "    </tr>\n",
       "    <tr>\n",
       "      <th>4</th>\n",
       "      <td>heptan-1-ol</td>\n",
       "      <td>CCCCCCCO</td>\n",
       "      <td>-4.21</td>\n",
       "      <td>-2.917</td>\n",
       "    </tr>\n",
       "    <tr>\n",
       "      <th>...</th>\n",
       "      <td>...</td>\n",
       "      <td>...</td>\n",
       "      <td>...</td>\n",
       "      <td>...</td>\n",
       "    </tr>\n",
       "    <tr>\n",
       "      <th>637</th>\n",
       "      <td>methyl octanoate</td>\n",
       "      <td>CCCCCCCC(=O)OC</td>\n",
       "      <td>-2.04</td>\n",
       "      <td>-3.035</td>\n",
       "    </tr>\n",
       "    <tr>\n",
       "      <th>638</th>\n",
       "      <td>pyrrolidine</td>\n",
       "      <td>C1CCNC1</td>\n",
       "      <td>-5.48</td>\n",
       "      <td>-4.278</td>\n",
       "    </tr>\n",
       "    <tr>\n",
       "      <th>639</th>\n",
       "      <td>4-hydroxybenzaldehyde</td>\n",
       "      <td>c1cc(ccc1C=O)O</td>\n",
       "      <td>-8.83</td>\n",
       "      <td>-10.050</td>\n",
       "    </tr>\n",
       "    <tr>\n",
       "      <th>640</th>\n",
       "      <td>1-chloroheptane</td>\n",
       "      <td>CCCCCCCCl</td>\n",
       "      <td>0.29</td>\n",
       "      <td>1.467</td>\n",
       "    </tr>\n",
       "    <tr>\n",
       "      <th>641</th>\n",
       "      <td>1,4-dioxane</td>\n",
       "      <td>C1COCCO1</td>\n",
       "      <td>-5.06</td>\n",
       "      <td>-4.269</td>\n",
       "    </tr>\n",
       "  </tbody>\n",
       "</table>\n",
       "<p>642 rows × 4 columns</p>\n",
       "</div>"
      ],
      "text/plain": [
       "                                iupac                  smiles   expt    calc\n",
       "0    4-methoxy-N,N-dimethyl-benzamide  CN(C)C(=O)c1ccc(cc1)OC -11.01  -9.625\n",
       "1            methanesulfonyl chloride            CS(=O)(=O)Cl  -4.87  -6.219\n",
       "2                   3-methylbut-1-ene                CC(C)C=C   1.83   2.452\n",
       "3                     2-ethylpyrazine              CCc1cnccn1  -5.45  -5.809\n",
       "4                         heptan-1-ol                CCCCCCCO  -4.21  -2.917\n",
       "..                                ...                     ...    ...     ...\n",
       "637                  methyl octanoate          CCCCCCCC(=O)OC  -2.04  -3.035\n",
       "638                       pyrrolidine                 C1CCNC1  -5.48  -4.278\n",
       "639             4-hydroxybenzaldehyde          c1cc(ccc1C=O)O  -8.83 -10.050\n",
       "640                   1-chloroheptane               CCCCCCCCl   0.29   1.467\n",
       "641                       1,4-dioxane                C1COCCO1  -5.06  -4.269\n",
       "\n",
       "[642 rows x 4 columns]"
      ]
     },
     "execution_count": 9,
     "metadata": {},
     "output_type": "execute_result"
    }
   ],
   "source": [
    "data = dm.data.freesolv()\n",
    "data"
   ]
  },
  {
   "cell_type": "markdown",
   "metadata": {},
   "source": [
    "- **threshold** -- This is the ECFP4 1024-bit Tanimoto similarity threshold. Molecules more similar than this threshold are considered too similar and can be grouped together in one cluster. The default value is 0.4.\n",
    "\n",
    "- **min_cluster_size** -- Sets a minimum number of molecules per cluster. The default is 5. This is why in the previous section you saw clusters of five molecules.\n",
    "\n",
    "- **max_clusters** -- The algorithm stops either when there are no more suitable clusters or when the max_clusters limit is reached. This can be useful for limiting your test set to get more molecules in the train set. The default is 50.\n",
    "\n",
    "- **std_threshold** --  We aim to evaluate models on their ability to rank very similar molecules by activity. What if the molecules actually have the same activity and all the variability in the data is explained by experimental noise? This is quite possible since the molecules are very similar. Therefore, the algorithm only selects clusters whose intracluster variation exceeds noise variation. This behavior is controlled by the **std_threshold** parameter, which is why we pass the activity values in the `split()` method. A larger **std_threshold** results in the selection of more variable clusters. Choose this based on the quality of your data. The default is 0.60, which is the standard deviation of noise for logKi data in ChEMBL, a quite noisy dataset. If you use in-house data, a threshold of 0.2 might be more suitable. For more info see: *Steshin 2023, Lo-Hi: Practical ML Drug Discovery Benchmark, appendix B: Lo is not just a noise*"
   ]
  },
  {
   "cell_type": "code",
   "execution_count": 10,
   "metadata": {},
   "outputs": [
    {
     "name": "stderr",
     "output_type": "stream",
     "text": [
      "Collecting clusters:   2%|▏         | 1/50 [00:00<00:07,  6.87it/s]\n",
      "\u001b[32m2024-04-06 13:40:18.116\u001b[0m | \u001b[1mINFO    \u001b[0m | \u001b[36msplito.lohi._lo\u001b[0m:\u001b[36m_select_distinct_clusters\u001b[0m:\u001b[36m99\u001b[0m - \u001b[1mFound 1 clusters.\u001b[0m\n"
     ]
    }
   ],
   "source": [
    "# An example of different parameters\n",
    "lo_splitter = LoSplitter(\n",
    "    threshold=0.6,\n",
    "    min_cluster_size=10,\n",
    "    max_clusters=50,\n",
    "    std_threshold=0.2\n",
    ")\n",
    "train_idx, cluster_idx = lo_splitter.split(data['smiles'], data['calc'])"
   ]
  },
  {
   "cell_type": "code",
   "execution_count": 11,
   "metadata": {},
   "outputs": [
    {
     "data": {
      "text/html": [
       "<div>\n",
       "<style scoped>\n",
       "    .dataframe tbody tr th:only-of-type {\n",
       "        vertical-align: middle;\n",
       "    }\n",
       "\n",
       "    .dataframe tbody tr th {\n",
       "        vertical-align: top;\n",
       "    }\n",
       "\n",
       "    .dataframe thead th {\n",
       "        text-align: right;\n",
       "    }\n",
       "</style>\n",
       "<table border=\"1\" class=\"dataframe\">\n",
       "  <thead>\n",
       "    <tr style=\"text-align: right;\">\n",
       "      <th></th>\n",
       "      <th>iupac</th>\n",
       "      <th>smiles</th>\n",
       "      <th>expt</th>\n",
       "      <th>calc</th>\n",
       "    </tr>\n",
       "  </thead>\n",
       "  <tbody>\n",
       "    <tr>\n",
       "      <th>37</th>\n",
       "      <td>decan-1-ol</td>\n",
       "      <td>CCCCCCCCCCO</td>\n",
       "      <td>-3.64</td>\n",
       "      <td>-2.446</td>\n",
       "    </tr>\n",
       "    <tr>\n",
       "      <th>39</th>\n",
       "      <td>nonane</td>\n",
       "      <td>CCCCCCCCC</td>\n",
       "      <td>3.13</td>\n",
       "      <td>3.221</td>\n",
       "    </tr>\n",
       "    <tr>\n",
       "      <th>88</th>\n",
       "      <td>heptane</td>\n",
       "      <td>CCCCCCC</td>\n",
       "      <td>2.67</td>\n",
       "      <td>2.925</td>\n",
       "    </tr>\n",
       "    <tr>\n",
       "      <th>204</th>\n",
       "      <td>hexan-1-ol</td>\n",
       "      <td>CCCCCCO</td>\n",
       "      <td>-4.40</td>\n",
       "      <td>-3.000</td>\n",
       "    </tr>\n",
       "    <tr>\n",
       "      <th>217</th>\n",
       "      <td>butan-1-ol</td>\n",
       "      <td>CCCCO</td>\n",
       "      <td>-4.72</td>\n",
       "      <td>-3.232</td>\n",
       "    </tr>\n",
       "    <tr>\n",
       "      <th>263</th>\n",
       "      <td>decane</td>\n",
       "      <td>CCCCCCCCCC</td>\n",
       "      <td>3.16</td>\n",
       "      <td>3.335</td>\n",
       "    </tr>\n",
       "    <tr>\n",
       "      <th>368</th>\n",
       "      <td>nonan-1-ol</td>\n",
       "      <td>CCCCCCCCCO</td>\n",
       "      <td>-3.88</td>\n",
       "      <td>-2.564</td>\n",
       "    </tr>\n",
       "    <tr>\n",
       "      <th>437</th>\n",
       "      <td>octan-1-ol</td>\n",
       "      <td>CCCCCCCCO</td>\n",
       "      <td>-4.09</td>\n",
       "      <td>-2.690</td>\n",
       "    </tr>\n",
       "    <tr>\n",
       "      <th>494</th>\n",
       "      <td>octane</td>\n",
       "      <td>CCCCCCCC</td>\n",
       "      <td>2.88</td>\n",
       "      <td>3.088</td>\n",
       "    </tr>\n",
       "    <tr>\n",
       "      <th>572</th>\n",
       "      <td>pentan-1-ol</td>\n",
       "      <td>CCCCCO</td>\n",
       "      <td>-4.57</td>\n",
       "      <td>-3.054</td>\n",
       "    </tr>\n",
       "  </tbody>\n",
       "</table>\n",
       "</div>"
      ],
      "text/plain": [
       "           iupac       smiles  expt   calc\n",
       "37    decan-1-ol  CCCCCCCCCCO -3.64 -2.446\n",
       "39        nonane    CCCCCCCCC  3.13  3.221\n",
       "88       heptane      CCCCCCC  2.67  2.925\n",
       "204   hexan-1-ol      CCCCCCO -4.40 -3.000\n",
       "217   butan-1-ol        CCCCO -4.72 -3.232\n",
       "263       decane   CCCCCCCCCC  3.16  3.335\n",
       "368   nonan-1-ol   CCCCCCCCCO -3.88 -2.564\n",
       "437   octan-1-ol    CCCCCCCCO -4.09 -2.690\n",
       "494       octane     CCCCCCCC  2.88  3.088\n",
       "572  pentan-1-ol       CCCCCO -4.57 -3.054"
      ]
     },
     "execution_count": 11,
     "metadata": {},
     "output_type": "execute_result"
    }
   ],
   "source": [
    "data.iloc[cluster_idx[0]]"
   ]
  },
  {
   "cell_type": "code",
   "execution_count": 12,
   "metadata": {},
   "outputs": [
    {
     "data": {
      "image/png": "[encoded data removed]",
      "text/plain": [
       "<IPython.core.display.Image object>"
      ]
     },
     "execution_count": 12,
     "metadata": {},
     "output_type": "execute_result"
    }
   ],
   "source": [
    "# Visualize the cluster\n",
    "cluster_smiles = data.iloc[cluster_idx[0]]['smiles']\n",
    "molecules = [Chem.MolFromSmiles(smiles) for smiles in cluster_smiles]\n",
    "img = Draw.MolsToGridImage(molecules, molsPerRow=5, subImgSize=(300, 300))\n",
    "img"
   ]
  },
  {
   "cell_type": "markdown",
   "metadata": {},
   "source": [
    "## Further reading\n",
    "We explored how to split your data to train a model for lead optimization or to guide molecular generation. You can discover which models are better suited for this Lo task or find more detailed information about Lo design in the related NeurIPS 2023 Dataset and Benchmarks paper: [Steshin 2023, Lo-Hi: Practical ML Drug Discovery Benchmark](https://arxiv.org/abs/2310.06399)."
   ]
  }
 ],
 "metadata": {
  "kernelspec": {
   "display_name": "Python 3",
   "language": "python",
   "name": "python3"
  },
  "language_info": {
   "codemirror_mode": {
    "name": "ipython",
    "version": 3
   },
   "file_extension": ".py",
   "mimetype": "text/x-python",
   "name": "python",
   "nbconvert_exporter": "python",
   "pygments_lexer": "ipython3",
   "version": "3.12.1"
  }
 },
 "nbformat": 4,
 "nbformat_minor": 2
}

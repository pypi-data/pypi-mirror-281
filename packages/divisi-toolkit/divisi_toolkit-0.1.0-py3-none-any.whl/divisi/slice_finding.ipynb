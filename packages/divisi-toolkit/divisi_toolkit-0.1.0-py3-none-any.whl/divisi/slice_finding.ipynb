{
 "cells": [
  {
   "cell_type": "code",
   "execution_count": 147,
   "id": "de86cd91",
   "metadata": {},
   "outputs": [],
   "source": [
    "import numpy as np\n",
    "import pandas as pd\n",
    "import matplotlib.pyplot as plt\n",
    "%matplotlib inline"
   ]
  },
  {
   "cell_type": "markdown",
   "id": "c600e70e",
   "metadata": {},
   "source": [
    "# Boston Housing Dataset\n",
    "\n",
    "* CRIM - per capita crime rate by town\n",
    "* ZN - proportion of residential land zoned for lots over 25,000 sq.ft.\n",
    "* INDUS - proportion of non-retail business acres per town.\n",
    "* CHAS - Charles River dummy variable (1 if tract bounds river; 0 otherwise)\n",
    "* NOX - nitric oxides concentration (parts per 10 million)\n",
    "* RM - average number of rooms per dwelling\n",
    "* AGE - proportion of owner-occupied units built prior to 1940\n",
    "* DIS - weighted distances to five Boston employment centres\n",
    "* RAD - index of accessibility to radial highways\n",
    "* TAX - full-value property-tax rate per \\$10,000\n",
    "* PTRATIO - pupil-teacher ratio by town\n",
    "* B - 1000(Bk - 0.63)^2 where Bk is the Black population proportion by town\n",
    "* LSTAT - \\% lower status of the population\n",
    "* MEDV - Median value of owner-occupied homes in \\$1000's"
   ]
  },
  {
   "cell_type": "code",
   "execution_count": 148,
   "id": "b6b5477b",
   "metadata": {},
   "outputs": [],
   "source": [
    "df = pd.read_csv(\"housing.csv\", header=None, sep='\\s+')\n",
    "df.columns = [\"crim\", \"zn\", \"indus\", \"chas\", \"nox\", \"rm\", \"age\", \"dis\", \"rad\", \"tax\", \"ptratio\", \"black\", \"lstat\", \"medv\"]\n",
    "df = df[df[\"medv\"] < 50]"
   ]
  },
  {
   "cell_type": "code",
   "execution_count": 149,
   "id": "a6a2e8d0",
   "metadata": {},
   "outputs": [
    {
     "data": {
      "image/png": "[encoded data removed]",
      "text/plain": [
       "<Figure size 640x480 with 1 Axes>"
      ]
     },
     "metadata": {},
     "output_type": "display_data"
    }
   ],
   "source": [
    "# The outcome variable is medv, the house price value. Let's discretize it into bins so that we can\n",
    "# calculate entropy, etc.\n",
    "\n",
    "num_bins = 10\n",
    "outcome_bins = np.histogram_bin_edges(df[\"medv\"], bins=num_bins)\n",
    "discrete_outcomes = np.digitize(df[\"medv\"], bins=outcome_bins)\n",
    "\n",
    "# print (discrete_outcomes.min())\n",
    "# print (discrete_outcomes.max())\n",
    "\n",
    "plt.hist(discrete_outcomes)\n",
    "plt.xlabel(\"Value Bin\")\n",
    "plt.ylabel(\"Count\");"
   ]
  },
  {
   "cell_type": "code",
   "execution_count": 150,
   "id": "38ee9456",
   "metadata": {},
   "outputs": [],
   "source": [
    "def discretize_data(df, spec):\n",
    "    discrete_columns = {}\n",
    "    for col, col_spec in spec.items():\n",
    "        if col_spec[\"method\"] == \"keep\":\n",
    "            discrete_columns[col] = df[col].values\n",
    "        elif col_spec[\"method\"] == \"bin\":\n",
    "            discrete_columns[col] = np.digitize(df[col], col_spec[\"bins\"])\n",
    "    return pd.DataFrame(discrete_columns, index=df.index)\n",
    "\n",
    "discrete_df = discretize_data(df, {\n",
    "    \"crim\": { \"method\": \"bin\", \"bins\": [np.mean(df[\"crim\"])] },\n",
    "    \"zn\": { \"method\": \"bin\", \"bins\": [1.0] },\n",
    "    \"indus\": { \"method\": \"bin\", \"bins\": np.quantile(df[\"indus\"], [0.25, 0.5, 0.75]) },\n",
    "    \"chas\": { \"method\": \"keep\" },\n",
    "    \"nox\": { \"method\": \"bin\", \"bins\": np.quantile(df[\"nox\"], [0.25, 0.5, 0.75]) },\n",
    "    \"rm\": { \"method\": \"bin\", \"bins\": np.quantile(df[\"rm\"], [0.25, 0.5, 0.75]) },\n",
    "    \"age\": { \"method\": \"bin\", \"bins\": np.quantile(df[\"age\"], [0.25, 0.5, 0.75]) },\n",
    "    \"dis\": { \"method\": \"bin\", \"bins\": np.quantile(df[\"dis\"], [0.25, 0.5, 0.75]) },\n",
    "    \"rad\": { \"method\": \"bin\", \"bins\": np.quantile(df[\"rad\"], [0.25, 0.5, 0.75]) },\n",
    "    \"tax\": { \"method\": \"bin\", \"bins\": np.quantile(df[\"tax\"], [0.25, 0.5, 0.75]) },\n",
    "    \"ptratio\": { \"method\": \"bin\", \"bins\": np.quantile(df[\"ptratio\"], [0.25, 0.5, 0.75]) },\n",
    "    \"black\": { \"method\": \"bin\", \"bins\": np.quantile(df[\"black\"], [0.25, 0.5, 0.75]) },\n",
    "    \"lstat\": { \"method\": \"bin\", \"bins\": np.quantile(df[\"lstat\"], [0.25, 0.5, 0.75]) },\n",
    "})"
   ]
  },
  {
   "cell_type": "code",
   "execution_count": 151,
   "id": "d16e822a",
   "metadata": {},
   "outputs": [],
   "source": [
    "def calc_entropy(inputs):\n",
    "    \"\"\"\n",
    "    Calculates the Shannon entropy of the given inputs, where inputs is an\n",
    "    array or series of discrete values.\n",
    "    \"\"\"\n",
    "    unique, counts = np.unique(inputs, return_counts=True)\n",
    "    return -np.sum((counts / len(inputs)) * np.log2(counts / len(inputs)))\n",
    "    \n",
    "def entropy_difference(outcomes, mask):\n",
    "    \"\"\"\n",
    "    Calculates a score that is higher when the distribution of outcomes \n",
    "    inside the given mask has a LOWER entropy than the distribution\n",
    "    overall.\n",
    "    \n",
    "    Args:\n",
    "        outcomes: A 1D or 2D array of discrete outcome values.\n",
    "        mask: A 1D boolean array indicating whether each row\n",
    "            is part of the slice being evaluated or not.\n",
    "    \"\"\"\n",
    "    if len(outcomes.shape) > 1:\n",
    "        return sum([calc_entropy(outcomes[:,i]) / calc_entropy(outcomes[mask,i])\n",
    "                    for i in range(outcomes.shape[1])]) / outcomes.shape[1]\n",
    "    else:\n",
    "        if (calc_entropy(outcomes[mask]) > 0 ):\n",
    "            return calc_entropy(outcomes) / calc_entropy(outcomes[mask])\n",
    "        else :\n",
    "            return 0\n",
    "\n",
    "def mean_difference_l1(outcomes, mask):\n",
    "    \"\"\"\n",
    "    Calculates a score that is higher when there is a larger difference\n",
    "    between the average outcomes inside the given mask and the overall\n",
    "    dataset, normalized by the population standard deviation.\n",
    "    \n",
    "    Args:\n",
    "        outcomes: A 1D or 2D array of discrete (but ordered) outcome\n",
    "            values.\n",
    "        mask: A 1D boolean array indicating whether each row\n",
    "            is part of the slice being evaluated or not.\n",
    "    \"\"\"\n",
    "    if len(outcomes.shape) > 1:\n",
    "        return np.abs(np.mean((outcomes[mask].mean(axis=0) - outcomes.mean(axis=0)) / outcomes.std(axis=0)))\n",
    "    else:\n",
    "        return (outcomes[mask].mean() - outcomes.mean()) / outcomes.std()\n",
    "    \n",
    "def group_size(outcomes, mask):\n",
    "    return np.log2(1 + mask.sum() / len(mask))"
   ]
  },
  {
   "cell_type": "code",
   "execution_count": 152,
   "id": "8fecd59f",
   "metadata": {},
   "outputs": [
    {
     "name": "stdout",
     "output_type": "stream",
     "text": [
      "27 examples in slice\n",
      "Entropy score: 1.066727205923479\n",
      "Difference score: 1.1916646422283717\n",
      "Group size score: 0.07738253131236406\n"
     ]
    },
    {
     "data": {
      "image/png": "[encoded data removed]",
      "text/plain": [
       "<Figure size 720x360 with 1 Axes>"
      ]
     },
     "metadata": {},
     "output_type": "display_data"
    }
   ],
   "source": [
    "# A slice is defined by a set of pairs of columns and the values they take: [(col name, value)...]\n",
    "# For instance, here we select a slice where all instances have the \"indus\" field with value 0\n",
    "# and the \"dis\" field with value 2.\n",
    "example_slice = (discrete_df[\"indus\"] == 0) & (discrete_df[\"dis\"] == 2)\n",
    "print(example_slice.sum(), \"examples in slice\")\n",
    "\n",
    "print(\"Entropy score:\", entropy_difference(discrete_outcomes, example_slice))\n",
    "print(\"Difference score:\", mean_difference_l1(discrete_outcomes, example_slice))\n",
    "print(\"Group size score:\", group_size(discrete_outcomes, example_slice))\n",
    "\n",
    "# Plot the difference in outcomes using a histogram\n",
    "plt.figure(figsize=(4, 2), dpi=180)\n",
    "plt.hist(discrete_outcomes, bins=np.arange(num_bins + 1), alpha=0.3, density=True, label='overall')\n",
    "plt.hist(discrete_outcomes[example_slice], bins=np.arange(num_bins + 1), alpha=0.3, density=True, label='in slice')\n",
    "plt.xlabel(\"Outcome Value Bin\")\n",
    "plt.ylabel(\"Density\")\n",
    "plt.legend()\n",
    "plt.show()"
   ]
  },
  {
   "cell_type": "code",
   "execution_count": 153,
   "id": "78bd8ddb",
   "metadata": {},
   "outputs": [],
   "source": [
    "# Implement a function that brute-force searches all possible slices of at most M features,\n",
    "# and returns the top K slices\n",
    "import itertools\n",
    "\n",
    "# Class to hold data about a particular slice which includes it's score, features and values for the features.\n",
    "class Slice:\n",
    "    def __init__(self, score, features, values):\n",
    "        self.score = score\n",
    "        self.features = features\n",
    "        self.values = values\n",
    "        \n",
    "    def __lt__(self, other):\n",
    "        return self.score < other.score\n",
    "\n",
    "def add_to_top_k_list(top_k_list, k, item):\n",
    "    if (len(top_k_list) < k):\n",
    "        top_k_list.append(item)\n",
    "    else:\n",
    "        min_index = top_k_list.index(min(top_k_list))\n",
    "        if (top_k_list[min_index].score < item.score):\n",
    "            top_k_list[min_index] = item\n",
    "\n",
    "\n",
    "# function to assign values and generate combinations for selected features of a slice\n",
    "def generate_values_for_feature_set(discrete_df, features):\n",
    "    n = len(features)\n",
    "    ranges = []\n",
    "    for feature in features:\n",
    "        ranges.append(range(discrete_df[feature].max()))\n",
    "\n",
    "    # using itertools to generate all unique combinations of n features\n",
    "    combinations = list(itertools.product(*ranges))\n",
    "    return combinations\n",
    "\n",
    "# calculate scores for slices and store it in a list\n",
    "def calculate_scores (discrete_df, discrete_outcomes, features, combinations, K, top_k_slices):\n",
    "#     print (features)\n",
    "#     print (combinations)\n",
    "    features_count = len(features)\n",
    "    current_slice = []\n",
    "\n",
    "    # here a combination is set of discrete values for a particular feature set\n",
    "    for combination in combinations:\n",
    "        for index in range(len(features)):\n",
    "            if (index == 0):\n",
    "                current_slice = discrete_df[features[index]] == combination[index]\n",
    "            else :\n",
    "                current_slice = current_slice & (discrete_df[features[index]] == combination[index])\n",
    "\n",
    "        if (current_slice.sum() > 0):\n",
    "            score = entropy_difference(discrete_outcomes, current_slice) + mean_difference_l1(discrete_outcomes, current_slice) + group_size(discrete_outcomes, current_slice) \n",
    "            new_slice = Slice(score, features, combination)\n",
    "            add_to_top_k_list(top_k_slices, K, new_slice)\n",
    "    \n",
    "# function to generate all feature combinations of size m\n",
    "def generate_feature_combinations(features, M):\n",
    "    for feature_set in itertools.combinations(features, M):\n",
    "        yield feature_set\n",
    "        \n",
    "# function to populate top_k_slices with data considering at the most M features\n",
    "def populate_slices(discrete_df, discrete_outcomes, M, K, top_k_slices):\n",
    "#     print (discrete_df.columns)\n",
    "    print (\"Slice finding for\", M, \"feature(s)\")\n",
    "    for value in generate_feature_combinations(discrete_df.columns, M):\n",
    "        combinations = generate_values_for_feature_set(discrete_df, value)\n",
    "        calculate_scores(discrete_df, discrete_outcomes, value, combinations, K, top_k_slices)\n",
    "    print (\"Done for: \", M)"
   ]
  },
  {
   "cell_type": "code",
   "execution_count": 154,
   "id": "32deb30c",
   "metadata": {},
   "outputs": [
    {
     "name": "stdout",
     "output_type": "stream",
     "text": [
      "Slice finding for 1 feature(s)\n",
      "Done for:  1\n",
      "Slice finding for 2 feature(s)\n",
      "Done for:  2\n",
      "Slice finding for 3 feature(s)\n",
      "Done for:  3\n",
      "Slice finding for 4 feature(s)\n",
      "Done for:  4\n",
      "7.834519016039068 ('indus', 'nox', 'lstat') (1, 1, 2)\n",
      "7.834519016039068 ('crim', 'indus', 'nox', 'lstat') (0, 1, 1, 2)\n",
      "7.452333677784524 ('indus', 'chas', 'nox', 'lstat') (1, 0, 1, 2)\n",
      "7.06626149322504 ('indus', 'nox', 'rad', 'lstat') (1, 1, 2, 2)\n",
      "6.676074450229697 ('crim', 'indus', 'rad', 'tax') (0, 1, 2, 0)\n",
      "6.676074450229697 ('indus', 'chas', 'rad', 'tax') (1, 0, 2, 0)\n",
      "6.676074450229697 ('indus', 'nox', 'rad', 'tax') (1, 1, 2, 0)\n",
      "6.676074450229697 ('zn', 'nox', 'rad', 'tax') (0, 1, 2, 0)\n",
      "6.676074450229697 ('indus', 'rad', 'tax') (1, 2, 0)\n",
      "6.676074450229697 ('zn', 'indus', 'rad', 'tax') (0, 1, 2, 0)\n"
     ]
    }
   ],
   "source": [
    "def find_slices(discrete_df, discrete_outcomes, M, K):\n",
    "    # set value for M: maximum number of features to include\n",
    "    M = 4\n",
    "\n",
    "    # set the value of K: number of top slices to find\n",
    "    K = 10\n",
    "\n",
    "    # list to store objects of Slice type\n",
    "    top_k_slices = []\n",
    "\n",
    "    # populate slices from size 1 to M\n",
    "    for index in range(1, M + 1):\n",
    "        populate_slices(discrete_df, discrete_outcomes, index, K, top_k_slices)\n",
    "\n",
    "    top_k_slices.sort(key=lambda x: x.score, reverse=True)\n",
    "        \n",
    "    return top_k_slices\n",
    "\n",
    "top_k_slices = find_slices(discrete_df, discrete_outcomes, M, K)\n",
    "\n",
    "for a_slice in top_k_slices:\n",
    "    print(a_slice.score, a_slice.features, a_slice.values)"
   ]
  },
  {
   "cell_type": "code",
   "execution_count": 155,
   "id": "b2ac8662",
   "metadata": {},
   "outputs": [
    {
     "name": "stdout",
     "output_type": "stream",
     "text": [
      "15 examples in slice\n",
      "Score:  7.834519016039068\n",
      "Entropy score: 7.933455899133602\n",
      "Difference score: -0.14243852173112032\n",
      "Group size score: 0.04350163863658642\n",
      "\n",
      "('indus', 'nox', 'lstat')\n",
      "(1, 1, 2)\n",
      "\n",
      "Following is graph for slice with highest overall score:\n"
     ]
    },
    {
     "data": {
      "image/png": "[encoded data removed]",
      "text/plain": [
       "<Figure size 720x360 with 1 Axes>"
      ]
     },
     "metadata": {},
     "output_type": "display_data"
    }
   ],
   "source": [
    "max_score_slice = []\n",
    "\n",
    "combination = top_k_slices[0].values\n",
    "features = top_k_slices[0].features\n",
    "\n",
    "# here a combination is set of discrete values for a particular feature set\n",
    "for index in range(len(features)):\n",
    "    if (index == 0):\n",
    "        max_score_slice = discrete_df[features[index]] == combination[index]\n",
    "    else :\n",
    "        max_score_slice = max_score_slice & (discrete_df[features[index]] == combination[index])\n",
    "        \n",
    "print(max_score_slice.sum(), \"examples in slice\")\n",
    "\n",
    "if (max_score_slice.sum() > 0):\n",
    "    score = entropy_difference(discrete_outcomes, max_score_slice) + mean_difference_l1(discrete_outcomes, max_score_slice) + group_size(discrete_outcomes, max_score_slice) \n",
    "    print (\"Score: \", score)\n",
    "\n",
    "print(\"Entropy score:\", entropy_difference(discrete_outcomes, max_score_slice))\n",
    "print(\"Difference score:\", mean_difference_l1(discrete_outcomes, max_score_slice))\n",
    "print(\"Group size score:\", group_size(discrete_outcomes, max_score_slice))\n",
    "\n",
    "print (\"\")\n",
    "print (features)\n",
    "print (combination)\n",
    "\n",
    "print (\"\")\n",
    "print (\"Following is graph for slice with highest overall score:\")\n",
    "# Plot the difference in outcomes using a histogram\n",
    "plt.figure(figsize=(4, 2), dpi=180)\n",
    "plt.hist(discrete_outcomes, bins=np.arange(num_bins + 1), alpha=0.3, density=True, label='overall')\n",
    "plt.hist(discrete_outcomes[max_score_slice], bins=np.arange(num_bins + 1), alpha=0.3, density=True, label='in slice')\n",
    "plt.xlabel(\"Outcome Value Bin\")\n",
    "plt.ylabel(\"Density\")\n",
    "plt.legend()\n",
    "plt.show()\n"
   ]
  }
 ],
 "metadata": {
  "kernelspec": {
   "display_name": "Python 3 (ipykernel)",
   "language": "python",
   "name": "python3"
  },
  "language_info": {
   "codemirror_mode": {
    "name": "ipython",
    "version": 3
   },
   "file_extension": ".py",
   "mimetype": "text/x-python",
   "name": "python",
   "nbconvert_exporter": "python",
   "pygments_lexer": "ipython3",
   "version": "3.10.8"
  }
 },
 "nbformat": 4,
 "nbformat_minor": 5
}

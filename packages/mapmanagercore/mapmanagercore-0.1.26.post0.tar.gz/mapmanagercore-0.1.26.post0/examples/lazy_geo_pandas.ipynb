{
 "cells": [
  {
   "cell_type": "code",
   "execution_count": 1,
   "metadata": {},
   "outputs": [],
   "source": [
    "%load_ext autoreload\n",
    "%autoreload 2"
   ]
  },
  {
   "cell_type": "code",
   "execution_count": 6,
   "metadata": {},
   "outputs": [
    {
     "data": {
      "text/plain": [
       "False"
      ]
     },
     "execution_count": 6,
     "metadata": {},
     "output_type": "execute_result"
    }
   ],
   "source": [
    "import pandas as pd\n",
    "3 in pd.DataFrame({'a': [1, 2, 3], 'b': [4, 5, 6]}).index"
   ]
  },
  {
   "cell_type": "code",
   "execution_count": 13,
   "metadata": {},
   "outputs": [],
   "source": [
    "from mapmanagercore.lazy_geo_pandas import schema, calculated, LazyGeoFrame, LazyGeoSeries, seriesSchema\n",
    "\n",
    "@seriesSchema()\n",
    "class Config:\n",
    "    t: int = 1\n",
    "    b: int = 5\n",
    "    c: int = 6\n",
    "\n",
    "@schema(index=[\"b\", \"t\"])\n",
    "class B:\n",
    "    t: int = 1\n",
    "    b: int = 5\n",
    "    c: int = 6\n",
    "\n",
    "\n",
    "@schema(index=[\"a\", \"t\"], relationships={\n",
    "    B: [\"b\", 't']\n",
    "}, properties={\n",
    "    \"a\": {\n",
    "        \"categorical\": False,\n",
    "        \"title\": \"A\"\n",
    "    },\n",
    "    \"t\": {\n",
    "        \"categorical\": True,\n",
    "        \"title\": \"Time\"\n",
    "    }\n",
    "})\n",
    "class A:\n",
    "    a: int = 3\n",
    "    t: int\n",
    "    b: int\n",
    "\n",
    "    @calculated(title=\"Test\", dependencies=[\"b\", \"c\"])\n",
    "    def calculatedTest(frame: LazyGeoFrame):\n",
    "        return frame[\"b\"]\n",
    "\n",
    "    @calculated(title=\"Test2\", dependencies={\"A\": [\"calculatedTest\"], \"Config\": [\"b\"]})\n",
    "    def calculatedTest2(frame: LazyGeoFrame):\n",
    "        config = frame.getFrame(\"Config\")\n",
    "        return config[\"b\"]\n",
    "\n",
    "\n",
    "aFrame = LazyGeoFrame(A)\n",
    "bFrame = LazyGeoFrame(B)\n",
    "cSeries = LazyGeoSeries(Config)\n",
    "aFrame.update((1, 2), A(b=2))\n",
    "aFrame.update((2, 2), A(b=2))\n",
    "bFrame.update((2, 2), B(c=3))"
   ]
  },
  {
   "cell_type": "code",
   "execution_count": 20,
   "metadata": {},
   "outputs": [],
   "source": [
    "cSeries.update(Config.withDefaults(b=3))"
   ]
  },
  {
   "cell_type": "code",
   "execution_count": 8,
   "metadata": {},
   "outputs": [
    {
     "data": {
      "text/plain": [
       "b    2\n",
       "c    6\n",
       "Name: 0, dtype: Int64"
      ]
     },
     "execution_count": 8,
     "metadata": {},
     "output_type": "execute_result"
    }
   ],
   "source": [
    "cSeries[[\"b\", \"c\"]]"
   ]
  },
  {
   "cell_type": "code",
   "execution_count": 4,
   "metadata": {},
   "outputs": [],
   "source": [
    "aFrame.redo()"
   ]
  },
  {
   "cell_type": "code",
   "execution_count": 11,
   "metadata": {},
   "outputs": [],
   "source": [
    "aFrame.update((1, 2), A(a=1, t=2, b=3))\n"
   ]
  },
  {
   "cell_type": "code",
   "execution_count": 21,
   "metadata": {},
   "outputs": [
    {
     "data": {
      "text/html": [
       "<div>\n",
       "<style scoped>\n",
       "    .dataframe tbody tr th:only-of-type {\n",
       "        vertical-align: middle;\n",
       "    }\n",
       "\n",
       "    .dataframe tbody tr th {\n",
       "        vertical-align: top;\n",
       "    }\n",
       "\n",
       "    .dataframe thead th {\n",
       "        text-align: right;\n",
       "    }\n",
       "</style>\n",
       "<table border=\"1\" class=\"dataframe\">\n",
       "  <thead>\n",
       "    <tr style=\"text-align: right;\">\n",
       "      <th></th>\n",
       "      <th></th>\n",
       "      <th>b</th>\n",
       "      <th>calculatedTest</th>\n",
       "      <th>calculatedTest2</th>\n",
       "    </tr>\n",
       "    <tr>\n",
       "      <th>a</th>\n",
       "      <th>t</th>\n",
       "      <th></th>\n",
       "      <th></th>\n",
       "      <th></th>\n",
       "    </tr>\n",
       "  </thead>\n",
       "  <tbody>\n",
       "    <tr>\n",
       "      <th>1</th>\n",
       "      <th>2</th>\n",
       "      <td>2</td>\n",
       "      <td>2</td>\n",
       "      <td>3.0</td>\n",
       "    </tr>\n",
       "    <tr>\n",
       "      <th>2</th>\n",
       "      <th>2</th>\n",
       "      <td>2</td>\n",
       "      <td>2</td>\n",
       "      <td>3.0</td>\n",
       "    </tr>\n",
       "  </tbody>\n",
       "</table>\n",
       "</div>"
      ],
      "text/plain": [
       "     b  calculatedTest  calculatedTest2\n",
       "a t                                    \n",
       "1 2  2               2              3.0\n",
       "2 2  2               2              3.0"
      ]
     },
     "execution_count": 21,
     "metadata": {},
     "output_type": "execute_result"
    }
   ],
   "source": [
    "aFrame[:]"
   ]
  },
  {
   "cell_type": "code",
   "execution_count": 22,
   "metadata": {},
   "outputs": [
    {
     "data": {
      "text/html": [
       "<div>\n",
       "<style scoped>\n",
       "    .dataframe tbody tr th:only-of-type {\n",
       "        vertical-align: middle;\n",
       "    }\n",
       "\n",
       "    .dataframe tbody tr th {\n",
       "        vertical-align: top;\n",
       "    }\n",
       "\n",
       "    .dataframe thead th {\n",
       "        text-align: right;\n",
       "    }\n",
       "</style>\n",
       "<table border=\"1\" class=\"dataframe\">\n",
       "  <thead>\n",
       "    <tr style=\"text-align: right;\">\n",
       "      <th></th>\n",
       "      <th></th>\n",
       "      <th>b</th>\n",
       "      <th>modified</th>\n",
       "      <th>calculatedTest</th>\n",
       "      <th>calculatedTest.valid</th>\n",
       "      <th>calculatedTest2</th>\n",
       "      <th>calculatedTest2.valid</th>\n",
       "    </tr>\n",
       "    <tr>\n",
       "      <th>a</th>\n",
       "      <th>t</th>\n",
       "      <th></th>\n",
       "      <th></th>\n",
       "      <th></th>\n",
       "      <th></th>\n",
       "      <th></th>\n",
       "      <th></th>\n",
       "    </tr>\n",
       "  </thead>\n",
       "  <tbody>\n",
       "    <tr>\n",
       "      <th>1</th>\n",
       "      <th>2</th>\n",
       "      <td>2</td>\n",
       "      <td>2024-05-15 14:03:41.482096</td>\n",
       "      <td>2</td>\n",
       "      <td>True</td>\n",
       "      <td>3.0</td>\n",
       "      <td>True</td>\n",
       "    </tr>\n",
       "    <tr>\n",
       "      <th>2</th>\n",
       "      <th>2</th>\n",
       "      <td>2</td>\n",
       "      <td>2024-05-15 14:03:41.485977</td>\n",
       "      <td>2</td>\n",
       "      <td>True</td>\n",
       "      <td>3.0</td>\n",
       "      <td>True</td>\n",
       "    </tr>\n",
       "  </tbody>\n",
       "</table>\n",
       "</div>"
      ],
      "text/plain": [
       "     b                   modified  calculatedTest calculatedTest.valid  \\\n",
       "a t                                                                      \n",
       "1 2  2 2024-05-15 14:03:41.482096               2                 True   \n",
       "2 2  2 2024-05-15 14:03:41.485977               2                 True   \n",
       "\n",
       "     calculatedTest2 calculatedTest2.valid  \n",
       "a t                                         \n",
       "1 2              3.0                  True  \n",
       "2 2              3.0                  True  "
      ]
     },
     "execution_count": 22,
     "metadata": {},
     "output_type": "execute_result"
    }
   ],
   "source": [
    "aFrame._rootDf"
   ]
  },
  {
   "cell_type": "code",
   "execution_count": null,
   "metadata": {},
   "outputs": [],
   "source": []
  }
 ],
 "metadata": {
  "kernelspec": {
   "display_name": "base",
   "language": "python",
   "name": "python3"
  },
  "language_info": {
   "codemirror_mode": {
    "name": "ipython",
    "version": 3
   },
   "file_extension": ".py",
   "mimetype": "text/x-python",
   "name": "python",
   "nbconvert_exporter": "python",
   "pygments_lexer": "ipython3",
   "version": "3.11.6"
  }
 },
 "nbformat": 4,
 "nbformat_minor": 2
}

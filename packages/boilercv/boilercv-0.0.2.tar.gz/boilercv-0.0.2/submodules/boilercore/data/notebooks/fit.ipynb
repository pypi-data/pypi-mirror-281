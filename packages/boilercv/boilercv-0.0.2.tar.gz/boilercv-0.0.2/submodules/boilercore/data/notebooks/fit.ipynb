{
 "cells": [
  {
   "cell_type": "code",
   "execution_count": null,
   "metadata": {},
   "outputs": [],
   "source": [
    "from pathlib import Path\n",
    "\n",
    "import numpy as np\n",
    "from matplotlib.pyplot import subplots\n",
    "\n",
    "from boilercore.fits import combine_params_and_errors, fit_and_plot\n",
    "from boilercore.modelfun import get_model\n",
    "from boilercore.models.fit import FIT, MIN_NONZERO, Fit\n",
    "from boilercore.models.params import PARAMS\n",
    "\n",
    "DECADES = 6\n",
    "PLOT_WIDTH = 4\n",
    "X = PARAMS.geometry.rods[\"R\"]\n",
    "Y = [165.7, 156.8, 149.2, 141.1, 116.4]\n",
    "Y_ERR = np.array([*[2.2] * 4, *[1.0]]) / np.sqrt(10)\n",
    "_, model = get_model(Path(\"data/model.dillpickle\"))\n",
    "\n",
    "\n",
    "def check(fit, ax, run):  # noqa: D103\n",
    "    print(\n",
    "        *(\n",
    "            f\"{k} = {v}\"\n",
    "            for k, v in combine_params_and_errors(\n",
    "                *fit_and_plot(\n",
    "                    model=model, params=fit, x=X, y=Y, y_errors=Y_ERR, ax=ax, run=run\n",
    "                )\n",
    "            ).items()\n",
    "        ),\n",
    "        sep=\"\\t\",\n",
    "    )"
   ]
  },
  {
   "cell_type": "code",
   "execution_count": null,
   "metadata": {},
   "outputs": [],
   "source": [
    "_, ax = subplots(1, 1, figsize=(PLOT_WIDTH, PLOT_WIDTH))\n",
    "check(fit=FIT, ax=ax, run=\"default\")"
   ]
  },
  {
   "cell_type": "code",
   "execution_count": null,
   "metadata": {},
   "outputs": [],
   "source": [
    "def check_initial_values(h, ax):  # noqa: D103\n",
    "    run = f\"h_a0 = {h}\"\n",
    "    print(run, end=\"\\t\")\n",
    "    check(\n",
    "        fit=Fit(\n",
    "            initial_values=dict(T_s=100.0, q_s=10.0, k=400.0, h_a=h, h_w=MIN_NONZERO)\n",
    "        ),\n",
    "        ax=ax,\n",
    "        run=run,\n",
    "    )\n",
    "\n",
    "\n",
    "_, axs = subplots(2, 3, figsize=(4 * 3, 4 * 2), layout=\"constrained\")\n",
    "for decade, ax in zip(range(DECADES), axs.flatten(), strict=True):\n",
    "    check_initial_values(h=MIN_NONZERO * 10**decade, ax=ax)"
   ]
  },
  {
   "cell_type": "code",
   "execution_count": null,
   "metadata": {},
   "outputs": [],
   "source": [
    "def check_initial_values(h, ax):  # noqa: D103\n",
    "    run = f\"h_w = {h}\"\n",
    "    print(run, end=\"\\t\")\n",
    "    check(\n",
    "        fit=Fit(\n",
    "            initial_values=dict(T_s=100.0, q_s=10.0, k=400.0, h_a=MIN_NONZERO, h_w=h)\n",
    "        ),\n",
    "        ax=ax,\n",
    "        run=run,\n",
    "    )\n",
    "\n",
    "\n",
    "_, axs = subplots(2, 3, figsize=(4 * 3, 4 * 2), layout=\"constrained\")\n",
    "for decade, ax in zip(range(DECADES), axs.flatten(), strict=True):\n",
    "    check_initial_values(h=(1e-1) * 10**decade, ax=ax)"
   ]
  }
 ],
 "metadata": {
  "kernelspec": {
   "display_name": ".venv",
   "language": "python",
   "name": "python3"
  },
  "language_info": {
   "codemirror_mode": {
    "name": "ipython",
    "version": 3
   },
   "file_extension": ".py",
   "mimetype": "text/x-python",
   "name": "python",
   "nbconvert_exporter": "python",
   "pygments_lexer": "ipython3",
   "version": "3.11.8"
  }
 },
 "nbformat": 4,
 "nbformat_minor": 2
}

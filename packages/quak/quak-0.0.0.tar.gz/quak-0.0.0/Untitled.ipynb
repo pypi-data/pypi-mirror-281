{
 "cells": [
  {
   "cell_type": "code",
   "execution_count": null,
   "id": "3a877388-c4dc-47b4-ae47-9886f1b10e16",
   "metadata": {},
   "outputs": [],
   "source": [
    "# !wget https://oxbow-ngs.s3.us-east-2.amazonaws.com/example.bam\n",
    "# !wget https://oxbow-ngs.s3.us-east-2.amazonaws.com/example.bam.bai"
   ]
  },
  {
   "cell_type": "code",
   "execution_count": 1,
   "id": "328c3d6f-5d46-47cc-be7c-608df219e5f3",
   "metadata": {},
   "outputs": [
    {
     "data": {
      "application/vnd.jupyter.widget-view+json": {
       "model_id": "f90071ba30b34391b1cf625cf0ff33d5",
       "version_major": 2,
       "version_minor": 1
      },
      "text/plain": [
       "Widget(temp_indexes=True)"
      ]
     },
     "execution_count": 1,
     "metadata": {},
     "output_type": "execute_result"
    }
   ],
   "source": [
    "import oxbow as ox\n",
    "import quak \n",
    "\n",
    "quak.Widget(ox.read_bam(\"example.bam\"))"
   ]
  },
  {
   "cell_type": "code",
   "execution_count": null,
   "id": "e2d7f67b-e699-4054-893e-0fd8c2ba7a0b",
   "metadata": {},
   "outputs": [],
   "source": []
  }
 ],
 "metadata": {
  "kernelspec": {
   "display_name": "Python 3 (ipykernel)",
   "language": "python",
   "name": "python3"
  },
  "language_info": {
   "codemirror_mode": {
    "name": "ipython",
    "version": 3
   },
   "file_extension": ".py",
   "mimetype": "text/x-python",
   "name": "python",
   "nbconvert_exporter": "python",
   "pygments_lexer": "ipython3",
   "version": "3.12.2"
  },
  "widgets": {
   "application/vnd.jupyter.widget-state+json": {
    "state": {},
    "version_major": 2,
    "version_minor": 0
   }
  }
 },
 "nbformat": 4,
 "nbformat_minor": 5
}

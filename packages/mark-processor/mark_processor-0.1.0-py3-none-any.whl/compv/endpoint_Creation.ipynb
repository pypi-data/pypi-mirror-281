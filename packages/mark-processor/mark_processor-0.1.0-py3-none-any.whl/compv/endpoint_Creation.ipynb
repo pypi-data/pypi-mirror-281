{
 "cells": [
  {
   "cell_type": "code",
   "execution_count": 19,
   "metadata": {},
   "outputs": [],
   "source": [
    "from azure.ai.ml import MLClient\n",
    "from azure.identity import ClientSecretCredential\n",
    "from azure.ai.ml.entities import ManagedOnlineEndpoint, ManagedOnlineDeployment, CodeConfiguration\n",
    "import datetime"
   ]
  },
  {
   "cell_type": "code",
   "execution_count": 20,
   "metadata": {},
   "outputs": [],
   "source": [
    "# Azure ML credentials and workspace details\n",
    "subscription_id = \"0a94de80-6d3b-49f2-b3e9-ec5818862801\"\n",
    "resource_group = \"buas-y2\"\n",
    "workspace_name = \"CV3\"\n",
    "tenant_id = \"0a33589b-0036-4fe8-a829-3ed0926af886\"\n",
    "client_id = \"a2230f31-0fda-428d-8c5c-ec79e91a49f5\"\n",
    "client_secret = \"Y-q8Q~H63btsUkR7dnmHrUGw2W0gMWjs0MxLKa1C\""
   ]
  },
  {
   "cell_type": "code",
   "execution_count": 21,
   "metadata": {},
   "outputs": [],
   "source": [
    "credential = ClientSecretCredential(tenant_id, client_id, client_secret)\n",
    "\n",
    "ml_client = MLClient(credential, subscription_id, resource_group, workspace_name)"
   ]
  },
  {
   "cell_type": "code",
   "execution_count": 22,
   "metadata": {},
   "outputs": [
    {
     "name": "stdout",
     "output_type": "stream",
     "text": [
      "Endpoint name: modelprimary06121627240351\n"
     ]
    }
   ],
   "source": [
    "endpoint_name = \"modelprimary\" + datetime.datetime.now().strftime(\"%m%d%H%M%f\")\n",
    "print(f\"Endpoint name: {endpoint_name}\")"
   ]
  },
  {
   "cell_type": "code",
   "execution_count": 23,
   "metadata": {},
   "outputs": [],
   "source": [
    "endpoint = ManagedOnlineEndpoint(\n",
    "    name = endpoint_name, \n",
    "    description=\"this is a sample endpoint\",\n",
    "    auth_mode=\"key\"\n",
    ")\n",
    "\n",
    "endpoint = ml_client.online_endpoints.begin_create_or_update(endpoint).result()"
   ]
  },
  {
   "cell_type": "code",
   "execution_count": 24,
   "metadata": {},
   "outputs": [
    {
     "name": "stdout",
     "output_type": "stream",
     "text": [
      "Endpoint created: auth_mode: key\n",
      "description: this is a sample endpoint\n",
      "id: /subscriptions/0a94de80-6d3b-49f2-b3e9-ec5818862801/resourceGroups/buas-y2/providers/Microsoft.MachineLearningServices/workspaces/CV3/onlineEndpoints/modelprimary06121627240351\n",
      "identity:\n",
      "  principal_id: 57d4c85a-5738-4e4d-b4b5-3be4f24a7ae5\n",
      "  tenant_id: 0a33589b-0036-4fe8-a829-3ed0926af886\n",
      "  type: system_assigned\n",
      "kind: Managed\n",
      "location: westeurope\n",
      "mirror_traffic: {}\n",
      "name: modelprimary06121627240351\n",
      "openapi_uri: https://modelprimary06121627240351.westeurope.inference.ml.azure.com/swagger.json\n",
      "properties:\n",
      "  AzureAsyncOperationUri: https://management.azure.com/subscriptions/0a94de80-6d3b-49f2-b3e9-ec5818862801/providers/Microsoft.MachineLearningServices/locations/westeurope/mfeOperationsStatus/oeidp:fa8960fe-113a-4edf-a0f8-b466a66f5071:2389e9d6-482d-4add-b29d-c76740c46a5d?api-version=2022-02-01-preview\n",
      "  azureml.onlineendpointid: /subscriptions/0a94de80-6d3b-49f2-b3e9-ec5818862801/resourcegroups/buas-y2/providers/microsoft.machinelearningservices/workspaces/cv3/onlineendpoints/modelprimary06121627240351\n",
      "  createdAt: 2024-06-12T14:27:37.335006+0000\n",
      "  createdBy: a2230f31-0fda-428d-8c5c-ec79e91a49f5\n",
      "  lastModifiedAt: 2024-06-12T14:27:37.335006+0000\n",
      "provisioning_state: Succeeded\n",
      "public_network_access: enabled\n",
      "scoring_uri: https://modelprimary06121627240351.westeurope.inference.ml.azure.com/score\n",
      "tags: {}\n",
      "traffic: {}\n",
      "\n"
     ]
    }
   ],
   "source": [
    "print(f\"Endpoint created: {endpoint}\")"
   ]
  },
  {
   "cell_type": "code",
   "execution_count": null,
   "metadata": {},
   "outputs": [],
   "source": []
  }
 ],
 "metadata": {
  "kernelspec": {
   "display_name": "base",
   "language": "python",
   "name": "python3"
  },
  "language_info": {
   "codemirror_mode": {
    "name": "ipython",
    "version": 3
   },
   "file_extension": ".py",
   "mimetype": "text/x-python",
   "name": "python",
   "nbconvert_exporter": "python",
   "pygments_lexer": "ipython3",
   "version": "3.9.12"
  }
 },
 "nbformat": 4,
 "nbformat_minor": 2
}

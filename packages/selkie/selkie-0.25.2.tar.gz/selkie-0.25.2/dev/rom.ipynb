{
 "cells": [
  {
   "cell_type": "code",
   "execution_count": 1,
   "id": "c9d3c22d",
   "metadata": {},
   "outputs": [
    {
     "data": {
      "text/plain": [
       "'/Users/abney/git/hub/selkie/src/selkie/__init__.py'"
      ]
     },
     "execution_count": 1,
     "metadata": {},
     "output_type": "execute_result"
    }
   ],
   "source": [
    "import selkie\n",
    "selkie.__file__"
   ]
  },
  {
   "cell_type": "code",
   "execution_count": 2,
   "id": "8ea9fbaa",
   "metadata": {},
   "outputs": [],
   "source": [
    "import selkie.rom"
   ]
  },
  {
   "cell_type": "code",
   "execution_count": 3,
   "id": "4151350d",
   "metadata": {},
   "outputs": [
    {
     "data": {
      "text/plain": [
       "'ča'"
      ]
     },
     "execution_count": 3,
     "metadata": {},
     "output_type": "execute_result"
    }
   ],
   "source": [
    "b'c*a'.decode('salish')"
   ]
  },
  {
   "cell_type": "code",
   "execution_count": 4,
   "id": "93f05f94",
   "metadata": {},
   "outputs": [
    {
     "data": {
      "text/plain": [
       "<codecs.CodecInfo object for encoding salish at 0x10a948a00>"
      ]
     },
     "execution_count": 4,
     "metadata": {},
     "output_type": "execute_result"
    }
   ],
   "source": [
    "from selkie.rom import find_codec\n",
    "find_codec('salish')"
   ]
  },
  {
   "cell_type": "code",
   "execution_count": 5,
   "id": "c2418129",
   "metadata": {},
   "outputs": [
    {
     "data": {
      "text/plain": [
       "<selkie.rom.Romanization at 0x10a977cd0>"
      ]
     },
     "execution_count": 5,
     "metadata": {},
     "output_type": "execute_result"
    }
   ],
   "source": [
    "from selkie.rom import default_registry\n",
    "default_registry.get('salish')"
   ]
  },
  {
   "cell_type": "code",
   "execution_count": 6,
   "id": "d5f5a9ca",
   "metadata": {},
   "outputs": [
    {
     "data": {
      "text/plain": [
       "['.', <_Path /Users/abney/git/hub/selkie/src/selkie/data/roms>]"
      ]
     },
     "execution_count": 6,
     "metadata": {},
     "output_type": "execute_result"
    }
   ],
   "source": [
    "default_registry.path"
   ]
  },
  {
   "cell_type": "code",
   "execution_count": 7,
   "id": "33900f4e",
   "metadata": {},
   "outputs": [
    {
     "data": {
      "text/plain": [
       "['korean', 'otw-webkamigad', 'salish', 'gothic', 'gothic-student', 'otw-jones']"
      ]
     },
     "execution_count": 7,
     "metadata": {},
     "output_type": "execute_result"
    }
   ],
   "source": [
    "list(default_registry)"
   ]
  },
  {
   "cell_type": "code",
   "execution_count": 8,
   "id": "8a1bb07f",
   "metadata": {},
   "outputs": [],
   "source": [
    "default_registry.path[0:1] = ['../src/selkie/data/examples']"
   ]
  },
  {
   "cell_type": "code",
   "execution_count": 9,
   "id": "d81404a5",
   "metadata": {},
   "outputs": [
    {
     "data": {
      "text/plain": [
       "['romtest',\n",
       " 'korean',\n",
       " 'otw-webkamigad',\n",
       " 'salish',\n",
       " 'gothic',\n",
       " 'gothic-student',\n",
       " 'otw-jones']"
      ]
     },
     "execution_count": 9,
     "metadata": {},
     "output_type": "execute_result"
    }
   ],
   "source": [
    "list(default_registry)"
   ]
  },
  {
   "cell_type": "code",
   "execution_count": 10,
   "id": "ec2493d1",
   "metadata": {},
   "outputs": [
    {
     "data": {
      "text/plain": [
       "'ɬáƛe ˁu'"
      ]
     },
     "execution_count": 10,
     "metadata": {},
     "output_type": "execute_result"
    }
   ],
   "source": [
    "b\"l-a'L-e ?u\".decode('romtest')"
   ]
  },
  {
   "cell_type": "code",
   "execution_count": null,
   "id": "b80d725c",
   "metadata": {},
   "outputs": [],
   "source": []
  }
 ],
 "metadata": {
  "kernelspec": {
   "display_name": "Python 3 (ipykernel)",
   "language": "python",
   "name": "python3"
  },
  "language_info": {
   "codemirror_mode": {
    "name": "ipython",
    "version": 3
   },
   "file_extension": ".py",
   "mimetype": "text/x-python",
   "name": "python",
   "nbconvert_exporter": "python",
   "pygments_lexer": "ipython3",
   "version": "3.11.5"
  }
 },
 "nbformat": 4,
 "nbformat_minor": 5
}
